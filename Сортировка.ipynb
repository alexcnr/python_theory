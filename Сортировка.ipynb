{
 "cells": [
  {
   "cell_type": "code",
   "execution_count": 2,
   "metadata": {},
   "outputs": [
    {
     "name": "stdout",
     "output_type": "stream",
     "text": [
      "[1, 2, 3, 4, 7, 9]\n"
     ]
    }
   ],
   "source": [
    "numbers = [2, 3, 4, 7, 9, 1]\n",
    "numbers.sort()\n",
    "print(numbers)"
   ]
  },
  {
   "cell_type": "code",
   "execution_count": 5,
   "metadata": {},
   "outputs": [
    {
     "name": "stdout",
     "output_type": "stream",
     "text": [
      "['Alex', 'Ann', 'Viktor']\n",
      "['Alex', 'Viktor', 'Ann']\n"
     ]
    }
   ],
   "source": [
    "names = [\"Alex\", \"Viktor\", \"Ann\"]\n",
    "print(sorted(names))\n",
    "print(names)"
   ]
  },
  {
   "cell_type": "code",
   "execution_count": 7,
   "metadata": {},
   "outputs": [
    {
     "name": "stdout",
     "output_type": "stream",
     "text": [
      "['Ann', 'Alex', 'Viktor']\n"
     ]
    }
   ],
   "source": [
    "print(sorted(names, key = len))\n",
    "#СОРТИРОВКА ПО КЛЮЧУ"
   ]
  },
  {
   "cell_type": "markdown",
   "metadata": {},
   "source": [
    "sorted возвращает новый список, в то время как sort возвращает тот же список, реорганизованный.\n"
   ]
  },
  {
   "cell_type": "code",
   "execution_count": 20,
   "metadata": {},
   "outputs": [],
   "source": [
    "def get_event_date(event):\n",
    "    return event.date\n",
    "\n",
    "def current_users(events):\n",
    "    \"\"\"СОРТИРОВОЧНАЯ ФУНКЦИЯ\"\"\"\n",
    "    events.sort(key = get_event_date)\n",
    "    #Внутри функции мы сначала отсортируем наши события, используя метод sort,\n",
    "    #и передаем функцию, которую мы только что создали, в качестве ключа\n",
    "    machines = {} #словарь, в котором мы будем хранить имена конечных пользователей машины\n",
    "    for event in events:#перебор списка событий\n",
    "        #мы хотим проверить, находится ли машина, затронутая этим событием, в словаре. \n",
    "        #Если это не так, мы добавим его с пустым набором в качестве значения\n",
    "        if event.machine not in machines:\n",
    "            machines[event.machine] = set()\n",
    "#Теперь для событий входа в систему мы хотим добавить пользователя в список, \n",
    "#а для событий выхода из системы мы хотим удалить пользователей из списка\n",
    "        if event.type == \"login\":\n",
    "            machines[event.machine].add(event.user)\n",
    "        elif event.type == \"logout\" and event.user in machines:\n",
    "            machines[event.machine].remove(event.user)\n",
    "            \n",
    "#Как только мы закончим итерацию по списку событий, словарь будет содержать все машины, которые мы рассматривали как ключи. \n",
    "#С набором, содержащим текущих пользователей машин в качестве значений, эта функция возвращает словарь\n",
    "    return machines\n",
    "def generate_report(machines):\n",
    "    \"\"\"печать отчета\"\"\"\n",
    "#В нашем отчете мы хотим перебрать ключи и значения в словаре. Для этого мы будем использовать метод items, \n",
    "#который возвращает ключ и значение для каждой пары в словаре.\n",
    "    for machine, users in machines.items():\n",
    "#хотим убедиться, что мы не печатаем машины, на которых никто не вошел в систему. \n",
    "#Это может произойти, если пользователь вошел в систему, а затем вышел из нее. \n",
    "#Чтобы избежать этого, мы приказываем компьютеру печатать только тогда, когда набор пользователей содержит больше нуля\n",
    "        if len(users) > 0:\n",
    "            #сгенерируем строку зарегистрированных пользователей для этой машины, используя метод join.\n",
    "            user_list = \", \".join(users)\n",
    "            print(\"{}: {}\".format(machine, user_list))\n",
    "            \n",
    "            \n",
    "    \n",
    "        "
   ]
  },
  {
   "cell_type": "code",
   "execution_count": 21,
   "metadata": {},
   "outputs": [],
   "source": [
    "#класс событий, который имеет конструктор и устанавливает необходимые атрибуты. \n",
    "#Используя этот конструктор, мы создадим несколько событий и добавим их в список\n",
    "class Event:\n",
    "  def __init__(self, event_date, event_type, machine_name, user):\n",
    "    self.date = event_date\n",
    "    self.type = event_type\n",
    "    self.machine = machine_name\n",
    "    self.user = user"
   ]
  },
  {
   "cell_type": "code",
   "execution_count": 22,
   "metadata": {},
   "outputs": [],
   "source": [
    "events = [\n",
    "    Event('2020-01-21 12:45:56', 'login', 'myworkstation.local', 'jordan'),\n",
    "    Event('2020-01-22 15:53:42', 'logout', 'webserver.local', 'jordan'),\n",
    "    Event('2020-01-21 18:53:21', 'login', 'webserver.local', 'lane'),\n",
    "    Event('2020-01-22 10:25:34', 'logout', 'myworkstation.local', 'jordan'),\n",
    "    Event('2020-01-21 08:20:01', 'login', 'webserver.local', 'jordan'),\n",
    "    Event('2020-01-23 11:24:35', 'logout', 'mailserver.local', 'chris'),\n",
    "]\n",
    "#Мы добавим эти события в нашу функцию и посмотрим, что произойдет."
   ]
  },
  {
   "cell_type": "code",
   "execution_count": 23,
   "metadata": {},
   "outputs": [
    {
     "name": "stdout",
     "output_type": "stream",
     "text": [
      "{'webserver.local': {'jordan', 'lane'}, 'myworkstation.local': {'jordan'}, 'mailserver.local': set()}\n"
     ]
    }
   ],
   "source": [
    "users = current_users(events)\n",
    "print(users)"
   ]
  },
  {
   "cell_type": "code",
   "execution_count": 24,
   "metadata": {},
   "outputs": [
    {
     "name": "stdout",
     "output_type": "stream",
     "text": [
      "webserver.local: jordan, lane\n",
      "myworkstation.local: jordan\n"
     ]
    }
   ],
   "source": [
    "generate_report(users)"
   ]
  },
  {
   "cell_type": "code",
   "execution_count": null,
   "metadata": {},
   "outputs": [],
   "source": []
  }
 ],
 "metadata": {
  "kernelspec": {
   "display_name": "Python 3",
   "language": "python",
   "name": "python3"
  },
  "language_info": {
   "codemirror_mode": {
    "name": "ipython",
    "version": 3
   },
   "file_extension": ".py",
   "mimetype": "text/x-python",
   "name": "python",
   "nbconvert_exporter": "python",
   "pygments_lexer": "ipython3",
   "version": "3.8.2"
  }
 },
 "nbformat": 4,
 "nbformat_minor": 4
}
