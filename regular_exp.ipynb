{
 "cells": [
  {
   "cell_type": "code",
   "execution_count": 5,
   "metadata": {},
   "outputs": [
    {
     "name": "stdout",
     "output_type": "stream",
     "text": [
      "12345\n"
     ]
    }
   ],
   "source": [
    "log = \"July 31 14:01:15 my_computer bad_process[12345]: ERROR WOW need upgrad\"\n",
    "#хотим извлечь идентификатор процесса из этой строки, который представляет собой число в квадратных скобках 12345\n",
    "index = log.index(\"[\")\n",
    "print(log[index + 1: index + 6])\n",
    "#может привести к разрыву, если по какой-либо причине строка содержит еще одну квадратную скобку перед идентификатором процесса\n"
   ]
  },
  {
   "cell_type": "code",
   "execution_count": 4,
   "metadata": {},
   "outputs": [
    {
     "name": "stdout",
     "output_type": "stream",
     "text": [
      "12345\n"
     ]
    }
   ],
   "source": [
    "import re\n",
    "log = \"July 31 14:01:15 my_computer bad_process[12345]: ERROR WOW need upgrad\"\n",
    "regex = r\"\\[(\\d+)\\]\"\n",
    "result = re.search(regex, log)\n",
    "print(result[1])\n",
    "\n"
   ]
  },
  {
   "cell_type": "code",
   "execution_count": 6,
   "metadata": {},
   "outputs": [
    {
     "name": "stdout",
     "output_type": "stream",
     "text": [
      "Help on module re:\n",
      "\n",
      "NAME\n",
      "    re - Support for regular expressions (RE).\n",
      "\n",
      "MODULE REFERENCE\n",
      "    https://docs.python.org/3.7/library/re\n",
      "    \n",
      "    The following documentation is automatically generated from the Python\n",
      "    source files.  It may be incomplete, incorrect or include features that\n",
      "    are considered implementation detail and may vary between Python\n",
      "    implementations.  When in doubt, consult the module reference at the\n",
      "    location listed above.\n",
      "\n",
      "DESCRIPTION\n",
      "    This module provides regular expression matching operations similar to\n",
      "    those found in Perl.  It supports both 8-bit and Unicode strings; both\n",
      "    the pattern and the strings being processed can contain null bytes and\n",
      "    characters outside the US ASCII range.\n",
      "    \n",
      "    Regular expressions can contain both special and ordinary characters.\n",
      "    Most ordinary characters, like \"A\", \"a\", or \"0\", are the simplest\n",
      "    regular expressions; they simply match themselves.  You can\n",
      "    concatenate ordinary characters, so last matches the string 'last'.\n",
      "    \n",
      "    The special characters are:\n",
      "        \".\"      Matches any character except a newline.\n",
      "        \"^\"      Matches the start of the string.\n",
      "        \"$\"      Matches the end of the string or just before the newline at\n",
      "                 the end of the string.\n",
      "        \"*\"      Matches 0 or more (greedy) repetitions of the preceding RE.\n",
      "                 Greedy means that it will match as many repetitions as possible.\n",
      "        \"+\"      Matches 1 or more (greedy) repetitions of the preceding RE.\n",
      "        \"?\"      Matches 0 or 1 (greedy) of the preceding RE.\n",
      "        *?,+?,?? Non-greedy versions of the previous three special characters.\n",
      "        {m,n}    Matches from m to n repetitions of the preceding RE.\n",
      "        {m,n}?   Non-greedy version of the above.\n",
      "        \"\\\\\"     Either escapes special characters or signals a special sequence.\n",
      "        []       Indicates a set of characters.\n",
      "                 A \"^\" as the first character indicates a complementing set.\n",
      "        \"|\"      A|B, creates an RE that will match either A or B.\n",
      "        (...)    Matches the RE inside the parentheses.\n",
      "                 The contents can be retrieved or matched later in the string.\n",
      "        (?aiLmsux) Set the A, I, L, M, S, U, or X flag for the RE (see below).\n",
      "        (?:...)  Non-grouping version of regular parentheses.\n",
      "        (?P<name>...) The substring matched by the group is accessible by name.\n",
      "        (?P=name)     Matches the text matched earlier by the group named name.\n",
      "        (?#...)  A comment; ignored.\n",
      "        (?=...)  Matches if ... matches next, but doesn't consume the string.\n",
      "        (?!...)  Matches if ... doesn't match next.\n",
      "        (?<=...) Matches if preceded by ... (must be fixed length).\n",
      "        (?<!...) Matches if not preceded by ... (must be fixed length).\n",
      "        (?(id/name)yes|no) Matches yes pattern if the group with id/name matched,\n",
      "                           the (optional) no pattern otherwise.\n",
      "    \n",
      "    The special sequences consist of \"\\\\\" and a character from the list\n",
      "    below.  If the ordinary character is not on the list, then the\n",
      "    resulting RE will match the second character.\n",
      "        \\number  Matches the contents of the group of the same number.\n",
      "        \\A       Matches only at the start of the string.\n",
      "        \\Z       Matches only at the end of the string.\n",
      "        \\b       Matches the empty string, but only at the start or end of a word.\n",
      "        \\B       Matches the empty string, but not at the start or end of a word.\n",
      "        \\d       Matches any decimal digit; equivalent to the set [0-9] in\n",
      "                 bytes patterns or string patterns with the ASCII flag.\n",
      "                 In string patterns without the ASCII flag, it will match the whole\n",
      "                 range of Unicode digits.\n",
      "        \\D       Matches any non-digit character; equivalent to [^\\d].\n",
      "        \\s       Matches any whitespace character; equivalent to [ \\t\\n\\r\\f\\v] in\n",
      "                 bytes patterns or string patterns with the ASCII flag.\n",
      "                 In string patterns without the ASCII flag, it will match the whole\n",
      "                 range of Unicode whitespace characters.\n",
      "        \\S       Matches any non-whitespace character; equivalent to [^\\s].\n",
      "        \\w       Matches any alphanumeric character; equivalent to [a-zA-Z0-9_]\n",
      "                 in bytes patterns or string patterns with the ASCII flag.\n",
      "                 In string patterns without the ASCII flag, it will match the\n",
      "                 range of Unicode alphanumeric characters (letters plus digits\n",
      "                 plus underscore).\n",
      "                 With LOCALE, it will match the set [0-9_] plus characters defined\n",
      "                 as letters for the current locale.\n",
      "        \\W       Matches the complement of \\w.\n",
      "        \\\\       Matches a literal backslash.\n",
      "    \n",
      "    This module exports the following functions:\n",
      "        match     Match a regular expression pattern to the beginning of a string.\n",
      "        fullmatch Match a regular expression pattern to all of a string.\n",
      "        search    Search a string for the presence of a pattern.\n",
      "        sub       Substitute occurrences of a pattern found in a string.\n",
      "        subn      Same as sub, but also return the number of substitutions made.\n",
      "        split     Split a string by the occurrences of a pattern.\n",
      "        findall   Find all occurrences of a pattern in a string.\n",
      "        finditer  Return an iterator yielding a Match object for each match.\n",
      "        compile   Compile a pattern into a Pattern object.\n",
      "        purge     Clear the regular expression cache.\n",
      "        escape    Backslash all non-alphanumerics in a string.\n",
      "    \n",
      "    Some of the functions in this module takes flags as optional parameters:\n",
      "        A  ASCII       For string patterns, make \\w, \\W, \\b, \\B, \\d, \\D\n",
      "                       match the corresponding ASCII character categories\n",
      "                       (rather than the whole Unicode categories, which is the\n",
      "                       default).\n",
      "                       For bytes patterns, this flag is the only available\n",
      "                       behaviour and needn't be specified.\n",
      "        I  IGNORECASE  Perform case-insensitive matching.\n",
      "        L  LOCALE      Make \\w, \\W, \\b, \\B, dependent on the current locale.\n",
      "        M  MULTILINE   \"^\" matches the beginning of lines (after a newline)\n",
      "                       as well as the string.\n",
      "                       \"$\" matches the end of lines (before a newline) as well\n",
      "                       as the end of the string.\n",
      "        S  DOTALL      \".\" matches any character at all, including the newline.\n",
      "        X  VERBOSE     Ignore whitespace and comments for nicer looking RE's.\n",
      "        U  UNICODE     For compatibility only. Ignored for string patterns (it\n",
      "                       is the default), and forbidden for bytes patterns.\n",
      "    \n",
      "    This module also defines an exception 'error'.\n",
      "\n",
      "CLASSES\n",
      "    builtins.Exception(builtins.BaseException)\n",
      "        error\n",
      "    builtins.object\n",
      "        Match\n",
      "        Pattern\n",
      "    \n",
      "    class Match(builtins.object)\n",
      "     |  The result of re.match() and re.search().\n",
      "     |  Match objects always have a boolean value of True.\n",
      "     |  \n",
      "     |  Methods defined here:\n",
      "     |  \n",
      "     |  __copy__(self, /)\n",
      "     |  \n",
      "     |  __deepcopy__(self, memo, /)\n",
      "     |  \n",
      "     |  __getitem__(self, key, /)\n",
      "     |      Return self[key].\n",
      "     |  \n",
      "     |  __repr__(self, /)\n",
      "     |      Return repr(self).\n",
      "     |  \n",
      "     |  end(self, group=0, /)\n",
      "     |      Return index of the end of the substring matched by group.\n",
      "     |  \n",
      "     |  expand(self, /, template)\n",
      "     |      Return the string obtained by doing backslash substitution on the string template, as done by the sub() method.\n",
      "     |  \n",
      "     |  group(...)\n",
      "     |      group([group1, ...]) -> str or tuple.\n",
      "     |      Return subgroup(s) of the match by indices or names.\n",
      "     |      For 0 returns the entire match.\n",
      "     |  \n",
      "     |  groupdict(self, /, default=None)\n",
      "     |      Return a dictionary containing all the named subgroups of the match, keyed by the subgroup name.\n",
      "     |      \n",
      "     |      default\n",
      "     |        Is used for groups that did not participate in the match.\n",
      "     |  \n",
      "     |  groups(self, /, default=None)\n",
      "     |      Return a tuple containing all the subgroups of the match, from 1.\n",
      "     |      \n",
      "     |      default\n",
      "     |        Is used for groups that did not participate in the match.\n",
      "     |  \n",
      "     |  span(self, group=0, /)\n",
      "     |      For match object m, return the 2-tuple (m.start(group), m.end(group)).\n",
      "     |  \n",
      "     |  start(self, group=0, /)\n",
      "     |      Return index of the start of the substring matched by group.\n",
      "     |  \n",
      "     |  ----------------------------------------------------------------------\n",
      "     |  Data descriptors defined here:\n",
      "     |  \n",
      "     |  endpos\n",
      "     |      The index into the string beyond which the RE engine will not go.\n",
      "     |  \n",
      "     |  lastgroup\n",
      "     |      The name of the last matched capturing group.\n",
      "     |  \n",
      "     |  lastindex\n",
      "     |      The integer index of the last matched capturing group.\n",
      "     |  \n",
      "     |  pos\n",
      "     |      The index into the string at which the RE engine started looking for a match.\n",
      "     |  \n",
      "     |  re\n",
      "     |      The regular expression object.\n",
      "     |  \n",
      "     |  regs\n",
      "     |  \n",
      "     |  string\n",
      "     |      The string passed to match() or search().\n",
      "    \n",
      "    class Pattern(builtins.object)\n",
      "     |  Compiled regular expression object.\n",
      "     |  \n",
      "     |  Methods defined here:\n",
      "     |  \n",
      "     |  __copy__(self, /)\n",
      "     |  \n",
      "     |  __deepcopy__(self, memo, /)\n",
      "     |  \n",
      "     |  __eq__(self, value, /)\n",
      "     |      Return self==value.\n",
      "     |  \n",
      "     |  __ge__(self, value, /)\n",
      "     |      Return self>=value.\n",
      "     |  \n",
      "     |  __gt__(self, value, /)\n",
      "     |      Return self>value.\n",
      "     |  \n",
      "     |  __hash__(self, /)\n",
      "     |      Return hash(self).\n",
      "     |  \n",
      "     |  __le__(self, value, /)\n",
      "     |      Return self<=value.\n",
      "     |  \n",
      "     |  __lt__(self, value, /)\n",
      "     |      Return self<value.\n",
      "     |  \n",
      "     |  __ne__(self, value, /)\n",
      "     |      Return self!=value.\n",
      "     |  \n",
      "     |  __repr__(self, /)\n",
      "     |      Return repr(self).\n",
      "     |  \n",
      "     |  findall(self, /, string, pos=0, endpos=9223372036854775807)\n",
      "     |      Return a list of all non-overlapping matches of pattern in string.\n",
      "     |  \n",
      "     |  finditer(self, /, string, pos=0, endpos=9223372036854775807)\n",
      "     |      Return an iterator over all non-overlapping matches for the RE pattern in string.\n",
      "     |      \n",
      "     |      For each match, the iterator returns a match object.\n",
      "     |  \n",
      "     |  fullmatch(self, /, string, pos=0, endpos=9223372036854775807)\n",
      "     |      Matches against all of the string.\n",
      "     |  \n",
      "     |  match(self, /, string, pos=0, endpos=9223372036854775807)\n",
      "     |      Matches zero or more characters at the beginning of the string.\n",
      "     |  \n",
      "     |  scanner(self, /, string, pos=0, endpos=9223372036854775807)\n",
      "     |  \n",
      "     |  search(self, /, string, pos=0, endpos=9223372036854775807)\n",
      "     |      Scan through string looking for a match, and return a corresponding match object instance.\n",
      "     |      \n",
      "     |      Return None if no position in the string matches.\n",
      "     |  \n",
      "     |  split(self, /, string, maxsplit=0)\n",
      "     |      Split string by the occurrences of pattern.\n",
      "     |  \n",
      "     |  sub(self, /, repl, string, count=0)\n",
      "     |      Return the string obtained by replacing the leftmost non-overlapping occurrences of pattern in string by the replacement repl.\n",
      "     |  \n",
      "     |  subn(self, /, repl, string, count=0)\n",
      "     |      Return the tuple (new_string, number_of_subs_made) found by replacing the leftmost non-overlapping occurrences of pattern with the replacement repl.\n",
      "     |  \n",
      "     |  ----------------------------------------------------------------------\n",
      "     |  Data descriptors defined here:\n",
      "     |  \n",
      "     |  flags\n",
      "     |      The regex matching flags.\n",
      "     |  \n",
      "     |  groupindex\n",
      "     |      A dictionary mapping group names to group numbers.\n",
      "     |  \n",
      "     |  groups\n",
      "     |      The number of capturing groups in the pattern.\n",
      "     |  \n",
      "     |  pattern\n",
      "     |      The pattern string from which the RE object was compiled.\n",
      "    \n",
      "    class error(builtins.Exception)\n",
      "     |  error(msg, pattern=None, pos=None)\n",
      "     |  \n",
      "     |  Exception raised for invalid regular expressions.\n",
      "     |  \n",
      "     |  Attributes:\n",
      "     |  \n",
      "     |      msg: The unformatted error message\n",
      "     |      pattern: The regular expression pattern\n",
      "     |      pos: The index in the pattern where compilation failed (may be None)\n",
      "     |      lineno: The line corresponding to pos (may be None)\n",
      "     |      colno: The column corresponding to pos (may be None)\n",
      "     |  \n",
      "     |  Method resolution order:\n",
      "     |      error\n",
      "     |      builtins.Exception\n",
      "     |      builtins.BaseException\n",
      "     |      builtins.object\n",
      "     |  \n",
      "     |  Methods defined here:\n",
      "     |  \n",
      "     |  __init__(self, msg, pattern=None, pos=None)\n",
      "     |      Initialize self.  See help(type(self)) for accurate signature.\n",
      "     |  \n",
      "     |  ----------------------------------------------------------------------\n",
      "     |  Data descriptors defined here:\n",
      "     |  \n",
      "     |  __weakref__\n",
      "     |      list of weak references to the object (if defined)\n",
      "     |  \n",
      "     |  ----------------------------------------------------------------------\n",
      "     |  Static methods inherited from builtins.Exception:\n",
      "     |  \n",
      "     |  __new__(*args, **kwargs) from builtins.type\n",
      "     |      Create and return a new object.  See help(type) for accurate signature.\n",
      "     |  \n",
      "     |  ----------------------------------------------------------------------\n",
      "     |  Methods inherited from builtins.BaseException:\n",
      "     |  \n",
      "     |  __delattr__(self, name, /)\n",
      "     |      Implement delattr(self, name).\n",
      "     |  \n",
      "     |  __getattribute__(self, name, /)\n",
      "     |      Return getattr(self, name).\n",
      "     |  \n",
      "     |  __reduce__(...)\n",
      "     |      Helper for pickle.\n",
      "     |  \n",
      "     |  __repr__(self, /)\n",
      "     |      Return repr(self).\n",
      "     |  \n",
      "     |  __setattr__(self, name, value, /)\n",
      "     |      Implement setattr(self, name, value).\n",
      "     |  \n",
      "     |  __setstate__(...)\n",
      "     |  \n",
      "     |  __str__(self, /)\n",
      "     |      Return str(self).\n",
      "     |  \n",
      "     |  with_traceback(...)\n",
      "     |      Exception.with_traceback(tb) --\n",
      "     |      set self.__traceback__ to tb and return self.\n",
      "     |  \n",
      "     |  ----------------------------------------------------------------------\n",
      "     |  Data descriptors inherited from builtins.BaseException:\n",
      "     |  \n",
      "     |  __cause__\n",
      "     |      exception cause\n",
      "     |  \n",
      "     |  __context__\n",
      "     |      exception context\n",
      "     |  \n",
      "     |  __dict__\n",
      "     |  \n",
      "     |  __suppress_context__\n",
      "     |  \n",
      "     |  __traceback__\n",
      "     |  \n",
      "     |  args\n",
      "\n",
      "FUNCTIONS\n",
      "    compile(pattern, flags=0)\n",
      "        Compile a regular expression pattern, returning a Pattern object.\n",
      "    \n",
      "    escape(pattern)\n",
      "        Escape special characters in a string.\n",
      "    \n",
      "    findall(pattern, string, flags=0)\n",
      "        Return a list of all non-overlapping matches in the string.\n",
      "        \n",
      "        If one or more capturing groups are present in the pattern, return\n",
      "        a list of groups; this will be a list of tuples if the pattern\n",
      "        has more than one group.\n",
      "        \n",
      "        Empty matches are included in the result.\n",
      "    \n",
      "    finditer(pattern, string, flags=0)\n",
      "        Return an iterator over all non-overlapping matches in the\n",
      "        string.  For each match, the iterator returns a Match object.\n",
      "        \n",
      "        Empty matches are included in the result.\n",
      "    \n",
      "    fullmatch(pattern, string, flags=0)\n",
      "        Try to apply the pattern to all of the string, returning\n",
      "        a Match object, or None if no match was found.\n",
      "    \n",
      "    match(pattern, string, flags=0)\n",
      "        Try to apply the pattern at the start of the string, returning\n",
      "        a Match object, or None if no match was found.\n",
      "    \n",
      "    purge()\n",
      "        Clear the regular expression caches\n",
      "    \n",
      "    search(pattern, string, flags=0)\n",
      "        Scan through string looking for a match to the pattern, returning\n",
      "        a Match object, or None if no match was found.\n",
      "    \n",
      "    split(pattern, string, maxsplit=0, flags=0)\n",
      "        Split the source string by the occurrences of the pattern,\n",
      "        returning a list containing the resulting substrings.  If\n",
      "        capturing parentheses are used in pattern, then the text of all\n",
      "        groups in the pattern are also returned as part of the resulting\n",
      "        list.  If maxsplit is nonzero, at most maxsplit splits occur,\n",
      "        and the remainder of the string is returned as the final element\n",
      "        of the list.\n",
      "    \n",
      "    sub(pattern, repl, string, count=0, flags=0)\n",
      "        Return the string obtained by replacing the leftmost\n",
      "        non-overlapping occurrences of the pattern in string by the\n",
      "        replacement repl.  repl can be either a string or a callable;\n",
      "        if a string, backslash escapes in it are processed.  If it is\n",
      "        a callable, it's passed the Match object and must return\n",
      "        a replacement string to be used.\n",
      "    \n",
      "    subn(pattern, repl, string, count=0, flags=0)\n",
      "        Return a 2-tuple containing (new_string, number).\n",
      "        new_string is the string obtained by replacing the leftmost\n",
      "        non-overlapping occurrences of the pattern in the source\n",
      "        string by the replacement repl.  number is the number of\n",
      "        substitutions that were made. repl can be either a string or a\n",
      "        callable; if a string, backslash escapes in it are processed.\n",
      "        If it is a callable, it's passed the Match object and must\n",
      "        return a replacement string to be used.\n",
      "    \n",
      "    template(pattern, flags=0)\n",
      "        Compile a template pattern, returning a Pattern object\n",
      "\n",
      "DATA\n",
      "    A = <RegexFlag.ASCII: 256>\n",
      "    ASCII = <RegexFlag.ASCII: 256>\n",
      "    DOTALL = <RegexFlag.DOTALL: 16>\n",
      "    I = <RegexFlag.IGNORECASE: 2>\n",
      "    IGNORECASE = <RegexFlag.IGNORECASE: 2>\n",
      "    L = <RegexFlag.LOCALE: 4>\n",
      "    LOCALE = <RegexFlag.LOCALE: 4>\n",
      "    M = <RegexFlag.MULTILINE: 8>\n",
      "    MULTILINE = <RegexFlag.MULTILINE: 8>\n",
      "    S = <RegexFlag.DOTALL: 16>\n",
      "    U = <RegexFlag.UNICODE: 32>\n",
      "    UNICODE = <RegexFlag.UNICODE: 32>\n",
      "    VERBOSE = <RegexFlag.VERBOSE: 64>\n",
      "    X = <RegexFlag.VERBOSE: 64>\n",
      "    __all__ = ['match', 'fullmatch', 'search', 'sub', 'subn', 'split', 'fi...\n",
      "\n",
      "VERSION\n",
      "    2.2.1\n",
      "\n",
      "FILE\n",
      "    /home/alexczn/anaconda3/lib/python3.7/re.py\n",
      "\n",
      "\n"
     ]
    }
   ],
   "source": [
    "help(re)"
   ]
  },
  {
   "cell_type": "code",
   "execution_count": 7,
   "metadata": {},
   "outputs": [
    {
     "name": "stdout",
     "output_type": "stream",
     "text": [
      "<re.Match object; span=(2, 5), match='aza'>\n"
     ]
    }
   ],
   "source": [
    "#Мы вызываем функцию поиска в модуле re и говорим ей использовать шаблон aza в строке plaza\n",
    "import re\n",
    "result = re.search(r\"aza\", \"plaza\")\n",
    "#Символ r в начале шаблона указывает, что это необработанная строка. \n",
    "#Это означает, что интерпретатор Python не должен пытаться интерпретировать какие-либо специальные символы, \n",
    "#а должен просто передать строку в функцию как есть\n",
    "print(result)"
   ]
  },
  {
   "cell_type": "code",
   "execution_count": 8,
   "metadata": {},
   "outputs": [
    {
     "name": "stdout",
     "output_type": "stream",
     "text": [
      "<re.Match object; span=(1, 4), match='aza'>\n"
     ]
    }
   ],
   "source": [
    "result = re.search(r\"aza\", \"bazaar\")\n",
    "print(result)"
   ]
  },
  {
   "cell_type": "code",
   "execution_count": 9,
   "metadata": {},
   "outputs": [
    {
     "name": "stdout",
     "output_type": "stream",
     "text": [
      "None\n"
     ]
    }
   ],
   "source": [
    "result = re.search(r\"aza\", \"ba\")\n",
    "print(result)"
   ]
  },
  {
   "cell_type": "code",
   "execution_count": 10,
   "metadata": {},
   "outputs": [
    {
     "name": "stdout",
     "output_type": "stream",
     "text": [
      "<re.Match object; span=(0, 1), match='x'>\n"
     ]
    }
   ],
   "source": [
    "print(re.search(r\"^x\", \"xenon\"))"
   ]
  },
  {
   "cell_type": "code",
   "execution_count": 11,
   "metadata": {},
   "outputs": [
    {
     "name": "stdout",
     "output_type": "stream",
     "text": [
      "<re.Match object; span=(0, 4), match='peng'>\n"
     ]
    }
   ],
   "source": [
    "print(re.search(r\"p.ng\", \"penguin\"))\n",
    "#используем p.ng в качестве шаблона поиска"
   ]
  },
  {
   "cell_type": "code",
   "execution_count": 12,
   "metadata": {},
   "outputs": [
    {
     "name": "stdout",
     "output_type": "stream",
     "text": [
      "<re.Match object; span=(4, 8), match='ping'>\n"
     ]
    }
   ],
   "source": [
    "print(re.search(r\"p.ng\", \"clapping\"))"
   ]
  },
  {
   "cell_type": "code",
   "execution_count": 13,
   "metadata": {},
   "outputs": [
    {
     "name": "stdout",
     "output_type": "stream",
     "text": [
      "<re.Match object; span=(1, 5), match='pong'>\n"
     ]
    }
   ],
   "source": [
    "print(re.search(r\"p.ng\", \"spong\"))"
   ]
  },
  {
   "cell_type": "code",
   "execution_count": 14,
   "metadata": {},
   "outputs": [
    {
     "name": "stdout",
     "output_type": "stream",
     "text": [
      "True\n",
      "False\n",
      "True\n"
     ]
    }
   ],
   "source": [
    "#Заполните код, чтобы проверить, содержит ли переданный текст гласные a, e и i, \n",
    "#с ровно одним вхождением любого другого символа между ними.\n",
    "import re\n",
    "def check_aei (text):\n",
    "    result = re.search(r\"a.e.i\", text)\n",
    "    return result != None\n",
    "\n",
    "print(check_aei(\"academia\")) # True\n",
    "print(check_aei(\"aerial\")) # False\n",
    "print(check_aei(\"paramedic\")) # True"
   ]
  },
  {
   "cell_type": "code",
   "execution_count": 15,
   "metadata": {},
   "outputs": [
    {
     "name": "stdout",
     "output_type": "stream",
     "text": [
      "<re.Match object; span=(0, 4), match='Pang'>\n"
     ]
    }
   ],
   "source": [
    "#если мы хотим, чтобы наше совпадение не учитывало регистр, мы можем сделать это, передав опцию re.IGNORECASE.\n",
    "print(re.search(r\"p.ng\", \"Pangaea\", re.IGNORECASE))"
   ]
  },
  {
   "cell_type": "markdown",
   "metadata": {},
   "source": [
    "Классы символов пишутся в квадратных скобках, и давайте перечислим символы, которым мы хотим соответствовать внутри этих скобок. Например, допустим, что мы хотим соответствовать слову Python, но допускаем как строчные, так и прописные буквы p"
   ]
  },
  {
   "cell_type": "code",
   "execution_count": 16,
   "metadata": {},
   "outputs": [
    {
     "name": "stdout",
     "output_type": "stream",
     "text": [
      "<re.Match object; span=(0, 6), match='Python'>\n"
     ]
    }
   ],
   "source": [
    "print(re.search(r\"[Pp]ython\", \"Python\"))"
   ]
  },
  {
   "cell_type": "markdown",
   "metadata": {},
   "source": [
    "Внутри квадратных скобок мы также можем определить диапазон символов, используя тире. Например, мы могли бы использовать строчные буквы a для строчных букв z, чтобы указать любую строчную букву. Поэтому, если мы хотим найти путь строки, которому предшествует любая буква, мы можем написать выражение, подобное этому"
   ]
  },
  {
   "cell_type": "code",
   "execution_count": 17,
   "metadata": {},
   "outputs": [
    {
     "name": "stdout",
     "output_type": "stream",
     "text": [
      "<re.Match object; span=(18, 22), match='hway'>\n"
     ]
    }
   ],
   "source": [
    "print(re.search(r\"[a-z]way\", \"The end of the highway\"))"
   ]
  },
  {
   "cell_type": "code",
   "execution_count": 18,
   "metadata": {},
   "outputs": [
    {
     "name": "stdout",
     "output_type": "stream",
     "text": [
      "None\n"
     ]
    }
   ],
   "source": [
    "print(re.search(r\"[a-z]way\", \"What a way to go\"))"
   ]
  },
  {
   "cell_type": "markdown",
   "metadata": {},
   "source": [
    "в этом случае мы не получили матч. Это потому, что пути строки предшествует пробел, который не соответствует диапазону, который мы определили. Мы можем определить больше диапазонов, таких как прописные буквы от A до прописных букв Z для всех заглавных букв или от 0 до 9 для всех цифр. Мы можем объединить столько диапазонов и символов, сколько захотим,"
   ]
  },
  {
   "cell_type": "code",
   "execution_count": 23,
   "metadata": {},
   "outputs": [
    {
     "name": "stdout",
     "output_type": "stream",
     "text": [
      "<re.Match object; span=(6, 12), match='cloud8'>\n"
     ]
    }
   ],
   "source": [
    "print(re.search(r\"cloud[a-zA-z0-9]\", \"It is cloud8\"))"
   ]
  },
  {
   "cell_type": "code",
   "execution_count": 24,
   "metadata": {},
   "outputs": [
    {
     "name": "stdout",
     "output_type": "stream",
     "text": [
      "<re.Match object; span=(6, 12), match='cloudy'>\n"
     ]
    }
   ],
   "source": [
    "print(re.search(r\"cloud[a-zA-z0-9]\", \"It is cloudy\"))"
   ]
  },
  {
   "cell_type": "code",
   "execution_count": 26,
   "metadata": {},
   "outputs": [
    {
     "name": "stdout",
     "output_type": "stream",
     "text": [
      "True\n",
      "False\n",
      "True\n",
      "True\n",
      "False\n"
     ]
    }
   ],
   "source": [
    "#содержит ли передаваемый текст знаки пунктуации: запятые, точки, двоеточия, \n",
    "#точки с запятой, вопросительные знаки и восклицательные знаки.\n",
    "import re\n",
    "def check_punctuation (text):\n",
    "    result = re.search(r\"[,.:.;.?.!]\", text)\n",
    "    return result != None\n",
    "\n",
    "print(check_punctuation(\"This is a sentence that ends with a period.\")) # True\n",
    "print(check_punctuation(\"This is a sentence fragment without a period\")) # False\n",
    "print(check_punctuation(\"Aren't regular expressions awesome?\")) # True\n",
    "print(check_punctuation(\"Wow! We're really picking up some steam now!\")) # True\n",
    "print(check_punctuation(\"End of the line\")) # False\n",
    "\n"
   ]
  },
  {
   "cell_type": "markdown",
   "metadata": {},
   "source": [
    "Иногда мы можем захотеть сопоставить любых персонажей, которых нет в группе. Для этого мы используем окружность внутри квадратных скобок. Например, давайте создадим шаблон поиска, который ищет любые символы, которые не являются буквой."
   ]
  },
  {
   "cell_type": "code",
   "execution_count": 28,
   "metadata": {},
   "outputs": [
    {
     "name": "stdout",
     "output_type": "stream",
     "text": [
      "<re.Match object; span=(4, 5), match=' '>\n"
     ]
    }
   ],
   "source": [
    "print(re.search(r\"[^a-zA-z]\", \"This is a sentence with spaces\"))\n",
    "#Здесь наш шаблон соответствует первому пробелу в предложении."
   ]
  },
  {
   "cell_type": "code",
   "execution_count": 30,
   "metadata": {},
   "outputs": [
    {
     "name": "stdout",
     "output_type": "stream",
     "text": [
      "<re.Match object; span=(30, 31), match='.'>\n"
     ]
    }
   ],
   "source": [
    "print(re.search(r\"[^a-zA-z ]\", \"This is a sentence with spaces.\"))\n",
    "#Поскольку мы добавили пробел внутри класса символов, наш пример теперь соответствует последней точке "
   ]
  },
  {
   "cell_type": "code",
   "execution_count": 31,
   "metadata": {},
   "outputs": [
    {
     "name": "stdout",
     "output_type": "stream",
     "text": [
      "<re.Match object; span=(7, 10), match='cat'>\n"
     ]
    }
   ],
   "source": [
    "print(re.search(r\"cat|dog\", \"I like cats.\"))\n",
    "#Если мы хотим сопоставить одно или другое выражение"
   ]
  },
  {
   "cell_type": "code",
   "execution_count": 32,
   "metadata": {},
   "outputs": [
    {
     "name": "stdout",
     "output_type": "stream",
     "text": [
      "<re.Match object; span=(7, 10), match='dog'>\n"
     ]
    }
   ],
   "source": [
    "print(re.search(r\"cat|dog\", \"I like dogs.\"))"
   ]
  },
  {
   "cell_type": "code",
   "execution_count": 33,
   "metadata": {},
   "outputs": [
    {
     "name": "stdout",
     "output_type": "stream",
     "text": [
      "<re.Match object; span=(13, 16), match='dog'>\n"
     ]
    }
   ],
   "source": [
    "print(re.search(r\"cat|dog\", \"I like both, dogs and cats.\"))\n",
    "#есть два возможных совпадения для нашего поиска. Но мы получаем только первый"
   ]
  },
  {
   "cell_type": "code",
   "execution_count": 34,
   "metadata": {},
   "outputs": [
    {
     "name": "stdout",
     "output_type": "stream",
     "text": [
      "['dog', 'cat']\n"
     ]
    }
   ],
   "source": [
    "print(re.findall(r\"cat|dog\", \"I like both, dogs and cats.\"))"
   ]
  },
  {
   "cell_type": "code",
   "execution_count": 35,
   "metadata": {},
   "outputs": [
    {
     "name": "stdout",
     "output_type": "stream",
     "text": [
      "<re.Match object; span=(0, 9), match='Pygmalion'>\n"
     ]
    }
   ],
   "source": [
    "print(re.search(r\"Py.*n\", \"Pygmalion\"))\n",
    "#звезда. Это означает, что он соответствует любому символу, \n",
    "#повторенному столько раз, сколько возможно, включая нол"
   ]
  },
  {
   "cell_type": "code",
   "execution_count": 36,
   "metadata": {},
   "outputs": [
    {
     "name": "stdout",
     "output_type": "stream",
     "text": [
      "<re.Match object; span=(0, 32), match='Python is a cool programming lan'>\n"
     ]
    }
   ],
   "source": [
    "#Помните, Звезда берет столько персонажей, сколько возможно.\n",
    "print(re.search(r\"Py.*n\", \"Python is a cool programming languge\"))"
   ]
  },
  {
   "cell_type": "code",
   "execution_count": 37,
   "metadata": {},
   "outputs": [
    {
     "name": "stdout",
     "output_type": "stream",
     "text": [
      "<re.Match object; span=(0, 6), match='Python'>\n"
     ]
    }
   ],
   "source": [
    "print(re.search(r\"Py[a-z]*n\", \"Python is a cool programming languge\"))"
   ]
  },
  {
   "cell_type": "code",
   "execution_count": 38,
   "metadata": {},
   "outputs": [
    {
     "name": "stdout",
     "output_type": "stream",
     "text": [
      "<re.Match object; span=(0, 3), match='Pyn'>\n"
     ]
    }
   ],
   "source": [
    "print(re.search(r\"Py[a-z]*n\", \"Pyn\"))"
   ]
  },
  {
   "cell_type": "code",
   "execution_count": 39,
   "metadata": {},
   "outputs": [
    {
     "name": "stdout",
     "output_type": "stream",
     "text": [
      "<re.Match object; span=(1, 3), match='ol'>\n"
     ]
    }
   ],
   "source": [
    "print(re.search(r\"o+l+\", \"goldfish\"))\n",
    "#Символ «плюс» соответствует одному или нескольким вхождениям символа перед ним"
   ]
  },
  {
   "cell_type": "code",
   "execution_count": 41,
   "metadata": {},
   "outputs": [
    {
     "name": "stdout",
     "output_type": "stream",
     "text": [
      "<re.Match object; span=(1, 5), match='ooll'>\n"
     ]
    }
   ],
   "source": [
    "print(re.search(r\"o+l+\", \"woolly\"))"
   ]
  },
  {
   "cell_type": "code",
   "execution_count": 42,
   "metadata": {},
   "outputs": [
    {
     "name": "stdout",
     "output_type": "stream",
     "text": [
      "None\n"
     ]
    }
   ],
   "source": [
    "print(re.search(r\"o+l+\", \"boil\"))"
   ]
  },
  {
   "cell_type": "code",
   "execution_count": 56,
   "metadata": {},
   "outputs": [
    {
     "name": "stdout",
     "output_type": "stream",
     "text": [
      "True\n",
      "False\n",
      "True\n",
      "True\n"
     ]
    }
   ],
   "source": [
    "#Функция repeatating_letter_a проверяет, содержит ли передаваемый текст букву «а» (строчные или прописные) \n",
    "#хотя бы дважды. Например, repeatating_letter_a («банан») имеет значение «Истина», а repeatating_letter_a \n",
    "#(«ананас») - значение «Ложь». \n",
    "import re\n",
    "def repeating_letter_a(text):\n",
    "    result = re.search(r\"a+.*a\", text, re.IGNORECASE)\n",
    "    return result != None\n",
    "\n",
    "print(repeating_letter_a(\"banana\")) # True\n",
    "print(repeating_letter_a(\"pineapple\")) # False\n",
    "print(repeating_letter_a(\"Animal Kingdom\")) # True\n",
    "print(repeating_letter_a(\"A is for apple\")) # True"
   ]
  },
  {
   "cell_type": "markdown",
   "metadata": {},
   "source": [
    "Символ знака вопроса является еще одним множителем. Это означает либо ноль, либо одно вхождение символа перед ним"
   ]
  },
  {
   "cell_type": "code",
   "execution_count": 57,
   "metadata": {},
   "outputs": [
    {
     "name": "stdout",
     "output_type": "stream",
     "text": [
      "<re.Match object; span=(3, 7), match='each'>\n"
     ]
    }
   ],
   "source": [
    "print(re.search(r\"p?each\", \"To each their own\"))\n",
    "#P не присутствовал, но со знаком вопроса мы отметили его как необязательный. \n",
    "#Таким образом, мы все еще получили матч"
   ]
  },
  {
   "cell_type": "code",
   "execution_count": 58,
   "metadata": {},
   "outputs": [
    {
     "name": "stdout",
     "output_type": "stream",
     "text": [
      "<re.Match object; span=(7, 12), match='peach'>\n"
     ]
    }
   ],
   "source": [
    "print(re.search(r\"p?each\", \"I like peaches\"))"
   ]
  },
  {
   "cell_type": "code",
   "execution_count": 2,
   "metadata": {},
   "outputs": [
    {
     "name": "stdout",
     "output_type": "stream",
     "text": [
      "<re.Match object; span=(2, 6), match='tcom'>\n"
     ]
    }
   ],
   "source": [
    "import re\n",
    "#Если мы просто поставим точку, это будет соответствовать любому символу\n",
    "print(re.search(r\".com\", \"Dotcom\"))"
   ]
  },
  {
   "cell_type": "code",
   "execution_count": 3,
   "metadata": {},
   "outputs": [
    {
     "name": "stdout",
     "output_type": "stream",
     "text": [
      "None\n"
     ]
    }
   ],
   "source": [
    "#Чтобы соответствовать реальной точке, нам нужно использовать символ Escape, который в случае\n",
    "#регулярных выражений является символом обратной косой черты\n",
    "print(re.search(r\"\\.com\", \"Dotcom\"))"
   ]
  },
  {
   "cell_type": "code",
   "execution_count": 4,
   "metadata": {},
   "outputs": [
    {
     "name": "stdout",
     "output_type": "stream",
     "text": [
      "<re.Match object; span=(6, 10), match='.com'>\n"
     ]
    }
   ],
   "source": [
    "print(re.search(r\"\\.com\", \"google.com\"))"
   ]
  },
  {
   "cell_type": "markdown",
   "metadata": {},
   "source": [
    "Таким образом мы можем использовать обратную косую черту, чтобы избежать любых специальных символов, включая те,\n",
    "о которых мы даже не говорили. \n",
    "Это может привести к путанице с обратной косой чертой, поскольку они также используются для определения некоторых специальных строковых символов. Например, мы объявили, что \\ n - это последовательность, использующая Python для обозначения новой строки, и \\ t делает то же самое для вкладок. Когда мы видим шаблон, который включает обратную косую черту, это может быть экранирование специального символа регулярного выражения или специального символа строки. Использование необработанных строк, как мы это делали, помогает избежать некоторых из этих возможных путаницы, поскольку специальные символы не будут интерпретироваться при генерации строки. Они будут интерпретироваться только при разборе регулярного выражения. Кроме того, Python также использует обратную косую черту для нескольких специальных последовательностей, которые мы можем использовать для представления предопределенных наборов символов. Например, \\ w соответствует любому буквенно-цифровому символу, включая буквы, цифры и символы подчеркивания.\n"
   ]
  },
  {
   "cell_type": "code",
   "execution_count": 5,
   "metadata": {},
   "outputs": [
    {
     "name": "stdout",
     "output_type": "stream",
     "text": [
      "<re.Match object; span=(0, 4), match='This'>\n"
     ]
    }
   ],
   "source": [
    "print(re.search(r\"\\w*\", \"This is an example\"))"
   ]
  },
  {
   "cell_type": "code",
   "execution_count": 10,
   "metadata": {},
   "outputs": [
    {
     "name": "stdout",
     "output_type": "stream",
     "text": [
      "<re.Match object; span=(0, 3), match='Thi'>\n"
     ]
    }
   ],
   "source": [
    "print(re.search(r\"\\w*i\", \"This is an example\"))"
   ]
  },
  {
   "cell_type": "code",
   "execution_count": 12,
   "metadata": {},
   "outputs": [
    {
     "name": "stdout",
     "output_type": "stream",
     "text": [
      "<re.Match object; span=(0, 18), match='This_is_an_example'>\n"
     ]
    }
   ],
   "source": [
    "print(re.search(r\"\\w*\", \"This_is_an_example\"))"
   ]
  },
  {
   "cell_type": "code",
   "execution_count": 13,
   "metadata": {},
   "outputs": [
    {
     "name": "stdout",
     "output_type": "stream",
     "text": [
      "<re.Match object; span=(0, 7), match='This_is'>\n"
     ]
    }
   ],
   "source": [
    "print(re.search(r\"\\w*is\", \"This_is_an_example\"))\n",
    "#звезда. Это означает, что он соответствует любому символу, \n",
    "#повторенному столько раз, сколько возможно, включая нол"
   ]
  },
  {
   "cell_type": "code",
   "execution_count": 14,
   "metadata": {},
   "outputs": [
    {
     "name": "stdout",
     "output_type": "stream",
     "text": [
      "<re.Match object; span=(8, 17), match='Argentina'>\n"
     ]
    }
   ],
   "source": [
    "print(re.search(r\"A.*a\", \"Russia, Argentina\"))\n",
    "#какие из этих имен начинаются и заканчиваются на     \n"
   ]
  },
  {
   "cell_type": "code",
   "execution_count": 15,
   "metadata": {},
   "outputs": [
    {
     "name": "stdout",
     "output_type": "stream",
     "text": [
      "<re.Match object; span=(8, 17), match='Azerbaija'>\n"
     ]
    }
   ],
   "source": [
    "print(re.search(r\"A.*a\", \"Russia, Azerbaijan\"))"
   ]
  },
  {
   "cell_type": "markdown",
   "metadata": {},
   "source": [
    "Возможно, это удивительно, потому что мы не указали, что хотим, чтобы наши шаблоны соответствовали всей строке. Таким образом, хотя Азербайджан не заканчивает буквой А, в его названии есть буква А. Так что это соответствует нашему образцу. Нам нужно сделать наши шаблоны более строгими, добавив символы начала и конца строки"
   ]
  },
  {
   "cell_type": "code",
   "execution_count": 16,
   "metadata": {},
   "outputs": [
    {
     "name": "stdout",
     "output_type": "stream",
     "text": [
      "None\n"
     ]
    }
   ],
   "source": [
    "print(re.search(r\"^A.*a$\", \"Russia, Azerbaijan\"))\n",
    "#Добавив знак доллара к нашему шаблону, мы ясно дали понять, что хотим сопоставлять только те строки, \n",
    "#которые начинаются и заканчиваются буквой а"
   ]
  },
  {
   "cell_type": "code",
   "execution_count": 18,
   "metadata": {},
   "outputs": [
    {
     "name": "stdout",
     "output_type": "stream",
     "text": [
      "<re.Match object; span=(0, 4), match='Abba'>\n"
     ]
    }
   ],
   "source": [
    "print(re.search(r\"^A.*a$\", \"Abba\"))"
   ]
  },
  {
   "cell_type": "markdown",
   "metadata": {},
   "source": [
    "Используя регулярные выражения, мы также можем создать шаблон, который будет проверять, является ли строка является допустимым именем переменной в Python. Ты помнишь, какие были правила? Он может содержать любое количество букв, цифр или подчеркиваний, но не может начинаться с цифры"
   ]
  },
  {
   "cell_type": "code",
   "execution_count": 20,
   "metadata": {},
   "outputs": [
    {
     "name": "stdout",
     "output_type": "stream",
     "text": [
      "<re.Match object; span=(0, 29), match='This_is_a_valid_variable_name'>\n"
     ]
    }
   ],
   "source": [
    "#     \"^\"  the start of the string.\n",
    "#  *  звезда. Это означает, что он соответствует любому символу,повторенному столько раз, сколько возможно\n",
    "#     \"$\"      Matches the end of the string or just before the newline at\n",
    "pattern = r\"^[a-zA-z_][a-zA-Z0-9_]*$\"\n",
    "print(re.search(pattern, \"This_is_a_valid_variable_name\"))\n"
   ]
  },
  {
   "cell_type": "code",
   "execution_count": 21,
   "metadata": {},
   "outputs": [
    {
     "name": "stdout",
     "output_type": "stream",
     "text": [
      "None\n"
     ]
    }
   ],
   "source": [
    "print(re.search(pattern, \"This is not a valid variable name\"))\n",
    "#Как только мы используем пробел, он перестает быть допустимым именем переменной"
   ]
  },
  {
   "cell_type": "code",
   "execution_count": 22,
   "metadata": {},
   "outputs": [
    {
     "name": "stdout",
     "output_type": "stream",
     "text": [
      "<re.Match object; span=(0, 13), match='my_variable98'>\n"
     ]
    }
   ],
   "source": [
    "print(re.search(pattern, \"my_variable98\"))"
   ]
  },
  {
   "cell_type": "code",
   "execution_count": 23,
   "metadata": {},
   "outputs": [
    {
     "name": "stdout",
     "output_type": "stream",
     "text": [
      "None\n"
     ]
    }
   ],
   "source": [
    "print(re.search(pattern, \"88my_variable\"))"
   ]
  },
  {
   "cell_type": "markdown",
   "metadata": {},
   "source": [
    "Заполните код, чтобы проверить, выглядит ли переданный текст как стандартное предложение. Это означает, что он начинается с заглавной буквы, за которой следуют хотя бы несколько строчных букв или пробелов, и заканчивается точкой, вопросительным знаком или восклицательным знаком."
   ]
  },
  {
   "cell_type": "code",
   "execution_count": 90,
   "metadata": {},
   "outputs": [
    {
     "name": "stdout",
     "output_type": "stream",
     "text": [
      "True\n",
      "False\n",
      "False\n",
      "False\n",
      "True\n"
     ]
    }
   ],
   "source": [
    "import re\n",
    "def check_sentence(text):\n",
    "    result = re.search(r\"^[A-Z][a-z0-9 ]*[.?!]$\", text)\n",
    "    return result != None\n",
    "\n",
    "print(check_sentence(\"Is this is a sentence?\")) # True\n",
    "print(check_sentence(\"is this is a sentence?\")) # False\n",
    "print(check_sentence(\"Hello\")) # False\n",
    "print(check_sentence(\"1-2-3-GO!\")) # False\n",
    "print(check_sentence(\"A star is born.\")) # True"
   ]
  },
  {
   "cell_type": "markdown",
   "metadata": {},
   "source": [
    "Проверьте следующие ссылки для получения дополнительной информации:\n",
    "\n",
    "https://docs.python.org/3/howto/regex.html\n",
    "https://docs.python.org/3/library/re.html\n",
    "https://docs.python.org/3/howto/regex.html#greedy-versus-non-greedy\n",
    "Выкрикните к regex101.com , который будет объяснять каждый этап регулярного выражения."
   ]
  },
  {
   "cell_type": "markdown",
   "metadata": {},
   "source": [
    "Функция check_web_address проверяет, соответствует ли переданный текст веб-адресу верхнего уровня, то есть содержит буквенно-цифровые символы (включая буквы, цифры и знаки подчеркивания), а также точки, тире и знак плюс, за которым следует точка и домен верхнего уровня, состоящий только из символов, такой как \".com\", \".info\", \".edu\" и т. д. Для этого заполните регулярное выражение, используя escape-символы, подстановочные знаки, квалификаторы повторения, начало и конец. символы линии и классы символов."
   ]
  },
  {
   "cell_type": "code",
   "execution_count": 7,
   "metadata": {},
   "outputs": [
    {
     "name": "stdout",
     "output_type": "stream",
     "text": [
      "True\n",
      "False\n",
      "True\n",
      "False\n",
      "True\n"
     ]
    }
   ],
   "source": [
    "import re\n",
    "def check_web_address(text):\n",
    "    pattern = r\"\\.[a-z|A-Z]*$\"    #r\"^[A-Za-z0-9 ]*[.?!]$\"\n",
    "    result = re.search(pattern, text)\n",
    "    return result != None\n",
    "\n",
    "print(check_web_address(\"gmail.com\")) # True\n",
    "print(check_web_address(\"www@google\")) # False\n",
    "print(check_web_address(\"www.Coursera.org\")) # True\n",
    "print(check_web_address(\"web-address.com/homepage\")) # False\n",
    "print(check_web_address(\"My_Favorite-Blog.US\")) # True"
   ]
  },
  {
   "cell_type": "markdown",
   "metadata": {},
   "source": [
    "Функция check_time проверяет формат времени 12-часовых часов следующим образом: час находится в диапазоне от 1 до 12, без начального нуля, за которым следует двоеточие, затем минуты от 00 до 59, затем необязательный пробел, а затем AM или PM, в верхнем или нижнем регистре. Заполните регулярное выражение, чтобы сделать это.\n",
    "Not quite, check_time(6:02am) returned False, should be\n",
    "True."
   ]
  },
  {
   "cell_type": "code",
   "execution_count": 102,
   "metadata": {},
   "outputs": [
    {
     "name": "stdout",
     "output_type": "stream",
     "text": [
      "True\n",
      "True\n",
      "True\n",
      "False\n"
     ]
    }
   ],
   "source": [
    "import re\n",
    "def check_time(text):\n",
    "    pattern = r\"[1-91-2:0-50-9][ ]?[AM|am]|[PM|pm]\"           #[1-91-2:0-50-9][ ]?[AMam|pm]\"   \n",
    "    result = re.search(pattern, text)\n",
    "    return result != None\n",
    "\n",
    "print(check_time(\"12:45pm\")) # True\n",
    "print(check_time(\"9:59 AM\")) # True\n",
    "print(check_time(\"6:60am\")) # False\n",
    "print(check_time(\"five o'clock\")) # False"
   ]
  },
  {
   "cell_type": "markdown",
   "metadata": {},
   "source": [
    "Функция contains_acronym проверяет текст на наличие 2 или более символов или цифр, заключенных в круглые скобки, по крайней мере, с первым символом в верхнем регистре (если это буква), возвращая True, если условие выполнено, или False в противном случае. Например, «Мгновенный обмен сообщениями (IM) - это набор технологий связи, используемых для текстовой связи», должен возвращать значение «Истина», поскольку (IM) удовлетворяет условиям сопоставления. »Заполните регулярное выражение в этой функции:"
   ]
  },
  {
   "cell_type": "code",
   "execution_count": 70,
   "metadata": {},
   "outputs": [
    {
     "name": "stdout",
     "output_type": "stream",
     "text": [
      "True\n",
      "True\n",
      "False\n",
      "True\n",
      "True\n"
     ]
    }
   ],
   "source": [
    "import re\n",
    "def contains_acronym(text):\n",
    "    pattern = r\"[(A-Z][A-Z|a-z]+[)]\"\n",
    "    result = re.search(pattern, text)\n",
    "    return result != None\n",
    "\n",
    "print(contains_acronym(\"Instant messaging (IM) is a set of communication technologies used for text-based communication\")) # True\n",
    "print(contains_acronym(\"American Standard Code for Information Interchange (ASCII) is a character encoding standard for electronic communication\")) # True\n",
    "print(contains_acronym(\"Please do NOT enter without permission!\")) # False\n",
    "print(contains_acronym(\"PostScript is a fourth-generation programming language (4GL)\")) # True\n",
    "print(contains_acronym(\"Have fun using a self-contained underwater breathing apparatus (Scuba)!\")) # True"
   ]
  },
  {
   "cell_type": "markdown",
   "metadata": {},
   "source": [
    "Введите код, чтобы проверить, содержит ли переданный текст возможный почтовый индекс США, отформатированный следующим образом: ровно 5 цифр, а иногда, но не всегда, за ним следует тире с еще 4 цифрами. Почтовому индексу должен предшествовать хотя бы один пробел, и он не может быть в начале текста."
   ]
  },
  {
   "cell_type": "code",
   "execution_count": 2,
   "metadata": {},
   "outputs": [
    {
     "name": "stdout",
     "output_type": "stream",
     "text": [
      "True\n",
      "False\n",
      "True\n",
      "False\n"
     ]
    }
   ],
   "source": [
    "import re\n",
    "def check_zip_code (text):\n",
    "    result = re.search(r\"[\\ ][0-9]+[0-9]+[0-9][0-90-9]\", text)\n",
    "    return result != None\n",
    "\n",
    "print(check_zip_code(\"The zip codes for New York are 10001 thru 11104.\")) # True\n",
    "print(check_zip_code(\"90210 is a TV show\")) # False\n",
    "print(check_zip_code(\"Their address is: 123 Main Street, Anytown, AZ 85258-0001.\")) # True\n",
    "print(check_zip_code(\"The Parliament of Canada is at 111 Wellington St, Ottawa, ON K1A0A9.\")) # False"
   ]
  },
  {
   "cell_type": "code",
   "execution_count": 7,
   "metadata": {},
   "outputs": [
    {
     "name": "stdout",
     "output_type": "stream",
     "text": [
      "<re.Match object; span=(0, 13), match='Lovelace, Ada'>\n"
     ]
    }
   ],
   "source": [
    "#. Захват групп - это части шаблона, заключенные в скобки\n",
    "#звезда. Это означает, что он соответствует любому символу, \n",
    "#повторенному столько раз, сколько возможно, включая нол\n",
    "import re\n",
    "result = re.search(r\"^(\\w*), (\\w*)$\", \"Lovelace, Ada\")\n",
    "# \\w   any alphanumeric character; equivalent to [a-zA-Z0-9_]    #\\ w будет соответствовать буквам, цифрам и подчеркиванию\n",
    "print(result)"
   ]
  },
  {
   "cell_type": "code",
   "execution_count": 8,
   "metadata": {},
   "outputs": [
    {
     "name": "stdout",
     "output_type": "stream",
     "text": [
      "('Lovelace', 'Ada')\n"
     ]
    }
   ],
   "source": [
    "print(result.groups())\n",
    "#Поскольку мы определили две отдельные группы, метод group возвращает кортеж из двух элементов\n",
    "#Первый элемент содержит текст, соответствующий всему регулярному выражению"
   ]
  },
  {
   "cell_type": "code",
   "execution_count": 9,
   "metadata": {},
   "outputs": [
    {
     "name": "stdout",
     "output_type": "stream",
     "text": [
      "Lovelace, Ada\n"
     ]
    }
   ],
   "source": [
    "print(result[0])"
   ]
  },
  {
   "cell_type": "code",
   "execution_count": 10,
   "metadata": {},
   "outputs": [
    {
     "name": "stdout",
     "output_type": "stream",
     "text": [
      "Lovelace\n"
     ]
    }
   ],
   "source": [
    "#Теперь следующий индекс соответствует каждой из захваченных групп\n",
    "print(result[1])"
   ]
  },
  {
   "cell_type": "code",
   "execution_count": 11,
   "metadata": {},
   "outputs": [
    {
     "name": "stdout",
     "output_type": "stream",
     "text": [
      "Ada\n"
     ]
    }
   ],
   "source": [
    "print(result[2])\n",
    "#Таким образом, мы можем создать желаемое имя, используя эти индексы."
   ]
  },
  {
   "cell_type": "code",
   "execution_count": 12,
   "metadata": {},
   "outputs": [
    {
     "name": "stdout",
     "output_type": "stream",
     "text": [
      "Ada Lovelace\n"
     ]
    }
   ],
   "source": [
    "print(\"{} {}\".format(result[2], result[1]))"
   ]
  },
  {
   "cell_type": "code",
   "execution_count": 20,
   "metadata": {},
   "outputs": [
    {
     "name": "stdout",
     "output_type": "stream",
     "text": [
      "Ada Lovelace\n",
      "Dennis Richie\n",
      "Hopper, Grace M.\n"
     ]
    }
   ],
   "source": [
    "def rearrange_name(name):\n",
    "    result = re.search(r\"^(\\w*), (\\w*)$\", name)\n",
    "    if result is None:\n",
    "        return name\n",
    "    #Если результат отсутствует, это означает, что он не соответствует формату\n",
    "    #Так что в этом случае он просто вернет имя как есть.\n",
    "    return \"{} {}\".format(result[2], result[1])\n",
    "\n",
    "print(rearrange_name(\"Lovelace, Ada\"))\n",
    "print(rearrange_name(\"Richie, Dennis\"))\n",
    "print(rearrange_name(\"Hopper, Grace M.\"))"
   ]
  },
  {
   "cell_type": "code",
   "execution_count": 27,
   "metadata": {},
   "outputs": [
    {
     "name": "stdout",
     "output_type": "stream",
     "text": [
      "John F. Kennedy\n"
     ]
    }
   ],
   "source": [
    "import re\n",
    "def rearrange_name(name):\n",
    "    result = re.search(r\"^(\\w*), (\\w*\\ ?\\w*\\.)$\", name)    \n",
    "    if result == None:\n",
    "        return name\n",
    "    return \"{} {}\".format(result[2], result[1])\n",
    "\n",
    "name=rearrange_name(\"Kennedy, John F.\")\n",
    "print(name)"
   ]
  },
  {
   "cell_type": "markdown",
   "metadata": {},
   "source": [
    "Без экранирования точка в этом выражении будет соответствовать любому символу. В этом случае это заставляет код работать, но это неверно! Поскольку мы хотели специально сопоставить символ точки, нам следовало бы избежать точки в регулярном выражении. Правильное регулярное выражение должно быть:\n",
    "«^ ([\\ w \\ .-] *), ([\\ w \\ .-] *) $»"
   ]
  },
  {
   "cell_type": "code",
   "execution_count": 28,
   "metadata": {},
   "outputs": [
    {
     "name": "stdout",
     "output_type": "stream",
     "text": [
      "Ada Lovelace\n",
      "Dennis Richie\n",
      "Grace M. Hopper\n"
     ]
    }
   ],
   "source": [
    "def rearrange_name(name):\n",
    "    \"\"\"FINAL VERSION\"\"\"\n",
    "    result = re.search(r\"^([\\w\\ .-]*), ([\\w\\ .-]*)$\", name)\n",
    "    if result is None:\n",
    "        return name\n",
    "    #Если результат отсутствует, это означает, что он не соответствует формату\n",
    "    #Так что в этом случае он просто вернет имя как есть.\n",
    "    return \"{} {}\".format(result[2], result[1])\n",
    "\n",
    "print(rearrange_name(\"Lovelace, Ada\"))\n",
    "print(rearrange_name(\"Richie, Dennis\"))\n",
    "print(rearrange_name(\"Hopper, Grace M.\"))"
   ]
  },
  {
   "cell_type": "markdown",
   "metadata": {},
   "source": [
    "числовые повторения квалификаторов. Они записаны в фигурных скобках и могут быть одним или двумя числами, определяющими диапазон\n",
    "Помните, что выражение будет соответствовать той части данной строки, которая соответствует критериям. В этом случае мы ищем буквы, которые повторяются пять раз, а у призрака пять букв, поэтому он соответствует нашему шаблону"
   ]
  },
  {
   "cell_type": "code",
   "execution_count": 29,
   "metadata": {},
   "outputs": [
    {
     "name": "stdout",
     "output_type": "stream",
     "text": [
      "<re.Match object; span=(2, 7), match='ghost'>\n"
     ]
    }
   ],
   "source": [
    "print(re.search(r\"[a-zA-Z]{5}\" , \"a ghost\"))"
   ]
  },
  {
   "cell_type": "code",
   "execution_count": 30,
   "metadata": {},
   "outputs": [
    {
     "name": "stdout",
     "output_type": "stream",
     "text": [
      "<re.Match object; span=(2, 7), match='scary'>\n"
     ]
    }
   ],
   "source": [
    "print(re.search(r\"[a-zA-Z]{5}\" , \"a scary ghost appeared\"))\n",
    "#В этой строке у нас фактически есть больше совпадений для нашего поиска, но мы получаем только первое"
   ]
  },
  {
   "cell_type": "code",
   "execution_count": 36,
   "metadata": {},
   "outputs": [
    {
     "name": "stdout",
     "output_type": "stream",
     "text": [
      "['scary', 'ghost', 'appea']\n"
     ]
    }
   ],
   "source": [
    "print(re.findall(r\"[a-zA-Z]{5}\" , \"a scary ghost appeared\"))\n",
    "#Теперь у нас есть дополнительное совпадение для слова, которое на самом деле длиннее. \n",
    "#Что, если мы хотим сопоставить все слова длиной ровно пять букв?"
   ]
  },
  {
   "cell_type": "code",
   "execution_count": 37,
   "metadata": {},
   "outputs": [
    {
     "name": "stdout",
     "output_type": "stream",
     "text": [
      "['scary', 'ghost']\n"
     ]
    }
   ],
   "source": [
    "#\\ b, который соответствует ограничениям в начале и конце шаблона\n",
    "print(re.findall(r\"\\b[a-zA-Z]{5}\\b\" , \"a scary ghost appeared\"))"
   ]
  },
  {
   "cell_type": "code",
   "execution_count": 41,
   "metadata": {},
   "outputs": [
    {
     "name": "stdout",
     "output_type": "stream",
     "text": [
      "['really', 'strawberri']\n"
     ]
    }
   ],
   "source": [
    "#диапазон от пяти до десяти букв или цифр, мы можем использовать выражение, подобное этому.\n",
    "print(re.findall(r\"\\w{5,10}\", \"I really like strawberries\"))"
   ]
  },
  {
   "cell_type": "markdown",
   "metadata": {},
   "source": [
    "Эти диапазоны также могут быть открытыми. Число, за которым следует запятая, означает, по крайней мере, что много повторений без верхней границы ограничены только максимальными повторениями в исходном тексте.\n",
    "То есть, не менее 5:"
   ]
  },
  {
   "cell_type": "code",
   "execution_count": 152,
   "metadata": {},
   "outputs": [
    {
     "name": "stdout",
     "output_type": "stream",
     "text": [
      "['really', 'strawberries']\n"
     ]
    }
   ],
   "source": [
    "print(re.findall(r\"\\w{5,}\", \"I really like strawberries\"))"
   ]
  },
  {
   "cell_type": "code",
   "execution_count": 43,
   "metadata": {},
   "outputs": [
    {
     "name": "stdout",
     "output_type": "stream",
     "text": [
      "['I', '', 'reall', 'y', '', 'like', '', 'straw', 'berri', 'es', '']\n"
     ]
    }
   ],
   "source": [
    "#запятая, за которой следует число, означает от нуля до такого количества повторений\n",
    "print(re.findall(r\"\\w{,5}\", \"I really like strawberries\"))"
   ]
  },
  {
   "cell_type": "code",
   "execution_count": 44,
   "metadata": {},
   "outputs": [
    {
     "name": "stdout",
     "output_type": "stream",
     "text": [
      "<re.Match object; span=(14, 26), match='strawberries'>\n"
     ]
    }
   ],
   "source": [
    "print(re.search(r\"s\\w{,20}\", \"I really like strawberries\"))\n",
    "#Здесь мы ищем шаблон с буквой S, за которым следуют до 20 буквенно-цифровых символов. "
   ]
  },
  {
   "cell_type": "code",
   "execution_count": 49,
   "metadata": {},
   "outputs": [
    {
     "name": "stdout",
     "output_type": "stream",
     "text": [
      "12345\n"
     ]
    }
   ],
   "source": [
    "import re\n",
    "log = \"July 31 14:01:15 my_computer bad_process[12345]: ERROR WOW need upgrad\"\n",
    "regex = r\"\\[(\\d+)\\]\"\n",
    "#Первым символом шаблона является обратная косая черта, которая используется в качестве escape-символа. \n",
    "#Это означает, что следующий символ, который здесь представляет собой квадратную скобку,\n",
    "#обрабатывается буквально для сопоставления\n",
    "#первые скобки. оно будет использовано в качестве группы захвата\n",
    "#Скобки группы захвата \\d+     - это выражение будет соответствовать одному или нескольким числовым символам\n",
    "#После закрывающих скобок группы захвата - символ ], также сопровождаемый escape-символом \\\n",
    "result = re.search(regex, log)\n",
    "print(result[1])\n",
    "#поскольку мы собираем группы в выражении, мы можем получить доступ к совпадающим данным, указав значение в индексе 1"
   ]
  },
  {
   "cell_type": "code",
   "execution_count": 51,
   "metadata": {},
   "outputs": [
    {
     "name": "stdout",
     "output_type": "stream",
     "text": [
      "34561\n"
     ]
    }
   ],
   "source": [
    "result = re.search(regex, \"A completely different string that also has nombers [34561]\")\n",
    "print(result[1])"
   ]
  },
  {
   "cell_type": "code",
   "execution_count": 64,
   "metadata": {},
   "outputs": [
    {
     "name": "stdout",
     "output_type": "stream",
     "text": [
      "12345\n"
     ]
    }
   ],
   "source": [
    "def extract_pid(log_line):\n",
    "    regex = r\"\\[(\\d+)\\]\"\n",
    "    result = re.search(regex, log_line)\n",
    "    if result is None:       #если мы не смогли найти PID, мы вернем пустую строку\n",
    "        return \"\"\n",
    "    return result[1]\n",
    "\n",
    "print(extract_pid(log))"
   ]
  },
  {
   "cell_type": "code",
   "execution_count": 65,
   "metadata": {},
   "outputs": [
    {
     "name": "stdout",
     "output_type": "stream",
     "text": [
      "\n"
     ]
    }
   ],
   "source": [
    "print(extract_pid(\"99 elephants in a [cage]\"))"
   ]
  },
  {
   "cell_type": "markdown",
   "metadata": {},
   "source": [
    "Одна из функций называется разделением. Он работает аналогично функции split, которую мы использовали ранее со строками. Но вместо того, чтобы взять строку в качестве разделителя, вы можете взять любое регулярное выражение в качестве разделителя. Например, мы можем разделить фрагмент текста на отдельные предложения. Для этого нам нужно проверить не только точки, но и вопросительные знаки или восклицательные знаки, поскольку они также являются действительными окончаниями предложений"
   ]
  },
  {
   "cell_type": "code",
   "execution_count": 66,
   "metadata": {},
   "outputs": [
    {
     "name": "stdout",
     "output_type": "stream",
     "text": [
      "['I really like strawberries', ' Is it cool', ' Yes, it is', '']\n"
     ]
    }
   ],
   "source": [
    "print(re.split(r\"[.?!]\", \"I really like strawberries. Is it cool? Yes, it is!\"))\n",
    "#мы не избегаем символов, которые мы написали в квадратных скобках. \n",
    "#Это потому, что все, что находится в квадратных скобках, принимает буквальный символ, а не его особое значение\n",
    "#нет обозначений в результирующем списке. Если мы хотим, чтобы наш разделенный список включал элементы, \n",
    "#которые мы используем для разделения значений, мы можем использовать такие круглые скобки"
   ]
  },
  {
   "cell_type": "code",
   "execution_count": 67,
   "metadata": {},
   "outputs": [
    {
     "name": "stdout",
     "output_type": "stream",
     "text": [
      "['I really like strawberries', '.', ' Is it cool', '?', ' Yes, it is', '!', '']\n"
     ]
    }
   ],
   "source": [
    "print(re.split(r\"([.?!])\", \"I really like strawberries. Is it cool? Yes, it is!\"))\n",
    "#Это дало нам как предложения, так и обозначения как элементы списка"
   ]
  },
  {
   "cell_type": "markdown",
   "metadata": {},
   "source": [
    "функция, предоставляемая модулем RE, называется sub. Он используется для создания новых строк путем замены всех или части их другой строкой, аналогично методу замены строки, но с использованием регулярных выражений как для сопоставления, так и для замены"
   ]
  },
  {
   "cell_type": "code",
   "execution_count": 68,
   "metadata": {},
   "outputs": [
    {
     "data": {
      "text/plain": [
       "'Received an email for [REDACTED]'"
      ]
     },
     "execution_count": 68,
     "metadata": {},
     "output_type": "execute_result"
    }
   ],
   "source": [
    "re.sub(r\"[\\w.%+-]+@[\\w.-]+\", \"[REDACTED]\", \"Received an email for go_nuts95@myexample.com\")\n"
   ]
  },
  {
   "cell_type": "markdown",
   "metadata": {},
   "source": [
    "часть, которая идет перед знаком. Мы включаем буквенно-цифровые символы, представленные обратной косой чертой w, которая включает буквы, цифры и знак подчеркивания, а также точку, знак процента, плюс и тире\n",
    "После знака at мы разрешаем только буквенно-цифровые символы точка и тире. Это будет соответствовать всем адресам электронной почты, а также некоторым строкам, которые на самом деле не являются действительными адресами электронной почты, например адрес с двумя точками"
   ]
  },
  {
   "cell_type": "code",
   "execution_count": 74,
   "metadata": {},
   "outputs": [
    {
     "data": {
      "text/plain": [
       "'Ada Lovelace'"
      ]
     },
     "execution_count": 74,
     "metadata": {},
     "output_type": "execute_result"
    }
   ],
   "source": [
    "re.sub(r\"^([\\w .-]*), ([\\w .-]*)$\", r\"\\2 \\1\", \"Lovelace, Ada\")\n",
    "#В первом параметре у нас есть выражение, которое содержит две группы, которые мы хотим сопоставить: \n",
    "#одну перед запятой и одну после запятой. \n",
    "#Мы хотим использовать второй параметр для замены совпадающей строки. \n",
    "#Мы используем \\2, чтобы указать вторую захваченную группу, за которой следует пробел,\n",
    "#и \\1, чтобы указать первую захваченную группу"
   ]
  },
  {
   "cell_type": "code",
   "execution_count": 75,
   "metadata": {},
   "outputs": [
    {
     "data": {
      "text/plain": [
       "['One sentence. Ano', 'r one? And ', ' l', 'st one!']"
      ]
     },
     "execution_count": 75,
     "metadata": {},
     "output_type": "execute_result"
    }
   ],
   "source": [
    "#Мы хотим разделить фрагмент текста либо словом «a», либо «the», как это реализовано в следующем коде. \n",
    "#Каков итоговый разделенный список?\n",
    "re.split(r\"the|a\", \"One sentence. Another one? And the last one!\")\n",
    "#Это регулярное выражение использует «и» в качестве разделителей, независимо от того, где они находятся в тексте,\n",
    "#даже в середине других слов, таких как «Другой» и «последний».\n"
   ]
  },
  {
   "cell_type": "markdown",
   "metadata": {},
   "source": [
    "Мы работаем с CSV-файлом, который содержит информацию о сотрудниках. Каждая запись имеет поле имени, за которым следует поле номера телефона и поле роли. Поле номера телефона содержит номера телефонов США и должно быть изменено на международный формат, с \"+ 1-\" перед номером телефона. Заполните регулярное выражение, используя группы, чтобы использовать для этого функцию transform_record."
   ]
  },
  {
   "cell_type": "code",
   "execution_count": 254,
   "metadata": {},
   "outputs": [
    {
     "name": "stdout",
     "output_type": "stream",
     "text": [
      "Sabrina Green,+1-802-867-5309,System Administrator\n",
      "Eli Jones,+1-684-3481127,IT specialist\n",
      "Melody Daniels,+1-846-687-7436,Programmer\n",
      "Charlie Rivera,+1-698-746-3357,Web Developer\n"
     ]
    }
   ],
   "source": [
    "import re\n",
    "def transform_record(record):\n",
    "    new_record = re.sub(r\"([\\w\\ ]*,)([0-9]{3})(\\-[0-9]{3,7})(\\-[0-9]{4,})?(,[\\w\\ ]*)\", r\"\\1+1-\\2\\3\\4\\5\", record)\n",
    "                        #([0-9]{3})(\\-[0-9]{3,7})(\\-[0-9]{4,})?\", r\" +1-\\1\\2\\3\", record)\n",
    "    return new_record\n",
    "#,([\\w\\ ]*)     -   last one\n",
    "#([\\w\\ ]*),      first\n",
    "\n",
    "print(transform_record(\"Sabrina Green,802-867-5309,System Administrator\")) \n",
    "# Sabrina Green,+1-802-867-5309,System Administrator\n",
    "\n",
    "print(transform_record(\"Eli Jones,684-3481127,IT specialist\")) \n",
    "# Eli Jones,+1-684-3481127,IT specialist\n",
    "\n",
    "print(transform_record(\"Melody Daniels,846-687-7436,Programmer\")) \n",
    "# Melody Daniels,+1-846-687-7436,Programmer\n",
    "\n",
    "print(transform_record(\"Charlie Rivera,698-746-3357,Web Developer\")) \n",
    "# Charlie Rivera,+1-698-746-3357,Web Developer"
   ]
  },
  {
   "cell_type": "markdown",
   "metadata": {},
   "source": [
    "Функция multi_vowel_words возвращает все слова с 3 или более последовательными гласными (a, e, i, o, u)."
   ]
  },
  {
   "cell_type": "code",
   "execution_count": 227,
   "metadata": {},
   "outputs": [
    {
     "name": "stdout",
     "output_type": "stream",
     "text": [
      "['beautiful']\n",
      "['Obviously', 'queen', 'courageous', 'gracious']\n",
      "['rambunctious', 'quietly', 'delicious']\n",
      "['queue']\n",
      "[]\n"
     ]
    }
   ],
   "source": [
    "import re\n",
    "def multi_vowel_words(text):\n",
    "    pattern = r\"\\w+[aeiou]\\w*[aeiou]\\w*[aeiou]\\w+\"         # [a\\w?e\\w?iou]{3,}\"       # \\w?[i\\w?o\\w?u]{3,}\\b\"\n",
    "    result = re.findall(pattern, text)\n",
    "    return result\n",
    "\n",
    "print(multi_vowel_words(\"Life is beautiful\")) \n",
    "# ['beautiful']\n",
    "\n",
    "print(multi_vowel_words(\"Obviously, the queen is courageous and gracious.\")) \n",
    "# ['Obviously', 'queen', 'courageous', 'gracious']\n",
    "\n",
    "print(multi_vowel_words(\"The rambunctious children had to sit quietly and await their delicious dinner.\")) \n",
    "# ['rambunctious', 'quietly', 'delicious']\n",
    "\n",
    "print(multi_vowel_words(\"The order of a data queue is First In First Out (FIFO)\")) \n",
    "# ['queue']\n",
    "\n",
    "print(multi_vowel_words(\"Hello world!\")) \n",
    "# []"
   ]
  },
  {
   "cell_type": "code",
   "execution_count": 199,
   "metadata": {},
   "outputs": [
    {
     "name": "stdout",
     "output_type": "stream",
     "text": [
      "['eau']\n"
     ]
    }
   ],
   "source": [
    "print(re.findall(r\"[aeiou]{3,}\", \"Life is beautiful\"))"
   ]
  },
  {
   "cell_type": "code",
   "execution_count": 181,
   "metadata": {},
   "outputs": [
    {
     "name": "stdout",
     "output_type": "stream",
     "text": [
      "<re.Match object; span=(4, 8), match='ally'>\n"
     ]
    }
   ],
   "source": [
    "print(re.search(r\"a\\w{,20}\", \"I really like strawberries\"))"
   ]
  },
  {
   "cell_type": "markdown",
   "metadata": {},
   "source": [
    "Функция transform_comments преобразует комментарии в скрипте Python в те, которые используются компилятором Си. Это означает поиск текста, начинающегося с хеш-метки (#), и его замену двойной косой чертой (//), которая является индикатором однострочного комментария на языке C. Для целей этого упражнения мы будем игнорировать возможность использования хеш-метки, встроенной в команду Python, и предположим, что она используется только для обозначения комментария. Мы также хотим рассматривать повторяющиеся хеш-метки (##), (###) и т. Д. Как один индикатор комментария, который должен быть заменен просто (//), а не (# //) или (// #) , Заполните параметры метода замещения, чтобы завершить эту функцию:"
   ]
  },
  {
   "cell_type": "code",
   "execution_count": 246,
   "metadata": {},
   "outputs": [
    {
     "name": "stdout",
     "output_type": "stream",
     "text": [
      "// Start of program\n",
      "  number = 0   // Initialize the variable\n",
      "  number += 1   // Increment the variable\n",
      "  return(number)\n"
     ]
    }
   ],
   "source": [
    "import re\n",
    "def transform_comments(line_of_code):\n",
    "    result = re.sub(r\"([\\w\\ +=]*)([\\#]{1,3})([\\w\\ ]*)\", r\"\\1//\\3\", line_of_code)\n",
    "    #([a-zA-z\\ +=\\ \\ ])\\ ([\\#]{1,3})(\\w)?\n",
    "    #([\\#]{1,3})    +   2\n",
    "    #([\\w\\ +=]*)    +   1\n",
    "    #([\\w\\ +=]*)([\\#]{1,3})    1 and 2   +\n",
    "    #([\\w ]*)      +    3   \n",
    "    return result\n",
    "\n",
    "print(transform_comments(\"### Start of program\")) \n",
    "# Should be \"// Start of program\"\n",
    "print(transform_comments(\"  number = 0   ## Initialize the variable\")) \n",
    "# Should be \"  number = 0   // Initialize the variable\"\n",
    "print(transform_comments(\"  number += 1   # Increment the variable\")) \n",
    "# Should be \"  number += 1   // Increment the variable\"\n",
    "print(transform_comments(\"  return(number)\")) \n",
    "# Should be \"  return(number)\""
   ]
  },
  {
   "cell_type": "markdown",
   "metadata": {},
   "source": [
    "Функция convert_phone_number проверяет формат номера телефона в США: XXX-XXX-XXXX (3 цифры, затем тире, еще 3 цифры, а затем тире и 4 цифры) и преобразует его в более формальный формат, который выглядит следующим образом: (XXX) XXX-XXXX. Заполните регулярное выражение, чтобы завершить эту функцию."
   ]
  },
  {
   "cell_type": "code",
   "execution_count": 267,
   "metadata": {},
   "outputs": [
    {
     "name": "stdout",
     "output_type": "stream",
     "text": [
      "My number is (212) 345-9999.\n",
      "Please call (888) 555-1234\n",
      "123-123-12345\n",
      "Phone number of Buckingham Palace is +44 303 123 7300\n"
     ]
    }
   ],
   "source": [
    "import re\n",
    "def convert_phone_number(phone):\n",
    "    result = re.sub(r\"(\\D[A-Za-z\\ ]*)([0-9]{3})(-)([0-9]{3})(-)([0-9]{4,5})(\\.)?$\", r\"\\1(\\2) \\4\\5\\6\\7\",phone)\n",
    "    return result\n",
    "#([A-Za-z\\ ]*)      - 1\n",
    "#([0-9]{3})    - 2\n",
    "#(-)    -  3\n",
    "#([0-9]{3})   -  4\n",
    "#(-)     -   5\n",
    "#([0-9]{4,5})    - 6\n",
    "#(\\.)        -  7\n",
    "\n",
    "print(convert_phone_number(\"My number is 212-345-9999.\")) # My number is (212) 345-9999.\n",
    "print(convert_phone_number(\"Please call 888-555-1234\")) # Please call (888) 555-1234\n",
    "print(convert_phone_number(\"123-123-12345\")) # 123-123-12345\n",
    "print(convert_phone_number(\"Phone number of Buckingham Palace is +44 303 123 7300\")) # Phone number of Buckingham Palace is +44 303 123 7300"
   ]
  },
  {
   "cell_type": "code",
   "execution_count": null,
   "metadata": {},
   "outputs": [],
   "source": [
    "напишем тело функции named_domain . Эта функция использует регулярное выражение для определения домена адресов \n",
    "электронной почты пользователя в файле user_emails.csv.\n",
    "Функция принимает адрес и домен в качестве параметров, и ее основная цель - проверить, принадлежит ли адрес \n",
    "электронной почты старому домену (abc.edu).\n",
    "Для этого мы будем использовать регулярное выражение, хранящееся в переменной с именем domain_pattern . \n",
    "Эта переменная теперь будет соответствовать адресам электронной почты определенного домена. \n",
    "Если старый домен найден, функция возвращает true."
   ]
  },
  {
   "cell_type": "code",
   "execution_count": null,
   "metadata": {},
   "outputs": [],
   "source": [
    "def contains_domain(address, domain):\n",
    "    domain_pattern = r'[\\w\\.-]+@'+domain+'$'\n",
    "    if re.match(domain_pattern, address):\n",
    "        return True\n",
    "    return False\n",
    "\n"
   ]
  },
  {
   "cell_type": "markdown",
   "metadata": {},
   "source": [
    "Функция replace_domain принимает по одному адресу электронной почты за раз, а также старое доменное имя электронной почты и его новое доменное имя. Основная задача этой функции - заменить адреса электронной почты, содержащие старое доменное имя, новым доменным именем.\n",
    "Чтобы заменить имя домена, мы будем использовать модуль регулярных выражений и создадим шаблон, который идентифицирует подстроки, содержащие старое имя домена в адресах электронной почты. Затем мы будем хранить этот шаблон в переменной с именем old_domain_pattern . Далее мы будем использовать функцию подстановки sub () из re module, чтобы заменить старое доменное имя новым и вернуть обновленный адрес электронной почты.\n",
    "В предыдущих разделах вы могли видеть переменные с именами old_domain и new_domain , которые передаются в качестве параметров функциям\n",
    "import os\n",
    "print(os.getcwd())\n",
    "*************\n",
    "Заменить <csv_file_location>на путь к user_emails.csv. <csv_file_location>похож на путь /home/<username>/data/user_emails.csv . Для переменной report_file замените <data_directory> на путь к каталогу / data . <data_directory>похож на путь / home / <имя пользователя> / data. Замените <username>на тот, который указан на панели сведений о соединении с левой стороны.\n",
    "*********\n",
    "Затем инициализируйте пустой список, в котором вы будете хранить адреса электронной почты пользователя. Затем это передается в функцию contains_domain , где используется регулярное выражение, чтобы сопоставить их и, наконец, заменить домены с помощью функции replace_domain .\n",
    "\n",
    "Затем инициализируйте два разных списка: old_domain_email_list и new_domain_email_list . Список old_domain_email_list будет содержать все адреса электронной почты со старым доменом, которым регулярное выражение будет соответствовать в функции contains_domain . Так как функция содержит_домен принимает адрес электронной почты, переданный в качестве параметра, мы будем перебирать список user_email_list для передачи адресов электронной почты один за другим. Для каждого соответствующего адреса электронной почты мы добавим его в список old_domain_email_list."
   ]
  },
  {
   "cell_type": "code",
   "execution_count": null,
   "metadata": {},
   "outputs": [],
   "source": [
    "old_domain, new_domain = 'abc.edu', 'xyz.edu'\n",
    "csv_file_location = '<csv-file-location>'\n",
    "report_file =  '<data-directory>' + '/updated_user_emails.csv'\n",
    "user_email_list = []\n",
    "old_domain_email_list = []\n",
    "new_domain_email_list = []\n"
   ]
  },
  {
   "cell_type": "markdown",
   "metadata": {},
   "source": [
    "Модуль CSV, импортированный ранее, реализует классы для чтения и записи табличных данных в формате CSV. Библиотека CSV обеспечивает функциональность как для чтения, так и для записи в файлы CSV. В этом случае мы сначала собираемся прочитать данные из списка (который является файлом CSV). Данные считываются из файла user_emails.csv и передаются в список user_data_list . Таким образом, список user_data_list теперь содержит ту же информацию, что и информация в файле user_emails.csv . Пока мы делаем это, мы также добавим все адреса электронной почты в список user_email_list, который мы инициализировали на предыдущем шаге."
   ]
  },
  {
   "cell_type": "code",
   "execution_count": null,
   "metadata": {},
   "outputs": [],
   "source": [
    "with open(csv_file_location, 'r') as f:\n",
    "    user_data_list = list(csv.reader(f))\n",
    "    user_email_list = [data[1].strip() for data in user_data_list[1:]]\n",
    "    "
   ]
  },
  {
   "cell_type": "markdown",
   "metadata": {},
   "source": [
    "Список old_domain_email_list должен содержать все адреса электронной почты со старым доменом. Это будет проверено функцией contains_domain . Функция replace_domain затем берет адреса электронной почты (со старым доменом) и заменяет их новыми доменами."
   ]
  },
  {
   "cell_type": "code",
   "execution_count": null,
   "metadata": {},
   "outputs": [],
   "source": [
    "for email_address in user_email_list:\n",
    "    if contains_domain(email_address, old_domain):\n",
    "        old_domain_email_list.append(email_address)\n",
    "        replaced_email = replace_domain(email_address, old_domain, new_domain)\n",
    "        new_domain_email_list.append(replaced_email)\n",
    "        "
   ]
  },
  {
   "cell_type": "markdown",
   "metadata": {},
   "source": [
    "Теперь давайте определим заголовки для нашего выходного файла через user_data_list , который содержит все данные, считанные из файла user_emails.csv."
   ]
  },
  {
   "cell_type": "code",
   "execution_count": null,
   "metadata": {},
   "outputs": [],
   "source": [
    "email_key = ' ' + 'Email Address'\n",
    "email_index = user_data_list[0].index(email_key)"
   ]
  },
  {
   "cell_type": "markdown",
   "metadata": {},
   "source": [
    "Затем замените адреса электронной почты в списке user_data_list (в котором изначально все имена пользователей и соответствующие адреса электронной почты считывались из файла user_emails.csv), перебирая new_domain_email_list и заменяя соответствующие значения в user_data_list .\n",
    "\n",
    "Наконец, закройте файл с помощью метода close (). Закрытый файл больше не будет читаться или записываться. Хорошей практикой является использование метода close () для закрытия файла."
   ]
  },
  {
   "cell_type": "code",
   "execution_count": null,
   "metadata": {},
   "outputs": [],
   "source": [
    " for user in user_data_list[1:]:\n",
    "    for old_domain, new_domain in zip(old_domain_email_list, new_domain_email_list):\n",
    "        if user[email_index] == ' ' + old_domain:\n",
    "            user[email_index] = ' ' + new_domain\n",
    "    f.close()"
   ]
  },
  {
   "cell_type": "markdown",
   "metadata": {},
   "source": [
    "Теперь запишите список в выходной файл, который мы объявили в начале скрипта в переменной report_file ."
   ]
  },
  {
   "cell_type": "code",
   "execution_count": null,
   "metadata": {},
   "outputs": [],
   "source": [
    "with open(report_file, 'w+') as output_file:\n",
    "    writer = csv.writer(output_file)\n",
    "    writer.writerows(user_data_list)\n",
    "    output_file.close()\n",
    "\n",
    "main()"
   ]
  },
  {
   "cell_type": "code",
   "execution_count": 281,
   "metadata": {},
   "outputs": [
    {
     "ename": "FileNotFoundError",
     "evalue": "[Errno 2] No such file or directory: '/home/student-04-4ca9c2949f29/data/user_emails.csv'",
     "output_type": "error",
     "traceback": [
      "\u001b[1;31m---------------------------------------------------------------------------\u001b[0m",
      "\u001b[1;31mFileNotFoundError\u001b[0m                         Traceback (most recent call last)",
      "\u001b[1;32m<ipython-input-281-d9dab2c96f9b>\u001b[0m in \u001b[0;36m<module>\u001b[1;34m\u001b[0m\n\u001b[0;32m     53\u001b[0m         \u001b[0moutput_file\u001b[0m\u001b[1;33m.\u001b[0m\u001b[0mclose\u001b[0m\u001b[1;33m(\u001b[0m\u001b[1;33m)\u001b[0m\u001b[1;33m\u001b[0m\u001b[1;33m\u001b[0m\u001b[0m\n\u001b[0;32m     54\u001b[0m \u001b[1;33m\u001b[0m\u001b[0m\n\u001b[1;32m---> 55\u001b[1;33m \u001b[0mmain\u001b[0m\u001b[1;33m(\u001b[0m\u001b[1;33m)\u001b[0m\u001b[1;33m\u001b[0m\u001b[1;33m\u001b[0m\u001b[0m\n\u001b[0m",
      "\u001b[1;32m<ipython-input-281-d9dab2c96f9b>\u001b[0m in \u001b[0;36mmain\u001b[1;34m()\u001b[0m\n\u001b[0;32m     29\u001b[0m     \u001b[0mnew_domain_email_list\u001b[0m \u001b[1;33m=\u001b[0m \u001b[1;33m[\u001b[0m\u001b[1;33m]\u001b[0m\u001b[1;33m\u001b[0m\u001b[1;33m\u001b[0m\u001b[0m\n\u001b[0;32m     30\u001b[0m \u001b[1;33m\u001b[0m\u001b[0m\n\u001b[1;32m---> 31\u001b[1;33m     \u001b[1;32mwith\u001b[0m \u001b[0mopen\u001b[0m\u001b[1;33m(\u001b[0m\u001b[0mcsv_file_location\u001b[0m\u001b[1;33m,\u001b[0m \u001b[1;34m'r'\u001b[0m\u001b[1;33m)\u001b[0m \u001b[1;32mas\u001b[0m \u001b[0mf\u001b[0m\u001b[1;33m:\u001b[0m\u001b[1;33m\u001b[0m\u001b[1;33m\u001b[0m\u001b[0m\n\u001b[0m\u001b[0;32m     32\u001b[0m         \u001b[0muser_data_list\u001b[0m \u001b[1;33m=\u001b[0m \u001b[0mlist\u001b[0m\u001b[1;33m(\u001b[0m\u001b[0mcsv\u001b[0m\u001b[1;33m.\u001b[0m\u001b[0mreader\u001b[0m\u001b[1;33m(\u001b[0m\u001b[0mf\u001b[0m\u001b[1;33m)\u001b[0m\u001b[1;33m)\u001b[0m\u001b[1;33m\u001b[0m\u001b[1;33m\u001b[0m\u001b[0m\n\u001b[0;32m     33\u001b[0m         \u001b[0muser_email_list\u001b[0m \u001b[1;33m=\u001b[0m \u001b[1;33m[\u001b[0m\u001b[0mdata\u001b[0m\u001b[1;33m[\u001b[0m\u001b[1;36m1\u001b[0m\u001b[1;33m]\u001b[0m\u001b[1;33m.\u001b[0m\u001b[0mstrip\u001b[0m\u001b[1;33m(\u001b[0m\u001b[1;33m)\u001b[0m \u001b[1;32mfor\u001b[0m \u001b[0mdata\u001b[0m \u001b[1;32min\u001b[0m \u001b[0muser_data_list\u001b[0m\u001b[1;33m[\u001b[0m\u001b[1;36m1\u001b[0m\u001b[1;33m:\u001b[0m\u001b[1;33m]\u001b[0m\u001b[1;33m]\u001b[0m\u001b[1;33m\u001b[0m\u001b[1;33m\u001b[0m\u001b[0m\n",
      "\u001b[1;31mFileNotFoundError\u001b[0m: [Errno 2] No such file or directory: '/home/student-04-4ca9c2949f29/data/user_emails.csv'"
     ]
    }
   ],
   "source": [
    "#Теперь скрипт должен выглядеть так:\n",
    "#!/usr/bin/env python3\n",
    "\n",
    "import re\n",
    "import csv\n",
    "\n",
    "\n",
    "def contains_domain(address, domain):\n",
    "    \"\"\"Returns True if the email address contains the given,domain,in the domain position, false if not.\"\"\"\n",
    "    domain = r'[\\w\\.-]+@'+domain+'$'\n",
    "    if re.match(domain,address):\n",
    "        return True\n",
    "    return False\n",
    "\n",
    "\n",
    "def replace_domain(address, old_domain, new_domain):\n",
    "    \"\"\"Replaces the old domain with the new domain in the received address.\"\"\"\n",
    "    old_domain_pattern = r'' + old_domain + '$'\n",
    "    address = re.sub(old_domain_pattern, new_domain, address)\n",
    "    return address\n",
    "\n",
    "def main():\n",
    "    \"\"\"Processes the list of emails, replacing any instances of the old domain with the new domain.\"\"\"\n",
    "    old_domain, new_domain = 'abc.edu', 'xyz.edu'\n",
    "    csv_file_location = '/home/student-04-4ca9c2949f29/data/user_emails.csv'\n",
    "    report_file = '/home/student-04-4ca9c2949f29/data'+'/updated_user_emails.csv'\n",
    "    user_email_list = []\n",
    "    old_domain_email_list = []\n",
    "    new_domain_email_list = []\n",
    "\n",
    "    with open(csv_file_location, 'r') as f:\n",
    "        user_data_list = list(csv.reader(f))\n",
    "        user_email_list = [data[1].strip() for data in user_data_list[1:]]\n",
    "\n",
    "    for email_address in user_email_list:\n",
    "        if contains_domain(email_address, old_domain):\n",
    "            old_domain_email_list.append(email_address)\n",
    "            replaced_email = replace_domain(email_address,old_domain,new_domain)\n",
    "            new_domain_email_list.append(replaced_email)\n",
    "\n",
    "    email_key = ' ' + 'Email Address'\n",
    "    email_index = user_data_list[0].index(email_key)\n",
    "\n",
    "    for user in user_data_list[1:]:\n",
    "        for old_domain, new_domain in zip(old_domain_email_list, new_domain_email_list):\n",
    "            if user[email_index] == ' ' + old_domain:\n",
    "                user[email_index] = ' ' + new_domain\n",
    "    f.close()\n",
    "\n",
    "    with open(report_file, 'w+') as output_file:\n",
    "        writer = csv.writer(output_file)\n",
    "        writer.writerows(user_data_list)\n",
    "        output_file.close()\n",
    "\n",
    "main()"
   ]
  },
  {
   "cell_type": "code",
   "execution_count": null,
   "metadata": {},
   "outputs": [],
   "source": [
    "\n",
    "#!/usr/bin/env python3\n",
    "\n",
    "#Import libraries\n",
    "\n",
    "def contains_domain(address, domain):\n",
    "  \"\"\"Returns True if the email address contains the given domain,\n",
    "    in the domain position, false if not.\"\"\"\n",
    "  return False\n",
    "\n",
    "def replace_domain(address, old_domain, new_domain):\n",
    "  \"\"\"Replaces the old domain with the new domain in\n",
    "    the received address.\"\"\"\n",
    "  return address\n",
    "\n",
    "def main():\n",
    "  \"\"\"Processes the list of emails, replacing any instances of the\n",
    "    old domain with the new domain.\"\"\"\n",
    "\n",
    "main()\n"
   ]
  },
  {
   "cell_type": "code",
   "execution_count": null,
   "metadata": {},
   "outputs": [],
   "source": []
  }
 ],
 "metadata": {
  "kernelspec": {
   "display_name": "Python 3",
   "language": "python",
   "name": "python3"
  },
  "language_info": {
   "codemirror_mode": {
    "name": "ipython",
    "version": 3
   },
   "file_extension": ".py",
   "mimetype": "text/x-python",
   "name": "python",
   "nbconvert_exporter": "python",
   "pygments_lexer": "ipython3",
   "version": "3.7.6"
  }
 },
 "nbformat": 4,
 "nbformat_minor": 4
}
