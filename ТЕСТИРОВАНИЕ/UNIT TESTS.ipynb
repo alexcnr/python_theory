{
 "cells": [
  {
   "cell_type": "markdown",
   "metadata": {},
   "source": [
    "UNIT TESTS"
   ]
  },
  {
   "cell_type": "code",
   "execution_count": null,
   "metadata": {},
   "outputs": [],
   "source": [
    "#\n",
    "import re\n",
    "def rearrange_name(name):\n",
    "    \"\"\"FINAL VERSION\"\"\"\n",
    "    result = re.search(r\"^([\\w\\ .-]*), ([\\w\\ .-]*)$\", name)\n",
    "    if result is None:\n",
    "        return name\n",
    "    #Если результат отсутствует, это означает, что он не соответствует формату\n",
    "    #Так что в этом случае он просто вернет имя как есть.\n",
    "    return \"{} {}\".format(result[2], result[1])\n",
    "\n",
    "print(rearrange_name(\"Lovelace, Ada\"))\n",
    "print(rearrange_name(\"Richie, Dennis\"))\n",
    "print(rearrange_name(\"Hopper, Grace M.\"))"
   ]
  },
  {
   "cell_type": "markdown",
   "metadata": {},
   "source": [
    ">>> from rearrange import rearrange_name\n",
    "Ada Lovelace\n",
    "Dennis Richie\n",
    "Grace M. Hopper\n",
    ">>> from rearrange import rearrange_name\n",
    ">>> rearrange_name(\"Lovelace, Ada\")\n",
    "'Ada Lovelace'"
   ]
  },
  {
   "cell_type": "code",
   "execution_count": null,
   "metadata": {},
   "outputs": [],
   "source": [
    "#!/usr/bin/env python3\n",
    "\n",
    "#rearrange_test.py\n",
    "from rearrange import rearrange_name\n",
    "import unittest\n",
    "\n",
    "class TestRearrange(unittest.TestCase):\n",
    "    #Мы вызвали наш тестовый класс TestRearrange и указали, \n",
    "    # что он должен наследовать функциональность от класса TestCase, \n",
    "    # расположенного в модуле модульного тестирования\n",
    "    def test_basic(self):\n",
    "        testcase = \"Lovelace, Ada\"\n",
    "        expected = \"Ada Lovelace\"\n",
    "        self.assertEqual(rearrange_name(testcase), expected)\n",
    "        #Мы вызвали наш тестовый класс TestRearrange и указали, \n",
    "        # что он должен наследовать функциональность от класса TestCase, \n",
    "        # расположенного в модуле модульного тестирования\n",
    "\n",
    "unittest.main()"
   ]
  },
  {
   "cell_type": "markdown",
   "metadata": {},
   "source": [
    "(base) alexczn@alexczn-desktop:~/Документы/Notebooks_work/5 week$ ./rearrange_test.py\n",
    ".\n",
    "----------------------------------------------------------------------\n",
    "Ran 1 test in 0.000s\n",
    "\n",
    "OK\n"
   ]
  },
  {
   "cell_type": "code",
   "execution_count": null,
   "metadata": {},
   "outputs": [],
   "source": [
    "#!/usr/bin/env python3\n",
    "\n",
    "from rearrange import rearrange_name\n",
    "import unittest\n",
    "\n",
    "class TestRearrange(unittest.TestCase):\n",
    "    #Мы вызвали наш тестовый класс TestRearrange и указали, \n",
    "    # что он должен наследовать функциональность от класса TestCase, \n",
    "    # расположенного в модуле модульного тестирования\n",
    "    def test_basic(self):\n",
    "        testcase = \"Lovelace, Ada\"\n",
    "        expected = \"Ada Lovelace\"\n",
    "        self.assertEqual(rearrange_name(testcase), expected)\n",
    "        #Мы вызвали наш тестовый класс TestRearrange и указали, \n",
    "        # что он должен наследовать функциональность от класса TestCase, \n",
    "        # расположенного в модуле модульного тестирования\n",
    "    def test_empty(self):\n",
    "        \"\"\"тест на пустую строку, если попадется\"\"\"\n",
    "        testcase = \"\"\n",
    "        expected = \"\"\n",
    "        self.assertEqual(rearrange_name(testcase), expected)\n",
    "unittest.main()"
   ]
  },
  {
   "cell_type": "markdown",
   "metadata": {},
   "source": [
    "(base) alexczn@alexczn-desktop:~/Документы/Notebooks_work/5 week$ ./rearrange_test.py\n",
    ".E\n",
    "======================================================================\n",
    "ERROR: test_empty (__main__.TestRearrange)\n",
    "тест на пустую строку, если попадется\n",
    "----------------------------------------------------------------------\n",
    "Traceback (most recent call last):\n",
    "  File \"./rearrange_test.py\", line 21, in test_empty\n",
    "    self.assertEqual(rearrange_name(testcase), expected)\n",
    "  File \"/home/alexczn/Документы/Notebooks_work/5 week/rearrange.py\", line 12, in rearrange_name\n",
    "    return \"{} {}\".format(result[2], result[1])\n",
    "TypeError: 'NoneType' object is not subscriptable\n",
    "\n",
    "----------------------------------------------------------------------\n",
    "Ran 2 tests in 0.001s\n",
    "\n",
    "FAILED (errors=1)\n"
   ]
  },
  {
   "cell_type": "code",
   "execution_count": null,
   "metadata": {},
   "outputs": [],
   "source": [
    "#!/usr/bin/env python3\n",
    "\n",
    "import re\n",
    "\n",
    "def rearrange_name(name):\n",
    "    \"\"\"FINAL VERSION\"\"\"\n",
    "    result = re.search(r\"^([\\w\\ .-]*), ([\\w\\ .-]*)$\", name)\n",
    "    if result is None:\n",
    "        return name\n",
    "    #Если результат отсутствует, это означает, что он не соответствует формату\n",
    "    #Так что в этом случае он просто вернет имя как есть.\n",
    "    return \"{} {}\".format(result[2], result[1])"
   ]
  },
  {
   "cell_type": "markdown",
   "metadata": {},
   "source": [
    "(base) alexczn@alexczn-desktop:~/Документы/Notebooks_work/5 week$ ./rearrange_test.py\n",
    "..\n",
    "----------------------------------------------------------------------\n",
    "Ran 2 tests in 0.000s\n",
    "\n",
    "OK\n"
   ]
  },
  {
   "cell_type": "code",
   "execution_count": null,
   "metadata": {},
   "outputs": [],
   "source": [
    "#!/usr/bin/env python3\n",
    "\n",
    "from rearrange import rearrange_name\n",
    "import unittest\n",
    "\n",
    "class TestRearrange(unittest.TestCase):\n",
    "    #Мы вызвали наш тестовый класс TestRearrange и указали, \n",
    "    # что он должен наследовать функциональность от класса TestCase, \n",
    "    # расположенного в модуле модульного тестирования\n",
    "    def test_basic(self):\n",
    "        testcase = \"Lovelace, Ada\"\n",
    "        expected = \"Ada Lovelace\"\n",
    "        self.assertEqual(rearrange_name(testcase), expected)\n",
    "        #Мы вызвали наш тестовый класс TestRearrange и указали, \n",
    "        # что он должен наследовать функциональность от класса TestCase, \n",
    "        # расположенного в модуле модульного тестирования\n",
    "    \n",
    "    def test_empty(self):\n",
    "        \"\"\"тест на пустую строку, если попадется\"\"\"\n",
    "        testcase = \"\"\n",
    "        expected = \"\"\n",
    "        self.assertEqual(rearrange_name(testcase), expected)\n",
    "    \n",
    "    def test_double_name(self):\n",
    "        \"\"\"ТЕСТ НА ДВОЙНЫЕ ИМЕНА\"\"\"\n",
    "        testcase = \"Hopper, Grace M.\"\n",
    "        expected = \"Grace M. Hopper\"\n",
    "        self.assertEqual(rearrange_name(testcase), expected)\n",
    "        \n",
    "unittest.main()"
   ]
  },
  {
   "cell_type": "markdown",
   "metadata": {},
   "source": [
    "(base) alexczn@alexczn-desktop:~/Документы/Notebooks_work/5 week$ ./rearrange_test.py\n",
    "...\n",
    "----------------------------------------------------------------------\n",
    "Ran 3 tests in 0.001s\n",
    "\n",
    "OK"
   ]
  },
  {
   "cell_type": "markdown",
   "metadata": {},
   "source": [
    "(base) alexczn@alexczn-desktop:~/Документы/Notebooks_work/5 week$ ./rearrange_test.py\n",
    "...F\n",
    "======================================================================\n",
    "FAIL: test_one_name (__main__.TestRearrange)\n",
    "ТЕСТ ЕСЛИ БУДЕТ ОДНО ИМЯ\n",
    "----------------------------------------------------------------------\n",
    "Traceback (most recent call last):\n",
    "  File \"./rearrange_test.py\", line 34, in test_one_name\n",
    "    self.assertEqual(rearrange_name(testcase), expected)\n",
    "AssertionError: '' != 'Voltaire'                                   -    мы видим ошибку подтверждения, которая означает, что исходные неожиданные значения не совпадают\n",
    "Похоже, наша функция возвращает пустую строку вместо исходного имени\n",
    "\n",
    "+ Voltaire\n",
    "\n",
    "----------------------------------------------------------------------\n",
    "Ran 4 tests in 0.001s\n",
    "\n",
    "FAILED (failures=1)\n"
   ]
  },
  {
   "cell_type": "code",
   "execution_count": null,
   "metadata": {},
   "outputs": [],
   "source": [
    "#!/usr/bin/env python3\n",
    "\n",
    "import re\n",
    "\n",
    "def rearrange_name(name):\n",
    "    \"\"\"FINAL VERSION\"\"\"\n",
    "    result = re.search(r\"^([\\w\\ .-]*), ([\\w\\ .-]*)$\", name)\n",
    "    if result is None:\n",
    "        return ''\n",
    "    #Вместо того, чтобы возвращать пустую строку, когда результата нет, мы вернем исходную переменную имени.!!\n",
    "       \n",
    "    #Если результат отсутствует, это означает, что он не соответствует формату\n",
    "    #Так что в этом случае он просто вернет имя как есть.\n",
    "    return \"{} {}\".format(result[2], result[1])"
   ]
  },
  {
   "cell_type": "markdown",
   "metadata": {},
   "source": [
    "Best of Unit Testing Стандартный библиотечный модуль\n",
    "Поймите базовый пример:\n",
    "\n",
    "https://docs.python.org/3/library/unittest.html#basic-example\n",
    "Узнайте, как запустить тесты с помощью командной строки:\n",
    "\n",
    "https://docs.python.org/3/library/unittest.html#command-line-interface\n",
    "Понимать различные шаблоны проектирования модульных тестов:\n",
    "\n",
    "https://docs.python.org/3/library/unittest.html#organizing-test-code\n",
    "Поймите использование setUp, tearDown; setUpModule и tearDownModule"
   ]
  },
  {
   "cell_type": "markdown",
   "metadata": {},
   "source": [
    "Practice Notebook - Unit Tests and Edge Cases"
   ]
  },
  {
   "cell_type": "code",
   "execution_count": 1,
   "metadata": {},
   "outputs": [
    {
     "name": "stdout",
     "output_type": "stream",
     "text": [
      "['a', 'b']\n"
     ]
    }
   ],
   "source": [
    "import re \n",
    "  \n",
    "my_txt = \"An investment in knowledge pays the best interest.\"\n",
    "\n",
    "def LetterCompiler(txt):\n",
    "    result = re.findall(r'([a-c]).', txt)\n",
    "    return result\n",
    "\n",
    "print(LetterCompiler(my_txt))"
   ]
  },
  {
   "cell_type": "markdown",
   "metadata": {},
   "source": [
    "Из вывода видно, что функция LetterCompiler () находит все совпадения для букв от a до c во входной строке, если за ними следует другой символ, и возвращает их в виде списка строк, где каждая строка представляет одно совпадение. Но можем ли мы быть уверены, что эта функция всегда будет делать то, что мы ожидаем? Нам нужно написать код, который поможет нам отлавливать ошибки, ошибки и ошибки. Этот код должен автоматизировать процесс проверки, соответствует ли возвращаемое значение нашего кода ожиданиям путем динамической подачи в него контрольных примеров. Поскольку мы динамически добавляем разные строки, было бы разумно создать модульные тесты для нашего кода. Мы можем использовать модуль unittest для этого. Заполните пропуски ниже, чтобы создать автоматический тест unint, который проверяет, имеют ли входные строки правильный список совпадений строк."
   ]
  },
  {
   "cell_type": "code",
   "execution_count": 2,
   "metadata": {},
   "outputs": [],
   "source": [
    "import unittest\n",
    "\n",
    "class TestCompiler(unittest.TestCase):\n",
    "\n",
    "    def test_basic(self):\n",
    "        testcase = \"The best preparation for tomorrow is doing your best today.\"\n",
    "        expected = ['b', 'a', 'a', 'b', 'a']\n",
    "        self.assertEqual(LetterCompiler(testcase), expected)\n"
   ]
  },
  {
   "cell_type": "markdown",
   "metadata": {},
   "source": [
    "Теперь, когда ваш автоматический тест закодирован, вам нужно вызвать функцию unittest.main () для запуска теста. Важно отметить, что конфигурация для запуска модульных тестов в Jupyter отличается от конфигурации для запуска модульных тестов из командной строки. Запуск unittest.main () в Jupyter приведет к ошибке. Вы можете увидеть это, запустив следующую ячейку, чтобы выполнить автоматический тест."
   ]
  },
  {
   "cell_type": "code",
   "execution_count": 3,
   "metadata": {},
   "outputs": [
    {
     "name": "stderr",
     "output_type": "stream",
     "text": [
      "E\n",
      "======================================================================\n",
      "ERROR: /home/alexczn/ (unittest.loader._FailedTest)\n",
      "----------------------------------------------------------------------\n",
      "AttributeError: module '__main__' has no attribute '/home/alexczn/'\n",
      "\n",
      "----------------------------------------------------------------------\n",
      "Ran 1 test in 0.001s\n",
      "\n",
      "FAILED (errors=1)\n"
     ]
    },
    {
     "ename": "SystemExit",
     "evalue": "True",
     "output_type": "error",
     "traceback": [
      "An exception has occurred, use %tb to see the full traceback.\n",
      "\u001b[0;31mSystemExit\u001b[0m\u001b[0;31m:\u001b[0m True\n"
     ]
    },
    {
     "name": "stderr",
     "output_type": "stream",
     "text": [
      "/home/alexczn/anaconda3/lib/python3.7/site-packages/IPython/core/interactiveshell.py:3339: UserWarning: To exit: use 'exit', 'quit', or Ctrl-D.\n",
      "  warn(\"To exit: use 'exit', 'quit', or Ctrl-D.\", stacklevel=1)\n"
     ]
    }
   ],
   "source": [
    "unittest.main()"
   ]
  },
  {
   "cell_type": "markdown",
   "metadata": {},
   "source": [
    "Хлоп! SystemExit: True означает, что произошла ошибка, как и ожидалось. Причина в том, что unittest.main () смотрит на sys.argv. В Jupyter по умолчанию первый параметр sys.argv - это то, что запускает ядро ​​Jupyter, а это не тот случай, когда он запускается из командной строки. Этот параметр по умолчанию передается в unittest.main () в качестве атрибута, если вы явно не передаете его атрибуты, и поэтому он вызывает ошибку о том, что файл подключения ядра не является допустимым атрибутом. Передача явного списка в unittest.main () предотвращает просмотр sys.argv. Давайте передадим ему список ['first-arg-is-ignored'], например. Кроме того, мы передадим ему параметр exit = False, чтобы unittest.main () не мог завершить процесс ядра. Запустите следующую ячейку с параметрами argv и exit, переданными в unittest.main (), чтобы повторно запустить автоматический тест."
   ]
  },
  {
   "cell_type": "code",
   "execution_count": 4,
   "metadata": {},
   "outputs": [
    {
     "name": "stderr",
     "output_type": "stream",
     "text": [
      ".\n",
      "----------------------------------------------------------------------\n",
      "Ran 1 test in 0.001s\n",
      "\n",
      "OK\n"
     ]
    },
    {
     "data": {
      "text/plain": [
       "<unittest.main.TestProgram at 0x7f2134492990>"
      ]
     },
     "execution_count": 4,
     "metadata": {},
     "output_type": "execute_result"
    }
   ],
   "source": [
    "unittest.main(argv = ['first-arg-is-ignored'], exit = False)"
   ]
  },
  {
   "cell_type": "markdown",
   "metadata": {},
   "source": [
    "Крайние случаи - это входные данные для кода, которые дают неожиданные результаты и находятся в крайних точках диапазонов входных данных, с которыми, как мы полагаем, будут работать программы. Можете ли вы использовать ячейку ниже, чтобы написать некоторые крайние случаи? Мы уже заполнили еще один тест для вас! Как это, этот тест будет работать нормально. Можете ли вы придумать хотя бы один тестовый пример, который, по вашему мнению, может привести к неправильному возвращаемому значению? Нет неправильных ответов! Не стесняйтесь играть."
   ]
  },
  {
   "cell_type": "code",
   "execution_count": 9,
   "metadata": {},
   "outputs": [
    {
     "name": "stderr",
     "output_type": "stream",
     "text": [
      ".....\n",
      "----------------------------------------------------------------------\n",
      "Ran 5 tests in 0.006s\n",
      "\n",
      "OK\n"
     ]
    },
    {
     "data": {
      "text/plain": [
       "<unittest.main.TestProgram at 0x7f21344418d0>"
      ]
     },
     "execution_count": 9,
     "metadata": {},
     "output_type": "execute_result"
    }
   ],
   "source": [
    "class TestCompiler2(unittest.TestCase):\n",
    "    \n",
    "    def test_basic(self):\n",
    "        testcase = \"The best preparation for tomorrow is doing your best today.\"\n",
    "        expected = ['b', 'a', 'a', 'b', 'a']\n",
    "        self.assertEqual(LetterCompiler(testcase), expected)\n",
    "    \n",
    "    def test_two(self):\n",
    "        testcase = \"A b c d e f g h i j k l m n o q r s t u v w x y z\"\n",
    "        expected = ['b', 'c']\n",
    "        self.assertEqual(LetterCompiler(testcase), expected)\n",
    "        \n",
    "    def test_tree(self):\n",
    "        testcase = \"0 1 0 1 0 1 b 1 c 0\"\n",
    "        expected = ['b', 'c']\n",
    "        self.assertEqual(LetterCompiler(testcase), expected)\n",
    "        \n",
    "    def test_four(self):\n",
    "        testcase = \"\"\n",
    "        expected = []\n",
    "        self.assertEqual(LetterCompiler(testcase), expected)\n",
    "\n",
    "# EDGE CASES HERE\n",
    "\n",
    "unittest.main(argv = ['first-arg-is-ignored'], exit = False)"
   ]
  },
  {
   "cell_type": "markdown",
   "metadata": {},
   "source": [
    "Подробнее о тестах\n",
    "Проверьте следующие ссылки для получения дополнительной информации:\n",
    "\n",
    "https://landing.google.com/sre/sre-book/chapters/monitoring-distributed-systems/\n",
    "https://landing.google.com/sre/sre-book/chapters/testing-reliability/\n",
    "https://testing.googleblog.com/2007/10/performance-testing.html\n",
    "https://www.guru99.com/smoke-testing.html\n",
    "https://www.guru99.com/exploratory-testing.html\n",
    "https://testing.googleblog.com/2008/09/test-first-is-fun_08.html"
   ]
  },
  {
   "cell_type": "markdown",
   "metadata": {},
   "source": [
    "try/except\n",
    "\n",
    "Поэтому при написании блока try-exc важно помнить, что код в блоке execute выполняется только в том случае, если одна из инструкций в блоке try вызывает ошибку соответствующего типа\n",
    "В этом случае в блоке исключения мы возвращаем none, чтобы указать вызывающему коду, что функция не смогла сделать то, что от нее было запрошено. Возврат ни одного, когда что-то не получается, является общим шаблоном, но не единственным\n",
    "Важным моментом является то, что когда у нас есть операция, которая может вызвать ошибку, мы хотим корректно обработать этот сбой, используя блок try-exc.\n",
    "Чтобы использовать блок try-exc, мы должны знать об ошибках, которые могут вызывать вызываемые нами функции. Эта информация обычно является частью документации функций. Как только мы узнаем это, мы можем поместить операции, которые могут вызвать ошибки, как часть блока try, и действия, которые нужно предпринять, когда ошибки возникают, как часть соответствующего блока кроме. "
   ]
  },
  {
   "cell_type": "code",
   "execution_count": null,
   "metadata": {},
   "outputs": [],
   "source": [
    "#!/usr/bin/env python3\n",
    "\n",
    "def character_frequency(filename):\n",
    "    \n",
    "    \"\"\"читает содержимое файла, чтобы посчитать частоту каждого символа \"\"\"\n",
    "    try:\n",
    "        f = open(filename)\n",
    "    except OSError:\n",
    "        return None\n",
    "\n",
    "\n",
    "    characters = {}\n",
    "    for line in f:\n",
    "        for char in line:\n",
    "            characters[char] = characters.get(char, 0) + 1\n",
    "    f.close()\n",
    "    return characters"
   ]
  },
  {
   "cell_type": "code",
   "execution_count": null,
   "metadata": {},
   "outputs": [],
   "source": [
    "#!/usr/bin/env python3\n",
    "\n",
    "def validate_user(username, minlen):\n",
    "\"\"\" роверяет, является ли выбранное имя \n",
    "пользователя действительным\"\"\"\n",
    "\n",
    "    if minlen < 1 :\n",
    "        raise ValueError(\"minlen must be at least 1\")\n",
    "#если переменная minlen равна нулю или отрицательному числу\n",
    "\n",
    "    if len(username) < minlen:\n",
    "        return False\n",
    "#указанное имя представляет собой как минимум \n",
    "# определенное количество символов с минимальным \n",
    "# значением\n",
    "    if not username.isalnum():\n",
    "#проверяем, есть ли в строке не \n",
    "# алфавитно-цифровые символы\n",
    "        return False\n",
    "    return True\n"
   ]
  },
  {
   "cell_type": "markdown",
   "metadata": {},
   "source": [
    ">>> from validateuser import validate_user\n",
    ">>> validate_user(\"\", -1)\n",
    "Traceback (most recent call last):\n",
    "  File \"<stdin>\", line 1, in <module>\n",
    "  File \"/home/alexczn/Документы/Notebooks_work/5 week/validateuser.py\", line 7, in validate_user\n",
    "    raise ValueError(\"minlen must be at least 1\")\n",
    "ValueError: minlen must be at least 1\n",
    ">>> validate_user(\"\", 1)\n",
    "False\n",
    ">>> validate_user(\"mycooluser\", 1)\n",
    "True\n",
    ">>> validate_user(\"88\", 1)\n",
    "True\n",
    ">>> validate_user(88, 1)\n",
    "Traceback (most recent call last):\n",
    "  File \"<stdin>\", line 1, in <module>\n",
    "  File \"/home/alexczn/Документы/Notebooks_work/5 week/validateuser.py\", line 10, in validate_user\n",
    "    if len(username) < minlen:\n",
    "TypeError: object of type 'int' has no len()\n",
    ">>> validate_user([\"name\"], 1)\n",
    "Traceback (most recent call last):\n",
    "  File \"<stdin>\", line 1, in <module>\n",
    "  File \"/home/alexczn/Документы/Notebooks_work/5 week/validateuser.py\", line 15, in validate_user\n",
    "    if not username.isalnum():\n",
    "AttributeError: 'list' object has no attribute 'isalnum'\n"
   ]
  },
  {
   "cell_type": "markdown",
   "metadata": {},
   "source": [
    "ключевое слово assert. Это ключевое слово пытается проверить, что условное выражение истинно, и если оно ложно, оно вызывает ошибку подтверждения с указанным сообщением. "
   ]
  },
  {
   "cell_type": "code",
   "execution_count": null,
   "metadata": {},
   "outputs": [],
   "source": [
    "#!/usr/bin/env python3\n",
    "\n",
    "def validate_user(username, minlen):\n",
    "#\"\"\" роверяет, является ли выбранное имя пользователя действительным\"\"\"\n",
    "\n",
    "    assert type(username) == str, \"username must be a string\"\n",
    "    if minlen < 1:\n",
    "        raise ValueError(\"minlen must be at least 1\")\n",
    "#если переменная minlen равна нулю или отрицательному числу\n",
    "\n",
    "    if len(username) < minlen:\n",
    "        return False\n",
    "#указанное имя представляет собой как минимум \n",
    "# определенное количество символов с минимальным \n",
    "# значением\n",
    "    if not username.isalnum():\n",
    "#проверяем, есть ли в строке не \n",
    "# алфавитно-цифровые символы\n",
    "        return False\n",
    "    return True\n"
   ]
  },
  {
   "cell_type": "markdown",
   "metadata": {},
   "source": [
    ">>> validate_user([3], 1)\n",
    "Traceback (most recent call last):\n",
    "  File \"<stdin>\", line 1, in <module>\n",
    "  File \"/home/alexczn/Документы/Notebooks_work/5 week/validateuser.py\", line 6, in validate_user\n",
    "    assert type(username) == str, \"username must be a string\"\n",
    "AssertionError: username must be a string\n",
    ">>> validate_user(3, 1)\n",
    "Traceback (most recent call last):\n",
    "  File \"<stdin>\", line 1, in <module>\n",
    "  File \"/home/alexczn/Документы/Notebooks_work/5 week/validateuser.py\", line 6, in validate_user\n",
    "    assert type(username) == str, \"username must be a string\"\n",
    "AssertionError: username must be a string\n"
   ]
  },
  {
   "cell_type": "markdown",
   "metadata": {},
   "source": [
    "Мы видим, что метод assert raises работает немного иначе, чем метод assert equal, который мы использовали ранее. В этом случае нам нужно сначала передать ошибку, которую мы ожидаем, что функция вызовет. Затем имя функции, а затем все параметры, которые необходимо передать этой функции. За кулисами этот метод вызывает функцию, которую мы хотим протестировать, используя блок try кроме, и проверяя, вызывает ли он ошибку, которая, как мы сказали, возникнет."
   ]
  },
  {
   "cell_type": "code",
   "execution_count": null,
   "metadata": {},
   "outputs": [],
   "source": [
    "#!/usr/bin/env python3\n",
    "\n",
    "import unittest\n",
    "\n",
    "from validateuser import validate_user\n",
    "\n",
    "class TestValidateUser(unittest.TestCase):\n",
    "    def test_valid(self):\n",
    "        self.assertEqual(validate_user(\"validuser\", 3), True)\n",
    "    \n",
    "    def test_two_short(self):\n",
    "        self.assertEqual(validate_user(\"inv\", 5), False)\n",
    "\n",
    "    def test_invalid_characters(self):\n",
    "        self.assertEqual(validate_user(\"invalid_user\", 1), False)\n",
    "    \n",
    "    def test_invalid_minlen(self):\n",
    "        self.assertRaises(ValueError, validate_user, \"user\", -1)\n",
    "\n",
    "unittest.main()"
   ]
  },
  {
   "cell_type": "markdown",
   "metadata": {},
   "source": [
    "(base) alexczn@alexczn-desktop:~/Документы/Notebooks_work/5 week$ ./validateuser_test.py\n",
    "....\n",
    "----------------------------------------------------------------------\n",
    "Ran 4 tests in 0.000s\n",
    "\n",
    "OK\n"
   ]
  },
  {
   "cell_type": "markdown",
   "metadata": {},
   "source": [
    "Обработка ошибок Шпаргалка\n",
    "Повышение позволяет бросить исключение в любое время.\n",
    "\n",
    "https://docs.python.org/3/tutorial/errors.html#raising-exceptions\n",
    "Assert позволяет вам проверить, выполнено ли определенное условие, и выдать исключение, если это не так.\n",
    "\n",
    "https://docs.python.org/3/reference/simple_stmts.html#the-assert-statement\n",
    "https://stackoverflow.com/questions/5142418/what-is-the-use-of-assert-in-python\n",
    "Документация стандартной библиотеки довольно неясна. По сути, `assert <кое-что ложное>` вызовет AssertionError, который может потребоваться вызывающей стороне.\n",
    "\n",
    "В предложении try все операторы выполняются до тех пор, пока не встретится исключение.\n",
    "\n",
    "https://docs.python.org/3/tutorial/errors.html#handling-exceptions\n",
    "Except используется для перехвата и обработки исключений, которые встречаются в предложении try.\n",
    "\n",
    "https://docs.python.org/3/library/exceptions.html#bltin-exceptions\n",
    "Другие интересные чтения обработки исключений:\n",
    "\n",
    "https://doughellmann.com/blog/2009/06/19/python-exception-handling-techniques/"
   ]
  },
  {
   "cell_type": "markdown",
   "metadata": {},
   "source": [
    "Practice Notebook - Errors and Exceptions\n",
    "Ниже у нас есть функция, которая удаляет элемент из списка ввода. Запустите его, чтобы увидеть, что он делает"
   ]
  },
  {
   "cell_type": "code",
   "execution_count": 10,
   "metadata": {},
   "outputs": [
    {
     "name": "stdout",
     "output_type": "stream",
     "text": [
      "[5, 9, 6, 8]\n"
     ]
    }
   ],
   "source": [
    "my_list = [27, 5, 9, 6, 8]\n",
    "\n",
    "def RemoveValue(myVal):\n",
    "    my_list.remove(myVal)\n",
    "    return my_list\n",
    "\n",
    "print(RemoveValue(27))"
   ]
  },
  {
   "cell_type": "markdown",
   "metadata": {},
   "source": [
    "Мы использовали функцию RemoveValue (), чтобы удалить число 27 из заданного списка. Большой! Функция работает нормально. Однако возникает проблема, когда мы пытаемся снова вызвать функцию на номер 27. Запустите следующую ячейку, чтобы увидеть, что происходит."
   ]
  },
  {
   "cell_type": "code",
   "execution_count": 11,
   "metadata": {},
   "outputs": [
    {
     "ename": "ValueError",
     "evalue": "list.remove(x): x not in list",
     "output_type": "error",
     "traceback": [
      "\u001b[0;31m---------------------------------------------------------------------------\u001b[0m",
      "\u001b[0;31mValueError\u001b[0m                                Traceback (most recent call last)",
      "\u001b[0;32m<ipython-input-11-3f8c37f416f6>\u001b[0m in \u001b[0;36m<module>\u001b[0;34m\u001b[0m\n\u001b[0;32m----> 1\u001b[0;31m \u001b[0mprint\u001b[0m\u001b[0;34m(\u001b[0m\u001b[0mRemoveValue\u001b[0m\u001b[0;34m(\u001b[0m\u001b[0;36m27\u001b[0m\u001b[0;34m)\u001b[0m\u001b[0;34m)\u001b[0m\u001b[0;34m\u001b[0m\u001b[0;34m\u001b[0m\u001b[0m\n\u001b[0m",
      "\u001b[0;32m<ipython-input-10-597531fc6dcc>\u001b[0m in \u001b[0;36mRemoveValue\u001b[0;34m(myVal)\u001b[0m\n\u001b[1;32m      2\u001b[0m \u001b[0;34m\u001b[0m\u001b[0m\n\u001b[1;32m      3\u001b[0m \u001b[0;32mdef\u001b[0m \u001b[0mRemoveValue\u001b[0m\u001b[0;34m(\u001b[0m\u001b[0mmyVal\u001b[0m\u001b[0;34m)\u001b[0m\u001b[0;34m:\u001b[0m\u001b[0;34m\u001b[0m\u001b[0;34m\u001b[0m\u001b[0m\n\u001b[0;32m----> 4\u001b[0;31m     \u001b[0mmy_list\u001b[0m\u001b[0;34m.\u001b[0m\u001b[0mremove\u001b[0m\u001b[0;34m(\u001b[0m\u001b[0mmyVal\u001b[0m\u001b[0;34m)\u001b[0m\u001b[0;34m\u001b[0m\u001b[0;34m\u001b[0m\u001b[0m\n\u001b[0m\u001b[1;32m      5\u001b[0m     \u001b[0;32mreturn\u001b[0m \u001b[0mmy_list\u001b[0m\u001b[0;34m\u001b[0m\u001b[0;34m\u001b[0m\u001b[0m\n\u001b[1;32m      6\u001b[0m \u001b[0;34m\u001b[0m\u001b[0m\n",
      "\u001b[0;31mValueError\u001b[0m: list.remove(x): x not in list"
     ]
    }
   ],
   "source": [
    "print(RemoveValue(27))"
   ]
  },
  {
   "cell_type": "markdown",
   "metadata": {},
   "source": [
    "Из вышеприведенного вывода мы видим, что наша функция теперь вызывает ошибку ValueError. Это потому, что мы пытаемся удалить номер из списка, которого нет в списке. Когда мы удалили 27 из списка в первый раз, он больше не был доступен в списке для удаления во второй раз. Python сообщает нам, что число 27 больше не имеет смысла для нашей функции RemoveValue (). Мы хотели бы взять под контроль сообщения об ошибках здесь и предупредить эту ошибку. Заполните пропуски ниже, чтобы вызвать ValueError в функции RemoveValue (), если значение отсутствует в списке. Вы можете получить сообщение об ошибке, говорящее о чем-то очевидном, например: «Значение должно быть в данном списке»."
   ]
  },
  {
   "cell_type": "code",
   "execution_count": 12,
   "metadata": {},
   "outputs": [
    {
     "ename": "ValueError",
     "evalue": "Значение должно быть в данном списке",
     "output_type": "error",
     "traceback": [
      "\u001b[0;31m---------------------------------------------------------------------------\u001b[0m",
      "\u001b[0;31mValueError\u001b[0m                                Traceback (most recent call last)",
      "\u001b[0;32m<ipython-input-12-bf8f7a94d87e>\u001b[0m in \u001b[0;36m<module>\u001b[0;34m\u001b[0m\n\u001b[1;32m      7\u001b[0m     \u001b[0;32mreturn\u001b[0m \u001b[0mmy_list\u001b[0m\u001b[0;34m\u001b[0m\u001b[0;34m\u001b[0m\u001b[0m\n\u001b[1;32m      8\u001b[0m \u001b[0;34m\u001b[0m\u001b[0m\n\u001b[0;32m----> 9\u001b[0;31m \u001b[0mprint\u001b[0m\u001b[0;34m(\u001b[0m\u001b[0mRemoveValue\u001b[0m\u001b[0;34m(\u001b[0m\u001b[0;36m27\u001b[0m\u001b[0;34m)\u001b[0m\u001b[0;34m)\u001b[0m\u001b[0;34m\u001b[0m\u001b[0;34m\u001b[0m\u001b[0m\n\u001b[0m",
      "\u001b[0;32m<ipython-input-12-bf8f7a94d87e>\u001b[0m in \u001b[0;36mRemoveValue\u001b[0;34m(myVal)\u001b[0m\n\u001b[1;32m      1\u001b[0m \u001b[0;32mdef\u001b[0m \u001b[0mRemoveValue\u001b[0m\u001b[0;34m(\u001b[0m\u001b[0mmyVal\u001b[0m\u001b[0;34m)\u001b[0m\u001b[0;34m:\u001b[0m\u001b[0;34m\u001b[0m\u001b[0;34m\u001b[0m\u001b[0m\n\u001b[1;32m      2\u001b[0m     \u001b[0;32mif\u001b[0m \u001b[0mmyVal\u001b[0m \u001b[0;32mnot\u001b[0m \u001b[0;32min\u001b[0m \u001b[0mmy_list\u001b[0m\u001b[0;34m:\u001b[0m\u001b[0;34m\u001b[0m\u001b[0;34m\u001b[0m\u001b[0m\n\u001b[0;32m----> 3\u001b[0;31m         \u001b[0;32mraise\u001b[0m \u001b[0mValueError\u001b[0m\u001b[0;34m(\u001b[0m\u001b[0;34m\"Значение должно быть в данном списке\"\u001b[0m\u001b[0;34m)\u001b[0m\u001b[0;34m\u001b[0m\u001b[0;34m\u001b[0m\u001b[0m\n\u001b[0m\u001b[1;32m      4\u001b[0m \u001b[0;34m\u001b[0m\u001b[0m\n\u001b[1;32m      5\u001b[0m     \u001b[0;32melse\u001b[0m\u001b[0;34m:\u001b[0m\u001b[0;34m\u001b[0m\u001b[0;34m\u001b[0m\u001b[0m\n",
      "\u001b[0;31mValueError\u001b[0m: Значение должно быть в данном списке"
     ]
    }
   ],
   "source": [
    "def RemoveValue(myVal):\n",
    "    if myVal not in my_list:\n",
    "        raise ValueError(\"Значение должно быть в данном списке\")\n",
    "        \n",
    "    else:\n",
    "        my_list.remove(myVal)\n",
    "    return my_list\n",
    "\n",
    "print(RemoveValue(27))"
   ]
  },
  {
   "cell_type": "markdown",
   "metadata": {},
   "source": [
    "Теперь давайте посмотрим на другую функцию. Ниже у нас есть функция, которая сортирует входной список по алфавиту. Запустите его, чтобы увидеть, что он делает."
   ]
  },
  {
   "cell_type": "code",
   "execution_count": 14,
   "metadata": {},
   "outputs": [
    {
     "name": "stdout",
     "output_type": "stream",
     "text": [
      "['after', 'east', 'inside', 'over', 'up']\n"
     ]
    }
   ],
   "source": [
    "my_word_list = ['east', 'after', 'up', 'over', 'inside']\n",
    "\n",
    "def OrganizeList(myList):\n",
    "    myList.sort()\n",
    "    return myList\n",
    "\n",
    "print(OrganizeList(my_word_list))"
   ]
  },
  {
   "cell_type": "markdown",
   "metadata": {},
   "source": [
    "Мы использовали функцию OrganizeList () для сортировки заданного списка по алфавиту. Функция работает нормально. Однако существует проблема, когда мы пытаемся вызвать функцию в списке, содержащем числовые значения. Запустите следующую ячейку, чтобы увидеть, что происходит."
   ]
  },
  {
   "cell_type": "code",
   "execution_count": 15,
   "metadata": {},
   "outputs": [
    {
     "ename": "TypeError",
     "evalue": "'<' not supported between instances of 'str' and 'int'",
     "output_type": "error",
     "traceback": [
      "\u001b[0;31m---------------------------------------------------------------------------\u001b[0m",
      "\u001b[0;31mTypeError\u001b[0m                                 Traceback (most recent call last)",
      "\u001b[0;32m<ipython-input-15-459d95f39adf>\u001b[0m in \u001b[0;36m<module>\u001b[0;34m\u001b[0m\n\u001b[1;32m      1\u001b[0m \u001b[0mmy_new_list\u001b[0m \u001b[0;34m=\u001b[0m \u001b[0;34m[\u001b[0m\u001b[0;36m6\u001b[0m\u001b[0;34m,\u001b[0m \u001b[0;36m3\u001b[0m\u001b[0;34m,\u001b[0m \u001b[0;36m8\u001b[0m\u001b[0;34m,\u001b[0m \u001b[0;34m\"12\"\u001b[0m\u001b[0;34m,\u001b[0m \u001b[0;36m42\u001b[0m\u001b[0;34m]\u001b[0m\u001b[0;34m\u001b[0m\u001b[0;34m\u001b[0m\u001b[0m\n\u001b[0;32m----> 2\u001b[0;31m \u001b[0mprint\u001b[0m\u001b[0;34m(\u001b[0m\u001b[0mOrganizeList\u001b[0m\u001b[0;34m(\u001b[0m\u001b[0mmy_new_list\u001b[0m\u001b[0;34m)\u001b[0m\u001b[0;34m)\u001b[0m\u001b[0;34m\u001b[0m\u001b[0;34m\u001b[0m\u001b[0m\n\u001b[0m",
      "\u001b[0;32m<ipython-input-14-252da45e411d>\u001b[0m in \u001b[0;36mOrganizeList\u001b[0;34m(myList)\u001b[0m\n\u001b[1;32m      2\u001b[0m \u001b[0;34m\u001b[0m\u001b[0m\n\u001b[1;32m      3\u001b[0m \u001b[0;32mdef\u001b[0m \u001b[0mOrganizeList\u001b[0m\u001b[0;34m(\u001b[0m\u001b[0mmyList\u001b[0m\u001b[0;34m)\u001b[0m\u001b[0;34m:\u001b[0m\u001b[0;34m\u001b[0m\u001b[0;34m\u001b[0m\u001b[0m\n\u001b[0;32m----> 4\u001b[0;31m     \u001b[0mmyList\u001b[0m\u001b[0;34m.\u001b[0m\u001b[0msort\u001b[0m\u001b[0;34m(\u001b[0m\u001b[0;34m)\u001b[0m\u001b[0;34m\u001b[0m\u001b[0;34m\u001b[0m\u001b[0m\n\u001b[0m\u001b[1;32m      5\u001b[0m     \u001b[0;32mreturn\u001b[0m \u001b[0mmyList\u001b[0m\u001b[0;34m\u001b[0m\u001b[0;34m\u001b[0m\u001b[0m\n\u001b[1;32m      6\u001b[0m \u001b[0;34m\u001b[0m\u001b[0m\n",
      "\u001b[0;31mTypeError\u001b[0m: '<' not supported between instances of 'str' and 'int'"
     ]
    }
   ],
   "source": [
    "my_new_list = [6, 3, 8, \"12\", 42]\n",
    "print(OrganizeList(my_new_list))"
   ]
  },
  {
   "cell_type": "markdown",
   "metadata": {},
   "source": [
    "Из вышеприведенного вывода мы видим, что наша функция теперь вызывает ошибку TypeError. Это потому, что функция OrganizeList () имеет смысл для списков, которые заполнены только строками. Возьмите под контроль сообщения об ошибках здесь и опередите эту ошибку, заполнив пробелы ниже, чтобы добавить аргумент типа assert, который проверяет, заполнен ли входной список только строками. Вы можете получить сообщение об ошибке вроде «Список слов должен быть списком строк»."
   ]
  },
  {
   "cell_type": "code",
   "execution_count": 16,
   "metadata": {},
   "outputs": [
    {
     "ename": "AssertionError",
     "evalue": "username must be a string",
     "output_type": "error",
     "traceback": [
      "\u001b[0;31m---------------------------------------------------------------------------\u001b[0m",
      "\u001b[0;31mAssertionError\u001b[0m                            Traceback (most recent call last)",
      "\u001b[0;32m<ipython-input-16-266fec9e2f9c>\u001b[0m in \u001b[0;36m<module>\u001b[0;34m\u001b[0m\n\u001b[1;32m      5\u001b[0m     \u001b[0;32mreturn\u001b[0m \u001b[0mmyList\u001b[0m\u001b[0;34m\u001b[0m\u001b[0;34m\u001b[0m\u001b[0m\n\u001b[1;32m      6\u001b[0m \u001b[0;34m\u001b[0m\u001b[0m\n\u001b[0;32m----> 7\u001b[0;31m \u001b[0mprint\u001b[0m\u001b[0;34m(\u001b[0m\u001b[0mOrganizeList\u001b[0m\u001b[0;34m(\u001b[0m\u001b[0mmy_new_list\u001b[0m\u001b[0;34m)\u001b[0m\u001b[0;34m)\u001b[0m\u001b[0;34m\u001b[0m\u001b[0;34m\u001b[0m\u001b[0m\n\u001b[0m",
      "\u001b[0;32m<ipython-input-16-266fec9e2f9c>\u001b[0m in \u001b[0;36mOrganizeList\u001b[0;34m(myList)\u001b[0m\n\u001b[1;32m      1\u001b[0m \u001b[0;32mdef\u001b[0m \u001b[0mOrganizeList\u001b[0m\u001b[0;34m(\u001b[0m\u001b[0mmyList\u001b[0m\u001b[0;34m)\u001b[0m\u001b[0;34m:\u001b[0m\u001b[0;34m\u001b[0m\u001b[0;34m\u001b[0m\u001b[0m\n\u001b[1;32m      2\u001b[0m     \u001b[0;32mfor\u001b[0m \u001b[0mitem\u001b[0m \u001b[0;32min\u001b[0m \u001b[0mmyList\u001b[0m\u001b[0;34m:\u001b[0m\u001b[0;34m\u001b[0m\u001b[0;34m\u001b[0m\u001b[0m\n\u001b[0;32m----> 3\u001b[0;31m         \u001b[0;32massert\u001b[0m \u001b[0mtype\u001b[0m\u001b[0;34m(\u001b[0m\u001b[0mmyList\u001b[0m\u001b[0;34m)\u001b[0m \u001b[0;34m==\u001b[0m \u001b[0mstr\u001b[0m\u001b[0;34m,\u001b[0m \u001b[0;34m\"username must be a string\"\u001b[0m\u001b[0;34m\u001b[0m\u001b[0;34m\u001b[0m\u001b[0m\n\u001b[0m\u001b[1;32m      4\u001b[0m     \u001b[0mmyList\u001b[0m\u001b[0;34m.\u001b[0m\u001b[0msort\u001b[0m\u001b[0;34m(\u001b[0m\u001b[0;34m)\u001b[0m\u001b[0;34m\u001b[0m\u001b[0;34m\u001b[0m\u001b[0m\n\u001b[1;32m      5\u001b[0m     \u001b[0;32mreturn\u001b[0m \u001b[0mmyList\u001b[0m\u001b[0;34m\u001b[0m\u001b[0;34m\u001b[0m\u001b[0m\n",
      "\u001b[0;31mAssertionError\u001b[0m: username must be a string"
     ]
    }
   ],
   "source": [
    "def OrganizeList(myList):\n",
    "    for item in myList:\n",
    "        assert type(myList) == str, \"Список слов должен быть списком строк\"\n",
    "    myList.sort()\n",
    "    return myList\n",
    "\n",
    "print(OrganizeList(my_new_list))"
   ]
  },
  {
   "cell_type": "markdown",
   "metadata": {},
   "source": [
    "Давайте посмотрим на последний блок кода. Функция Guess () ниже берет список участников, присваивает каждому случайное число от 1 до 9 и сохраняет эту информацию в словаре с именем участника в качестве ключа. Затем он возвращает True, если Ларри был присвоен номер 9, и False, если это не так. Запустите его, чтобы увидеть, что он делает."
   ]
  },
  {
   "cell_type": "code",
   "execution_count": 17,
   "metadata": {},
   "outputs": [
    {
     "name": "stdout",
     "output_type": "stream",
     "text": [
      "False\n"
     ]
    }
   ],
   "source": [
    "import random\n",
    "\n",
    "participants = ['Jack','Jill','Larry','Tom']\n",
    "\n",
    "def Guess(participants):\n",
    "    my_participant_dict = {}\n",
    "    for participant in participants:\n",
    "        my_participant_dict[participant] = random.randint(1, 9)\n",
    "    if my_participant_dict['Larry'] == 9:\n",
    "        return True\n",
    "    else:\n",
    "        return False\n",
    "    \n",
    "print(Guess(participants))"
   ]
  },
  {
   "cell_type": "markdown",
   "metadata": {},
   "source": [
    "Кажется, код работает нормально. Тем не менее, есть некоторые вещи, которые могут пойти не так, поэтому найдите часть, которая может вызвать исключение, и оберните ее в блок-исключение, чтобы убедиться, что вы получаете разумное поведение. Сделайте это в клетке ниже. Код вашей функции, чтобы вернуть None, если происходит исключение."
   ]
  },
  {
   "cell_type": "code",
   "execution_count": 19,
   "metadata": {},
   "outputs": [
    {
     "name": "stdout",
     "output_type": "stream",
     "text": [
      "None\n"
     ]
    }
   ],
   "source": [
    "# Revised Guess() function\n",
    "def Guess(participants):\n",
    "    my_participant_dict = {}\n",
    "    for participant in participants:\n",
    "        my_participant_dict[participant] = random.randint(1, 9)\n",
    "    try:\n",
    "        if my_participant_dict['Larry'] == 9:\n",
    "            return True\n",
    "    \n",
    "    except:\n",
    "        return None\n",
    "    #else:\n",
    "    #    return False\n",
    "    \n",
    "    \n",
    "participants = ['Cathy','Fred','Jack','Tom']\n",
    "print(Guess(participants))"
   ]
  },
  {
   "cell_type": "markdown",
   "metadata": {},
   "source": [
    "labs"
   ]
  },
  {
   "cell_type": "code",
   "execution_count": null,
   "metadata": {},
   "outputs": [],
   "source": [
    "#!/usr/bin/env python3\n",
    "import unittest\n",
    "from emails import find_email\n",
    "\n",
    "class EmailsTest(unittest.TestCase):\n",
    "    def test_basic(self):\n",
    "        testcase = [None, \"Bree\", \"Campbell\"]\n",
    "        expected = \"breee@abc.edu\"\n",
    "        self.assertEqual(find_email(testcase), expected)\n",
    "if __name__ == '__main__':\n",
    "    unittest.main()"
   ]
  },
  {
   "cell_type": "code",
   "execution_count": 29,
   "metadata": {},
   "outputs": [
    {
     "ename": "FileNotFoundError",
     "evalue": "[Errno 2] No such file or directory: '/home/{{ username }}/data/user_emails.csv'",
     "output_type": "error",
     "traceback": [
      "\u001b[0;31m---------------------------------------------------------------------------\u001b[0m",
      "\u001b[0;31mFileNotFoundError\u001b[0m                         Traceback (most recent call last)",
      "\u001b[0;32m<ipython-input-29-f4f9ec0d3921>\u001b[0m in \u001b[0;36m<module>\u001b[0;34m\u001b[0m\n\u001b[1;32m     31\u001b[0m \u001b[0;34m\u001b[0m\u001b[0m\n\u001b[1;32m     32\u001b[0m \u001b[0;32mif\u001b[0m \u001b[0m__name__\u001b[0m \u001b[0;34m==\u001b[0m \u001b[0;34m\"__main__\"\u001b[0m\u001b[0;34m:\u001b[0m\u001b[0;34m\u001b[0m\u001b[0;34m\u001b[0m\u001b[0m\n\u001b[0;32m---> 33\u001b[0;31m     \u001b[0mmain\u001b[0m\u001b[0;34m(\u001b[0m\u001b[0;34m)\u001b[0m\u001b[0;34m\u001b[0m\u001b[0;34m\u001b[0m\u001b[0m\n\u001b[0m",
      "\u001b[0;32m<ipython-input-29-f4f9ec0d3921>\u001b[0m in \u001b[0;36mmain\u001b[0;34m()\u001b[0m\n\u001b[1;32m     28\u001b[0m \u001b[0;34m\u001b[0m\u001b[0m\n\u001b[1;32m     29\u001b[0m \u001b[0;32mdef\u001b[0m \u001b[0mmain\u001b[0m\u001b[0;34m(\u001b[0m\u001b[0;34m)\u001b[0m\u001b[0;34m:\u001b[0m\u001b[0;34m\u001b[0m\u001b[0;34m\u001b[0m\u001b[0m\n\u001b[0;32m---> 30\u001b[0;31m     \u001b[0mprint\u001b[0m\u001b[0;34m(\u001b[0m\u001b[0mfind_email\u001b[0m\u001b[0;34m(\u001b[0m\u001b[0msys\u001b[0m\u001b[0;34m.\u001b[0m\u001b[0margv\u001b[0m\u001b[0;34m)\u001b[0m\u001b[0;34m)\u001b[0m\u001b[0;34m\u001b[0m\u001b[0;34m\u001b[0m\u001b[0m\n\u001b[0m\u001b[1;32m     31\u001b[0m \u001b[0;34m\u001b[0m\u001b[0m\n\u001b[1;32m     32\u001b[0m \u001b[0;32mif\u001b[0m \u001b[0m__name__\u001b[0m \u001b[0;34m==\u001b[0m \u001b[0;34m\"__main__\"\u001b[0m\u001b[0;34m:\u001b[0m\u001b[0;34m\u001b[0m\u001b[0;34m\u001b[0m\u001b[0m\n",
      "\u001b[0;32m<ipython-input-29-f4f9ec0d3921>\u001b[0m in \u001b[0;36mfind_email\u001b[0;34m(argv)\u001b[0m\n\u001b[1;32m     21\u001b[0m         \u001b[0mfullname\u001b[0m \u001b[0;34m=\u001b[0m \u001b[0mstr\u001b[0m\u001b[0;34m(\u001b[0m\u001b[0margv\u001b[0m\u001b[0;34m[\u001b[0m\u001b[0;36m1\u001b[0m\u001b[0;34m]\u001b[0m \u001b[0;34m+\u001b[0m \u001b[0;34m\" \"\u001b[0m \u001b[0;34m+\u001b[0m \u001b[0margv\u001b[0m\u001b[0;34m[\u001b[0m\u001b[0;36m2\u001b[0m\u001b[0;34m]\u001b[0m\u001b[0;34m)\u001b[0m\u001b[0;34m\u001b[0m\u001b[0;34m\u001b[0m\u001b[0m\n\u001b[1;32m     22\u001b[0m     \u001b[0;31m# Preprocess the data\u001b[0m\u001b[0;34m\u001b[0m\u001b[0;34m\u001b[0m\u001b[0;34m\u001b[0m\u001b[0m\n\u001b[0;32m---> 23\u001b[0;31m         \u001b[0memail_dict\u001b[0m \u001b[0;34m=\u001b[0m \u001b[0mpopulate_dictionary\u001b[0m\u001b[0;34m(\u001b[0m\u001b[0;34m'/home/{{ username }}/data/user_emails.csv'\u001b[0m\u001b[0;34m)\u001b[0m\u001b[0;34m\u001b[0m\u001b[0;34m\u001b[0m\u001b[0m\n\u001b[0m\u001b[1;32m     24\u001b[0m     \u001b[0;31m# Find and print the email\u001b[0m\u001b[0;34m\u001b[0m\u001b[0;34m\u001b[0m\u001b[0;34m\u001b[0m\u001b[0m\n\u001b[1;32m     25\u001b[0m         \u001b[0;32mreturn\u001b[0m \u001b[0memail_dict\u001b[0m\u001b[0;34m.\u001b[0m\u001b[0mget\u001b[0m\u001b[0;34m(\u001b[0m\u001b[0mfullname\u001b[0m\u001b[0;34m.\u001b[0m\u001b[0mlower\u001b[0m\u001b[0;34m(\u001b[0m\u001b[0;34m)\u001b[0m\u001b[0;34m)\u001b[0m\u001b[0;34m\u001b[0m\u001b[0;34m\u001b[0m\u001b[0m\n",
      "\u001b[0;32m<ipython-input-29-f4f9ec0d3921>\u001b[0m in \u001b[0;36mpopulate_dictionary\u001b[0;34m(filename)\u001b[0m\n\u001b[1;32m      8\u001b[0m \u001b[0;31m#  \"\"\"Populate a dictionary with name/email pairs for easy lookup.\"\"\"\u001b[0m\u001b[0;34m\u001b[0m\u001b[0;34m\u001b[0m\u001b[0;34m\u001b[0m\u001b[0m\n\u001b[1;32m      9\u001b[0m     \u001b[0memail_dict\u001b[0m \u001b[0;34m=\u001b[0m \u001b[0;34m{\u001b[0m\u001b[0;34m}\u001b[0m\u001b[0;34m\u001b[0m\u001b[0;34m\u001b[0m\u001b[0m\n\u001b[0;32m---> 10\u001b[0;31m     \u001b[0;32mwith\u001b[0m \u001b[0mopen\u001b[0m\u001b[0;34m(\u001b[0m\u001b[0mfilename\u001b[0m\u001b[0;34m)\u001b[0m \u001b[0;32mas\u001b[0m \u001b[0mcsvfile\u001b[0m\u001b[0;34m:\u001b[0m\u001b[0;34m\u001b[0m\u001b[0;34m\u001b[0m\u001b[0m\n\u001b[0m\u001b[1;32m     11\u001b[0m         \u001b[0mlines\u001b[0m \u001b[0;34m=\u001b[0m \u001b[0mcsv\u001b[0m\u001b[0;34m.\u001b[0m\u001b[0mreader\u001b[0m\u001b[0;34m(\u001b[0m\u001b[0mcsvfile\u001b[0m\u001b[0;34m,\u001b[0m \u001b[0mdelimiter\u001b[0m \u001b[0;34m=\u001b[0m \u001b[0;34m','\u001b[0m\u001b[0;34m)\u001b[0m\u001b[0;34m\u001b[0m\u001b[0;34m\u001b[0m\u001b[0m\n\u001b[1;32m     12\u001b[0m         \u001b[0;32mfor\u001b[0m \u001b[0mrow\u001b[0m \u001b[0;32min\u001b[0m \u001b[0mlines\u001b[0m\u001b[0;34m:\u001b[0m\u001b[0;34m\u001b[0m\u001b[0;34m\u001b[0m\u001b[0m\n",
      "\u001b[0;31mFileNotFoundError\u001b[0m: [Errno 2] No such file or directory: '/home/{{ username }}/data/user_emails.csv'"
     ]
    }
   ],
   "source": [
    "#!/usr/bin/env python3\n",
    "\n",
    "import sys\n",
    "import csv\n",
    "\n",
    "\n",
    "def populate_dictionary(filename):\n",
    "#  \"\"\"Populate a dictionary with name/email pairs for easy lookup.\"\"\"\n",
    "    email_dict = {}\n",
    "    with open(filename) as csvfile:\n",
    "        lines = csv.reader(csvfile, delimiter = ',')\n",
    "        for row in lines:\n",
    "            name = str(row[0].lower())\n",
    "            email_dict[name] = row[1]\n",
    "    return email_dict\n",
    "\n",
    "def find_email(argv):\n",
    "#  \"\"\" Return an email address based on the username given.\"\"\"\n",
    "  # Create the username based on the command line input.\n",
    "    try:\n",
    "        fullname = str(argv[1] + \" \" + argv[2])\n",
    "    # Preprocess the data\n",
    "        email_dict = populate_dictionary('/home/{{ username }}/data/user_emails.csv')\n",
    "    # Find and print the email\n",
    "        return email_dict.get(fullname.lower())\n",
    "    except IndexError:\n",
    "        return \"Missing parameters\"\n",
    "\n",
    "def main():\n",
    "    print(find_email(sys.argv))\n",
    "\n",
    "if __name__ == \"__main__\":\n",
    "    main()"
   ]
  },
  {
   "cell_type": "code",
   "execution_count": null,
   "metadata": {},
   "outputs": [],
   "source": [
    "#!/usr/bin/env python3\n",
    "\n",
    "import unittest\n",
    "from emails import find_email\n",
    "\n",
    "\n",
    "class EmailsTest(unittest.TestCase):\n",
    "    def test_basic(self):\n",
    "        testcase = [None, \"Bree\", \"Campbell\"]\n",
    "        expected = \"breee@abc.edu\"\n",
    "        self.assertEqual(find_email(testcase), expected)\n",
    "\n",
    "    def test_one_name(self):\n",
    "        testcase = [None, \"John\"]\n",
    "        expected = \"Missing parameters\"\n",
    "        self.assertEqual(find_email(testcase), expected)\n",
    "\n",
    "    def test_two_name(self):\n",
    "        testcase = [None, \"Roy\",\"Cooper\"]\n",
    "        expected = \"No email address found\"\n",
    "        self.assertEqual(find_email(testcase), expected)\n",
    "\n",
    "if __name__ == '__main__':\n",
    "    unittest.main()"
   ]
  },
  {
   "cell_type": "code",
   "execution_count": 39,
   "metadata": {},
   "outputs": [],
   "source": [
    "#!/usr/bin/env python3\n",
    "#work\n",
    "import csv\n",
    "import sys\n",
    "\n",
    "\n",
    "def populate_dictionary(filename):\n",
    "    \"\"\"Populate a dictionary with name/email pairs for easy lookup.\"\"\"\n",
    "    email_dict = {}\n",
    "    with open(filename) as csvfile:\n",
    "        lines = csv.reader(csvfile, delimiter = ',')\n",
    "        for row in lines:\n",
    "            name = str(row[0].lower())\n",
    "            email_dict[name] = row[1]\n",
    "    return email_dict\n",
    "\n",
    "def find_email(argv):\n",
    "    \"\"\" Return an email address based on the username given.\"\"\"\n",
    "  # Create the username based on the command line input.\n",
    "    try:\n",
    "        fullname = str(argv[1] + \" \" + argv[2])\n",
    "    # Preprocess the data\n",
    "        email_dict = populate_dictionary('/home/student-02-5184e659edc3/data/user_emails.csv')\n",
    "        # If email exists, print it\n",
    "        if email_dict.get(fullname.lower()):\n",
    "                     \n",
    "            return email_dict.get(fullname.lower())\n",
    "        else:\n",
    "            return \"No email address found\"\n",
    "            \n",
    "            \n",
    "    except IndexError:\n",
    "        return \"Missing parameters\"\n",
    "\n",
    "def main():\n",
    "    print(find_email(sys.argv))\n",
    "\n",
    "if __name__ == \"__main__\":\n",
    "    main()"
   ]
  },
  {
   "cell_type": "code",
   "execution_count": 40,
   "metadata": {},
   "outputs": [
    {
     "ename": "ModuleNotFoundError",
     "evalue": "No module named 'emails'",
     "output_type": "error",
     "traceback": [
      "\u001b[0;31m---------------------------------------------------------------------------\u001b[0m",
      "\u001b[0;31mModuleNotFoundError\u001b[0m                       Traceback (most recent call last)",
      "\u001b[0;32m<ipython-input-40-3e7a98b4afa2>\u001b[0m in \u001b[0;36m<module>\u001b[0;34m\u001b[0m\n\u001b[1;32m      2\u001b[0m \u001b[0;34m\u001b[0m\u001b[0m\n\u001b[1;32m      3\u001b[0m \u001b[0;32mimport\u001b[0m \u001b[0munittest\u001b[0m\u001b[0;34m\u001b[0m\u001b[0;34m\u001b[0m\u001b[0m\n\u001b[0;32m----> 4\u001b[0;31m \u001b[0;32mfrom\u001b[0m \u001b[0memails\u001b[0m \u001b[0;32mimport\u001b[0m \u001b[0mfind_email\u001b[0m\u001b[0;34m\u001b[0m\u001b[0;34m\u001b[0m\u001b[0m\n\u001b[0m\u001b[1;32m      5\u001b[0m \u001b[0;34m\u001b[0m\u001b[0m\n\u001b[1;32m      6\u001b[0m \u001b[0;34m\u001b[0m\u001b[0m\n",
      "\u001b[0;31mModuleNotFoundError\u001b[0m: No module named 'emails'"
     ]
    }
   ],
   "source": [
    "#!/usr/bin/env python3\n",
    "\n",
    "import unittest\n",
    "from emails import find_email\n",
    "\n",
    "\n",
    "class EmailsTest(unittest.TestCase):\n",
    "    def test_basic(self):\n",
    "        testcase = [None, \"Bree\", \"Campbell\"]\n",
    "        expected = \"breee@abc.edu\"\n",
    "        self.assertEqual(find_email(testcase), expected)\n",
    "\n",
    "    def test_one_name(self):\n",
    "        testcase = [None, \"John\"]\n",
    "        expected = \"Missing parameters\"\n",
    "        self.assertEqual(find_email(testcase), expected)\n",
    "\n",
    "    def test_two_name(self):\n",
    "        testcase = [None, \"Roy\",\"Cooper\"]\n",
    "        expected = \"No email address found\"\n",
    "        self.assertEqual(find_email(testcase), expected)\n",
    "\n",
    "if __name__ == '__main__':\n",
    "    unittest.main()"
   ]
  },
  {
   "cell_type": "markdown",
   "metadata": {},
   "source": [
    "Этот скрипт состоит из двух функций: populate_dictionary (имя файла) и find_email (argv). Функция populate_dictionary (filename) читает файл user_emails.csv и заполняет словарь парами имя / значение. Другая функция find_emails (argv) ищет в словаре, созданном в предыдущей функции, имя пользователя, переданное функции в качестве параметра. Затем он возвращает связанный адрес электронной почты. Этот скрипт принимает имя и фамилию сотрудника в качестве аргументов командной строки и выводит их адрес электронной почты.\n",
    "\n",
    "Скрипт принимает аргументы через командную строку. Эти аргументы хранятся в списке с именем sys.argv . Первый элемент этого списка, т.е. argv [0], всегда является именем исполняемого файла. Таким образом, параметры, то есть имя и фамилия, затем сохраняются в argv [1] и argv [2] соответственно.\n",
    "python3 emails.py Blossom Gill\n",
    "\n",
    "Это даст вам адрес электронной почты, связанный с полным именем, переданным в качестве параметров. В этом случае имя - Blossom Gill, а идентификатор электронной почты, связанный с этим именем, - blossom@abc.edu.\n",
    "\n"
   ]
  },
  {
   "cell_type": "code",
   "execution_count": null,
   "metadata": {},
   "outputs": [],
   "source": []
  }
 ],
 "metadata": {
  "kernelspec": {
   "display_name": "Python 3",
   "language": "python",
   "name": "python3"
  },
  "language_info": {
   "codemirror_mode": {
    "name": "ipython",
    "version": 3
   },
   "file_extension": ".py",
   "mimetype": "text/x-python",
   "name": "python",
   "nbconvert_exporter": "python",
   "pygments_lexer": "ipython3",
   "version": "3.7.6"
  }
 },
 "nbformat": 4,
 "nbformat_minor": 4
}
