{
 "cells": [
  {
   "cell_type": "code",
   "execution_count": 2,
   "metadata": {},
   "outputs": [],
   "source": [
    "import math\n",
    "\n",
    "def triangle(base, height):\n",
    "    return base*height/2\n",
    "\n",
    "def rectangle(base, height):\n",
    "    return base*height\n",
    "\n",
    "def circle(radius):\n",
    "    return math.pi*(radius ** 2)"
   ]
  },
  {
   "cell_type": "code",
   "execution_count": 4,
   "metadata": {},
   "outputs": [
    {
     "name": "stdout",
     "output_type": "stream",
     "text": [
      "usage(total=983429038080, used=24883994624, free=908518113280)\n"
     ]
    }
   ],
   "source": [
    "#модуль shutil и функцию disk_usage для проверки текущего доступного дискового пространства в байтах\n",
    "import shutil\n",
    "du = shutil.disk_usage(\"/\")\n",
    "print(du)\n"
   ]
  },
  {
   "cell_type": "markdown",
   "metadata": {},
   "source": [
    "Но как насчет cpu_usage? Для этого мы можем использовать другой модуль с именем psutil. Это включает функцию cpu_percent, которая возвращает число, показывающее, сколько ЦП используется. Количество процессорного времени, используемого в каждый момент, может сильно изменяться, поскольку процессы запускаются и заканчиваются все время. Таким образом, эта функция получает интервал секунд и возвращает средний процент использования в этом интервале"
   ]
  },
  {
   "cell_type": "code",
   "execution_count": 6,
   "metadata": {},
   "outputs": [
    {
     "name": "stdout",
     "output_type": "stream",
     "text": [
      "92.38268122057363\n"
     ]
    }
   ],
   "source": [
    "#рассчитать процент свободного дискового пространства, разделив количество свободных байтов\n",
    "#на общее количество и умножив его на 100\n",
    "print(du.free/du.total * 100)"
   ]
  },
  {
   "cell_type": "code",
   "execution_count": 10,
   "metadata": {},
   "outputs": [
    {
     "data": {
      "text/plain": [
       "24.4"
      ]
     },
     "execution_count": 10,
     "metadata": {},
     "output_type": "execute_result"
    }
   ],
   "source": [
    "import psutil\n",
    "psutil.cpu_percent(0.1)"
   ]
  },
  {
   "cell_type": "code",
   "execution_count": 11,
   "metadata": {},
   "outputs": [
    {
     "data": {
      "text/plain": [
       "['AF_LINK',\n",
       " 'AIX',\n",
       " 'AccessDenied',\n",
       " 'BSD',\n",
       " 'CONN_CLOSE',\n",
       " 'CONN_CLOSE_WAIT',\n",
       " 'CONN_CLOSING',\n",
       " 'CONN_ESTABLISHED',\n",
       " 'CONN_FIN_WAIT1',\n",
       " 'CONN_FIN_WAIT2',\n",
       " 'CONN_LAST_ACK',\n",
       " 'CONN_LISTEN',\n",
       " 'CONN_NONE',\n",
       " 'CONN_SYN_RECV',\n",
       " 'CONN_SYN_SENT',\n",
       " 'CONN_TIME_WAIT',\n",
       " 'Error',\n",
       " 'FREEBSD',\n",
       " 'IOPRIO_CLASS_BE',\n",
       " 'IOPRIO_CLASS_IDLE',\n",
       " 'IOPRIO_CLASS_NONE',\n",
       " 'IOPRIO_CLASS_RT',\n",
       " 'LINUX',\n",
       " 'MACOS',\n",
       " 'NETBSD',\n",
       " 'NIC_DUPLEX_FULL',\n",
       " 'NIC_DUPLEX_HALF',\n",
       " 'NIC_DUPLEX_UNKNOWN',\n",
       " 'NoSuchProcess',\n",
       " 'OPENBSD',\n",
       " 'OSX',\n",
       " 'POSIX',\n",
       " 'POWER_TIME_UNKNOWN',\n",
       " 'POWER_TIME_UNLIMITED',\n",
       " 'PROCFS_PATH',\n",
       " 'PermissionError',\n",
       " 'Popen',\n",
       " 'Process',\n",
       " 'ProcessLookupError',\n",
       " 'STATUS_DEAD',\n",
       " 'STATUS_DISK_SLEEP',\n",
       " 'STATUS_IDLE',\n",
       " 'STATUS_LOCKED',\n",
       " 'STATUS_PARKED',\n",
       " 'STATUS_RUNNING',\n",
       " 'STATUS_SLEEPING',\n",
       " 'STATUS_STOPPED',\n",
       " 'STATUS_TRACING_STOP',\n",
       " 'STATUS_WAITING',\n",
       " 'STATUS_WAKING',\n",
       " 'STATUS_ZOMBIE',\n",
       " 'SUNOS',\n",
       " 'TimeoutExpired',\n",
       " 'WINDOWS',\n",
       " 'ZombieProcess',\n",
       " '_LOWEST_PID',\n",
       " '_PY3',\n",
       " '_TOTAL_PHYMEM',\n",
       " '__all__',\n",
       " '__author__',\n",
       " '__builtins__',\n",
       " '__cached__',\n",
       " '__doc__',\n",
       " '__file__',\n",
       " '__loader__',\n",
       " '__name__',\n",
       " '__package__',\n",
       " '__path__',\n",
       " '__spec__',\n",
       " '__version__',\n",
       " '_as_dict_attrnames',\n",
       " '_assert_pid_not_reused',\n",
       " '_common',\n",
       " '_compat',\n",
       " '_cpu_busy_time',\n",
       " '_cpu_times_deltas',\n",
       " '_cpu_tot_time',\n",
       " '_last_cpu_times',\n",
       " '_last_cpu_times_2',\n",
       " '_last_per_cpu_times',\n",
       " '_last_per_cpu_times_2',\n",
       " '_lock',\n",
       " '_pmap',\n",
       " '_ppid_map',\n",
       " '_pprint_secs',\n",
       " '_pslinux',\n",
       " '_psplatform',\n",
       " '_psposix',\n",
       " '_psutil_linux',\n",
       " '_psutil_posix',\n",
       " '_timer',\n",
       " '_wrap_numbers',\n",
       " 'boot_time',\n",
       " 'collections',\n",
       " 'contextlib',\n",
       " 'cpu_count',\n",
       " 'cpu_freq',\n",
       " 'cpu_percent',\n",
       " 'cpu_stats',\n",
       " 'cpu_times',\n",
       " 'cpu_times_percent',\n",
       " 'datetime',\n",
       " 'disk_io_counters',\n",
       " 'disk_partitions',\n",
       " 'disk_usage',\n",
       " 'functools',\n",
       " 'getloadavg',\n",
       " 'long',\n",
       " 'net_connections',\n",
       " 'net_if_addrs',\n",
       " 'net_if_stats',\n",
       " 'net_io_counters',\n",
       " 'os',\n",
       " 'pid_exists',\n",
       " 'pids',\n",
       " 'process_iter',\n",
       " 'pwd',\n",
       " 'sensors_battery',\n",
       " 'sensors_fans',\n",
       " 'sensors_temperatures',\n",
       " 'signal',\n",
       " 'subprocess',\n",
       " 'swap_memory',\n",
       " 'sys',\n",
       " 'test',\n",
       " 'threading',\n",
       " 'time',\n",
       " 'users',\n",
       " 'version_info',\n",
       " 'virtual_memory',\n",
       " 'wait_procs']"
      ]
     },
     "execution_count": 11,
     "metadata": {},
     "output_type": "execute_result"
    }
   ],
   "source": [
    "dir(psutil)"
   ]
  },
  {
   "cell_type": "code",
   "execution_count": 12,
   "metadata": {},
   "outputs": [
    {
     "name": "stdout",
     "output_type": "stream",
     "text": [
      "Help on function cpu_percent in module psutil:\n",
      "\n",
      "cpu_percent(interval=None, percpu=False)\n",
      "    Return a float representing the current system-wide CPU\n",
      "    utilization as a percentage.\n",
      "    \n",
      "    When *interval* is > 0.0 compares system CPU times elapsed before\n",
      "    and after the interval (blocking).\n",
      "    \n",
      "    When *interval* is 0.0 or None compares system CPU times elapsed\n",
      "    since last call or module import, returning immediately (non\n",
      "    blocking). That means the first time this is called it will\n",
      "    return a meaningless 0.0 value which you should ignore.\n",
      "    In this case is recommended for accuracy that this function be\n",
      "    called with at least 0.1 seconds between calls.\n",
      "    \n",
      "    When *percpu* is True returns a list of floats representing the\n",
      "    utilization as a percentage for each CPU.\n",
      "    First element of the list refers to first CPU, second element\n",
      "    to second CPU and so on.\n",
      "    The order of the list is consistent across calls.\n",
      "    \n",
      "    Examples:\n",
      "    \n",
      "      >>> # blocking, system-wide\n",
      "      >>> psutil.cpu_percent(interval=1)\n",
      "      2.0\n",
      "      >>>\n",
      "      >>> # blocking, per-cpu\n",
      "      >>> psutil.cpu_percent(interval=1, percpu=True)\n",
      "      [2.0, 1.0]\n",
      "      >>>\n",
      "      >>> # non-blocking (percentage since last call)\n",
      "      >>> psutil.cpu_percent(interval=None)\n",
      "      2.9\n",
      "      >>>\n",
      "\n"
     ]
    }
   ],
   "source": [
    "help(psutil.cpu_percent)"
   ]
  },
  {
   "cell_type": "code",
   "execution_count": 13,
   "metadata": {},
   "outputs": [
    {
     "data": {
      "text/plain": [
       "10.7"
      ]
     },
     "execution_count": 13,
     "metadata": {},
     "output_type": "execute_result"
    }
   ],
   "source": [
    "psutil.cpu_percent(0.5)"
   ]
  },
  {
   "cell_type": "code",
   "execution_count": 15,
   "metadata": {},
   "outputs": [
    {
     "name": "stdout",
     "output_type": "stream",
     "text": [
      "Everything ok\n"
     ]
    }
   ],
   "source": [
    "import shutil\n",
    "import psutil\n",
    "def check_disk_usage(disk):\n",
    "    \"\"\"Verifies that there's enough free space on disk\"\"\"\n",
    "    du = shutil.disk_usage(disk)\n",
    "    free = du.free / du.total * 100\n",
    "    return free > 20\n",
    "def check_cpu_usage():\n",
    "    \"\"\"Verifies that there's enough unused CPU\"\"\"\n",
    "    usage = psutil.cpu_percent(1)\n",
    "    return usage < 75\n",
    "# If there's not enough disk, or not enough CPU, print an error\n",
    "if not check_disk_usage('/') or not check_cpu_usage():\n",
    "    print(\"ERROR!\")\n",
    "else:\n",
    "    print(\"Everything ok\")\n"
   ]
  },
  {
   "cell_type": "code",
   "execution_count": 16,
   "metadata": {},
   "outputs": [],
   "source": [
    "#!/usr/bin/env python3\n",
    "import requests\n",
    "import socket\n",
    "\n",
    "def check_localfost():\n",
    "    localhost = socket.gethostbyname('localhost')\n",
    "    if localhost == True:\n",
    "        return True\n",
    "\n",
    "def check_connectivity():\n",
    "    request = requests.get(\"http://www.google.com\")\n",
    "    if request == 200:\n",
    "        return True\n"
   ]
  },
  {
   "cell_type": "code",
   "execution_count": null,
   "metadata": {},
   "outputs": [],
   "source": [
    "!/usr/bin/env python3\n",
    "from network import check_localfost\n",
    "from network import check_connectivity\n",
    "import network\n",
    "import shutil\n",
    "import psutil\n",
    "def check_disk_usage(disk):\n",
    "    \"\"\"Verifies that there's enough free space on disk\"\"\"\n",
    "    du = shutil.disk_usage(disk)\n",
    "    free = du.free / du.total * 100\n",
    "    return free > 20\n",
    " \n",
    "def check_cpu_usage():\n",
    "    \"\"\"Verifies that there's enough unused CPU\"\"\"\n",
    "    usage = psutil.cpu_percent(1)\n",
    "    return usage < 75\n",
    "# If there's not enough disk, or not enough CPU, print an error\n",
    "if not check_disk_usage('/') or not check_cpu_usage():\n",
    "    print(\"ERROR!\")\n",
    "elif check_localfost() and check_connectivity():\n",
    "    print(\"Everything ok\")\n",
    "#else:\n",
    "#    print(\"Everything ok\")\n",
    "else:\n",
    "    print(\"Network checks failed\")\n",
    "    "
   ]
  },
  {
   "cell_type": "code",
   "execution_count": null,
   "metadata": {},
   "outputs": [],
   "source": [
    "#!/usr/bin/env python3\n",
    "import requests\n",
    "import socket\n",
    "\n",
    "def check_localfost():\n",
    "    localhost = socket.gethostbyname('localhost')\n",
    "    if localhost:\n",
    "        return True\n",
    "\n",
    "def check_connectivity():\n",
    "    request = requests.get(\"http://www.google.com\")\n",
    "    if request ==\"200\":\n",
    "        return True\n",
    "\n"
   ]
  },
  {
   "cell_type": "code",
   "execution_count": null,
   "metadata": {},
   "outputs": [],
   "source": [
    "!/usr/bin/env python3\n",
    "from network import check_localfost\n",
    "from network import check_connectivity\n",
    "import network\n",
    "import shutil\n",
    "import psutil\n",
    "def check_disk_usage(disk):\n",
    "    \"\"\"Verifies that there's enough free space on disk\"\"\"\n",
    "    du = shutil.disk_usage(disk)\n",
    "    free = du.free / du.total * 100\n",
    "    return free > 20\n",
    " \n",
    "def check_cpu_usage():\n",
    "    \"\"\"Verifies that there's enough unused CPU\"\"\"\n",
    "    usage = psutil.cpu_percent(1)\n",
    "    return usage < 75\n",
    "# If there's not enough disk, or not enough CPU, print an error\n",
    "if not check_disk_usage('/') or not check_cpu_usage():\n",
    "    print(\"ERROR!\")\n",
    "elif check_localfost() and check_connectivity():\n",
    "    print(\"Everything ok\")\n",
    "#else:\n",
    "#    print(\"Everything ok\")\n",
    "else:\n",
    "    print(\"Network checks failed\")\n",
    "    "
   ]
  },
  {
   "cell_type": "code",
   "execution_count": null,
   "metadata": {},
   "outputs": [],
   "source": []
  }
 ],
 "metadata": {
  "kernelspec": {
   "display_name": "Python 3",
   "language": "python",
   "name": "python3"
  },
  "language_info": {
   "codemirror_mode": {
    "name": "ipython",
    "version": 3
   },
   "file_extension": ".py",
   "mimetype": "text/x-python",
   "name": "python",
   "nbconvert_exporter": "python",
   "pygments_lexer": "ipython3",
   "version": "3.7.6"
  }
 },
 "nbformat": 4,
 "nbformat_minor": 4
}
