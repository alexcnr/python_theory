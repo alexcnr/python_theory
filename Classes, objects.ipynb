{
 "cells": [
  {
   "cell_type": "markdown",
   "metadata": {},
   "source": [
    "Классы, объекты"
   ]
  },
  {
   "cell_type": "code",
   "execution_count": 2,
   "metadata": {},
   "outputs": [],
   "source": [
    "class Apple:\n",
    "    pass #используем ключевое слово pass, чтобы показать, что тело пусто\n"
   ]
  },
  {
   "cell_type": "code",
   "execution_count": 3,
   "metadata": {},
   "outputs": [],
   "source": [
    "class Apple: #определяем два атрибута: цвет и вкус\n",
    "    #определяем их как строки, потому что мы ожидаем, что эти атрибуты будут\n",
    "    color = ''\n",
    "    flavor = ''\n",
    "    "
   ]
  },
  {
   "cell_type": "code",
   "execution_count": 4,
   "metadata": {},
   "outputs": [
    {
     "name": "stdout",
     "output_type": "stream",
     "text": [
      "red\n"
     ]
    }
   ],
   "source": [
    "Jonagold = Apple() #создаем новый экземпляр нашего класса Apple и присваиваем его переменной с именем jonagold\n",
    "#Чтобы создать новый экземпляр любого класса, мы вызываем имя класса, как если бы это была функция\n",
    "Jonagold.color = 'red' #установим значения атрибутов\n",
    "Jonagold.flavor = 'sweet'\n",
    "print(Jonagold.color)\n",
    "#Синтаксис, используемый для доступа к атрибутам, называется точечной нотацией из-за точки, используемой в выражении\n",
    "#Атрибуты и методы некоторых объектов могут быть другими объектами и могут иметь собственные атрибуты и методы"
   ]
  },
  {
   "cell_type": "code",
   "execution_count": 6,
   "metadata": {},
   "outputs": [
    {
     "name": "stdout",
     "output_type": "stream",
     "text": [
      "RED\n"
     ]
    }
   ],
   "source": [
    "print(Jonagold.color.upper())"
   ]
  },
  {
   "cell_type": "code",
   "execution_count": 7,
   "metadata": {},
   "outputs": [],
   "source": [
    "golden = Apple() #создаем 2 экземпляр класса Apple\n",
    "golden.color = 'yellow'\n",
    "golden.flavor = 'soft'"
   ]
  },
  {
   "cell_type": "code",
   "execution_count": 8,
   "metadata": {},
   "outputs": [
    {
     "name": "stdout",
     "output_type": "stream",
     "text": [
      "Roses are rose,\n",
      "violets are violet,\n",
      "rose and violet\n"
     ]
    }
   ],
   "source": [
    "class Flower:\n",
    "  color = 'unknown'\n",
    "\n",
    "rose = Flower()\n",
    "rose.color = 'rose'\n",
    "\n",
    "violet = Flower()\n",
    "violet.color = 'violet'\n",
    "\n",
    "this_pun_is_for_you = \"{} and {}\".format(rose.color, violet.color)\n",
    "\n",
    "print(\"Roses are {},\".format(rose.color))\n",
    "print(\"violets are {},\".format(violet.color))\n",
    "print(this_pun_is_for_you)"
   ]
  },
  {
   "cell_type": "code",
   "execution_count": 11,
   "metadata": {},
   "outputs": [
    {
     "name": "stdout",
     "output_type": "stream",
     "text": [
      "Johanna has 2 apples and Martin has 1 apples\n",
      "Johanna has 2 ideas and Martin has 2 ideas\n"
     ]
    }
   ],
   "source": [
    "# “If you have an apple and I have an apple and we exchange these apples then\n",
    "# you and I will still each have one apple. But if you have an idea and I have\n",
    "# an idea and we exchange these ideas, then each of us will have two ideas.”\n",
    "# George Bernard Shaw\n",
    "\n",
    "class Person:\n",
    "    apples = 0\n",
    "    ideas = 0\n",
    "\n",
    "johanna = Person()\n",
    "johanna.apples = 1\n",
    "johanna.ideas = 1\n",
    "\n",
    "martin = Person()\n",
    "martin.apples = 2\n",
    "martin.ideas = 1\n",
    "\n",
    "def exchange_apples(you, me):\n",
    "    temp = you.apples\n",
    "    you.apples = me.apples\n",
    "    me.apples = temp\n",
    "    \n",
    "#Here, despite G.B. Shaw's quote, our characters have started with       #different amounts of apples so we can better observe the results. \n",
    "#We're going to have Martin and Johanna exchange ALL their apples with #one another.\n",
    "#Hint: how would you switch values of variables, \n",
    "#so that \"you\" and \"me\" will exchange ALL their apples with one another?\n",
    "#Do you need a temporary variable to store one of the values?\n",
    "#You may need more than one line of code to do that, which is OK. \n",
    "    \t\n",
    "    return you.apples, me.apples\n",
    "    \n",
    "def exchange_ideas(you, me):\n",
    "    #\"you\" and \"me\" will share our ideas with one another.\n",
    "    #What operations need to be performed, so that each object receives\n",
    "    #the shared number of ideas?\n",
    "    #Hint: how would you assign the total number of ideas to \n",
    "    #each idea attribute? Do you need a temporary variable to store \n",
    "    #the sum of ideas, or can you find another way? \n",
    "    #Use as many lines of code as you need here.\n",
    "    temp2 = you.ideas\n",
    "    you.ideas += me.ideas\n",
    "    me.ideas += temp2\n",
    "    return you.ideas, me.ideas\n",
    "\n",
    "exchange_apples(johanna, martin)\n",
    "print(\"Johanna has {} apples and Martin has {} apples\".format(johanna.apples, martin.apples))\n",
    "exchange_ideas(johanna, martin)\n",
    "print(\"Johanna has {} ideas and Martin has {} ideas\".format(johanna.ideas, martin.ideas))"
   ]
  },
  {
   "cell_type": "code",
   "execution_count": 18,
   "metadata": {},
   "outputs": [
    {
     "name": "stdout",
     "output_type": "stream",
     "text": [
      "Cusco, Peru\n",
      "Sofia, Bulgaria\n",
      "\n"
     ]
    }
   ],
   "source": [
    "# define a basic city class\n",
    "class City:\n",
    "\tname = \"\"\n",
    "\tcountry = \"\"\n",
    "\televation = 0 \n",
    "\tpopulation = 0\n",
    "\n",
    "# create a new instance of the City class and\n",
    "# define each attribute\n",
    "city1 = City()\n",
    "city1.name = \"Cusco\"\n",
    "city1.country = \"Peru\"\n",
    "city1.elevation = 3399\n",
    "city1.population = 358052\n",
    "\n",
    "# create a new instance of the City class and\n",
    "# define each attribute\n",
    "city2 = City()\n",
    "city2.name = \"Sofia\"\n",
    "city2.country = \"Bulgaria\"\n",
    "city2.elevation = 2290\n",
    "city2.population = 1241675\n",
    "\n",
    "# create a new instance of the City class and\n",
    "# define each attribute\n",
    "city3 = City()\n",
    "city3.name = \"Seoul\"\n",
    "city3.country = \"South Korea\"\n",
    "city3.elevation = 38\n",
    "city3.population = 9733509\n",
    "\n",
    "def max_elevation_city(min_population):\n",
    "\t# Initialize the variable that will hold \n",
    "# the information of the city with \n",
    "# the highest elevation\n",
    "    \n",
    "    return_city = City()\n",
    "\n",
    "\t# Evaluate the 1st instance to meet the requirements:\n",
    "\t# does city #1 have at least min_population and\n",
    "\t# is its elevation the highest evaluated so far?\n",
    "    if city1.population >= min_population and city1.elevation > return_city.elevation:\n",
    "        return_city = city1\n",
    "\t# Evaluate the 2nd instance to meet the requirements:\n",
    "\t# does city #2 have at least min_population and\n",
    "\t# is its elevation the highest evaluated so far?\n",
    "    elif city2.population >= min_population and city2.elevation > return_city.elevation:\n",
    "        return_city = city2\n",
    "\t# Evaluate the 3rd instance to meet the requirements:\n",
    "\t# does city #3 have at least min_population and\n",
    "\t# is its elevation the highest evaluated so far?\n",
    "    elif city3.population >= min_population and city3.elevation > return_city.elevation:\n",
    "        return_city = city3\n",
    "\n",
    "\t#Format the return string\n",
    "    if return_city.name:\n",
    "        return \"{}, {}\".format(return_city.name, return_city.country)\n",
    "    else:\n",
    "        return \"\"\n",
    "\n",
    "print(max_elevation_city(100000)) # Should print \"Cusco, Peru\"\n",
    "print(max_elevation_city(1000000)) # Should print \"Sofia, Bulgaria\"\n",
    "print(max_elevation_city(10000000)) # Should print \"\""
   ]
  },
  {
   "cell_type": "code",
   "execution_count": 19,
   "metadata": {},
   "outputs": [
    {
     "name": "stdout",
     "output_type": "stream",
     "text": [
      "This piece of furniture is made of brown wood\n",
      "This piece of furniture is made of red leather\n"
     ]
    }
   ],
   "source": [
    "class Furniture:\n",
    "    color = \"\"\n",
    "    material = \"\"\n",
    "\n",
    "table = Furniture()\n",
    "table.color = 'brown'\n",
    "table.material = 'wood'\n",
    "\n",
    "couch = Furniture()\n",
    "couch.color = 'red'\n",
    "couch.material = 'leather'\n",
    "\n",
    "def describe_furniture(piece):\n",
    "    return (\"This piece of furniture is made of {} {}\".format(piece.color, piece.material))\n",
    "\n",
    "print(describe_furniture(table)) \n",
    "# Should be \"This piece of furniture is made of brown wood\"\n",
    "print(describe_furniture(couch)) \n",
    "# Should be \"This piece of furniture is made of red leather\""
   ]
  },
  {
   "cell_type": "code",
   "execution_count": 21,
   "metadata": {},
   "outputs": [
    {
     "name": "stdout",
     "output_type": "stream",
     "text": [
      "AU-AU!\n"
     ]
    }
   ],
   "source": [
    "class Piglet:\n",
    "    name = 'piglet'\n",
    "    def speak(self): #мы определяем функцию как метод класса\n",
    "        #Эта функция получает параметр под названием self. Этот параметр представляет экземпляр, на котором выполняется метод\n",
    "        print('AU-AU!')\n",
    "\n",
    "hamlet = Piglet()\n",
    "hamlet.speak()\n"
   ]
  },
  {
   "cell_type": "code",
   "execution_count": 22,
   "metadata": {},
   "outputs": [
    {
     "name": "stdout",
     "output_type": "stream",
     "text": [
      "AU-AU!, I am My New name\n"
     ]
    }
   ],
   "source": [
    "class Piglet:\n",
    "    name = 'piglet'\n",
    "    def speak(self): #мы определяем функцию как метод класса\n",
    "        #Эта функция получает параметр под названием self. Этот параметр представляет экземпляр, на котором выполняется метод\n",
    "        print('AU-AU!, I am {}'.format(self.name))\n",
    "\n",
    "hamlet = Piglet()\n",
    "hamlet.name = 'My New name'\n",
    "hamlet.speak()\n",
    "#метод speak напечатал имя My New name, которое было заданным нами атрибутом имени"
   ]
  },
  {
   "cell_type": "code",
   "execution_count": 23,
   "metadata": {},
   "outputs": [
    {
     "name": "stdout",
     "output_type": "stream",
     "text": [
      "AU-AU!, I am PETUNIA\n"
     ]
    }
   ],
   "source": [
    "petunia = Piglet()\n",
    "petunia.name = 'PETUNIA'\n",
    "petunia.speak()\n",
    "#Переменные, которые имеют разные значения для разных экземпляров одного и того же класса, \n",
    "#называются переменными экземпляра, как и переменная name в этом примере"
   ]
  },
  {
   "cell_type": "code",
   "execution_count": 25,
   "metadata": {},
   "outputs": [
    {
     "name": "stdout",
     "output_type": "stream",
     "text": [
      "0\n"
     ]
    }
   ],
   "source": [
    "class Piglet:\n",
    "    years = 0\n",
    "    def pig_years(self): #мы определяем функцию как метод класса\n",
    "        #метод, возвращающий значение\n",
    "        return self.years * 18\n",
    "        \n",
    "piggy = Piglet()\n",
    "print(piggy.pig_years())\n",
    "    "
   ]
  },
  {
   "cell_type": "code",
   "execution_count": 26,
   "metadata": {},
   "outputs": [
    {
     "name": "stdout",
     "output_type": "stream",
     "text": [
      "36\n"
     ]
    }
   ],
   "source": [
    "piggy.years = 2\n",
    "print(piggy.pig_years())"
   ]
  },
  {
   "cell_type": "code",
   "execution_count": 27,
   "metadata": {},
   "outputs": [
    {
     "name": "stdout",
     "output_type": "stream",
     "text": [
      "21\n"
     ]
    }
   ],
   "source": [
    "class Dog:\n",
    "    years = 0\n",
    "    def dog_years(self): #мы определяем функцию как метод класса\n",
    "        #метод, возвращающий значение\n",
    "        return self.years * 7\n",
    "    \n",
    "fido=Dog()\n",
    "fido.years=3\n",
    "print(fido.dog_years())"
   ]
  },
  {
   "cell_type": "markdown",
   "metadata": {},
   "source": [
    "КОНСТРУКТОРЫ"
   ]
  },
  {
   "cell_type": "code",
   "execution_count": 28,
   "metadata": {},
   "outputs": [
    {
     "name": "stdout",
     "output_type": "stream",
     "text": [
      "red\n"
     ]
    }
   ],
   "source": [
    "class Apple:\n",
    "    #Конструктор класса - это метод, который вызывается при вызове имени класса. Это всегда называется __init__\n",
    "    #Этот метод поверх переменной self, представляющей экземпляр, получает еще два параметра: color и flavour\n",
    "    #Затем метод устанавливает эти значения в качестве значений текущего экземпляра\n",
    "    def __init__(self, color, flavor):\n",
    "        self.color = color\n",
    "        self.flavor = flavor\n",
    "jonagold = Apple('red', 'sweet')\n",
    "print(jonagold.color)"
   ]
  },
  {
   "cell_type": "code",
   "execution_count": 29,
   "metadata": {},
   "outputs": [
    {
     "name": "stdout",
     "output_type": "stream",
     "text": [
      "hi, my name is WOW\n"
     ]
    }
   ],
   "source": [
    "class Person:\n",
    "    def __init__(self, name):\n",
    "        self.name = name\n",
    "    def greeting(self):\n",
    "        # Should return \"hi, my name is \" followed by the name of the Person.\n",
    "        return \"hi, my name is {}\".format(self.name) \n",
    "\n",
    "# Create a new instance with a name of your choice\n",
    "some_person = Person(\"WOW\")  \n",
    "# Call the greeting method\n",
    "print(some_person.greeting())"
   ]
  },
  {
   "cell_type": "code",
   "execution_count": 30,
   "metadata": {},
   "outputs": [
    {
     "name": "stdout",
     "output_type": "stream",
     "text": [
      "This apple is red and it`s flavor is sweet\n"
     ]
    }
   ],
   "source": [
    "class Apple:\n",
    "    #Конструктор класса - это метод, который вызывается при вызове имени класса. Это всегда называется __init__\n",
    "    #Этот метод поверх переменной self, представляющей экземпляр, получает еще два параметра: color и flavour\n",
    "    #Затем метод устанавливает эти значения в качестве значений текущего экземпляра\n",
    "    def __init__(self, color, flavor):\n",
    "        self.color = color\n",
    "        self.flavor = flavor\n",
    "    def __str__(self):\n",
    "        return \"This apple is {} and it`s flavor is {}\". format(self.color, self.flavor)\n",
    "jonagold = Apple('red', 'sweet')\n",
    "print(jonagold)"
   ]
  },
  {
   "cell_type": "markdown",
   "metadata": {},
   "source": [
    "Вместо создания классов с пустыми значениями или значениями по умолчанию мы можем установить эти значения при создании экземпляра. Это гарантирует, что мы не пропускаем важное значение и избегает большого количества ненужных строк кода. Для этого мы используем специальный метод, называемый конструктором . Ниже приведен пример класса Apple с определенным методом конструктора."
   ]
  },
  {
   "cell_type": "code",
   "execution_count": null,
   "metadata": {},
   "outputs": [],
   "source": [
    ">>> class Apple:\n",
    "...     def __init__(self, color, flavor):\n",
    "...         self.color = color\n",
    "...         self.flavor = flavor"
   ]
  },
  {
   "cell_type": "markdown",
   "metadata": {},
   "source": [
    "Когда вы вызываете имя класса, вызывается конструктор этого класса. Этот метод конструктора всегда называется __init__ . Возможно, вы помните, что специальные методы начинаются и заканчиваются двумя символами подчеркивания. В нашем примере выше, метод конструктора принимает переменную self, которая представляет экземпляр, а также параметры цвета и аромата. Эти параметры затем используются методом конструктора для установки значений для текущего экземпляра. Таким образом, теперь мы можем создать новый экземпляр класса Apple и установить значения цвета и аромата все на ходу:\n",
    ">>> jonagold = Apple(\"red\", \"sweet\")\n",
    ">>> print(jonagold.color)\n",
    "Red\n",
    "\n",
    "В дополнение к специальному методу конструктора __init__ существует также специальный метод __str__ . Этот метод позволяет нам определить, как будет печататься экземпляр объекта при его передаче в функцию print (). Если объект не имеет этого специального метода, он будет завершен с использованием представления по умолчанию, которое будет печатать положение объекта в памяти. Не супер полезно. Вот наш класс Apple, с добавленным методом __str__ :\n",
    ">>> class Apple:\n",
    "...     def __init__(self, color, flavor):\n",
    "...         self.color = color\n",
    "...         self.flavor = flavor\n",
    "...     def __str__(self):\n",
    "...         return \"This apple is {} and its flavor is {}\".format(self.color, self.flavor)\n",
    "Теперь, когда мы передаем объект Apple в функцию print, мы получаем хорошую отформатированную строку:\n",
    ">>> jonagold = Apple(\"red\", \"sweet\")\n",
    ">>> print(jonagold)\n",
    "This apple is red and its flavor is sweet"
   ]
  },
  {
   "cell_type": "code",
   "execution_count": 31,
   "metadata": {},
   "outputs": [
    {
     "name": "stdout",
     "output_type": "stream",
     "text": [
      "Help on class Apple in module __main__:\n",
      "\n",
      "class Apple(builtins.object)\n",
      " |  Apple(color, flavor)\n",
      " |  \n",
      " |  Methods defined here:\n",
      " |  \n",
      " |  __init__(self, color, flavor)\n",
      " |      Initialize self.  See help(type(self)) for accurate signature.\n",
      " |  \n",
      " |  __str__(self)\n",
      " |      Return str(self).\n",
      " |  \n",
      " |  ----------------------------------------------------------------------\n",
      " |  Data descriptors defined here:\n",
      " |  \n",
      " |  __dict__\n",
      " |      dictionary for instance variables (if defined)\n",
      " |  \n",
      " |  __weakref__\n",
      " |      list of weak references to the object (if defined)\n",
      "\n"
     ]
    }
   ],
   "source": [
    "help(Apple)"
   ]
  },
  {
   "cell_type": "code",
   "execution_count": null,
   "metadata": {},
   "outputs": [],
   "source": [
    "class Piglet:\n",
    "    years = 0\n",
    "    name = ''\n",
    "    def speak(self): #мы определяем функцию как метод класса\n",
    "        \"\"\"Выводит имя поросенка\"\"\"\n",
    "        #Эта функция получает параметр под названием self. Этот параметр представляет экземпляр, на котором выполняется метод\n",
    "        print('AU-AU!, I am {}'.format(self.name))\n",
    "    \n",
    "    def pig_years(self):\n",
    "        \"\"\"Выводит возраст в переводе на человеческий\"\"\"\n",
    "        return self.years * 18\n",
    "        \n",
    "piggy = Piglet()\n",
    "print(piggy.pig_years())\n",
    "\n"
   ]
  },
  {
   "cell_type": "markdown",
   "metadata": {},
   "source": [
    "Классы и методы Шпаргалка\n",
    "В нескольких последних видео мы видели, как определять классы и методы в Python. Здесь вы найдете краткий обзор всего, что мы рассмотрели, поэтому вы можете обращаться к нему всякий раз, когда вам понадобится переподготовка.\n",
    "\n",
    "Определение классов и методов\n",
    "class ClassName:\n",
    "    def method_name(self, other_parameters):\n",
    "        body_of_method\n",
    "\n",
    "Классы и экземпляры\n",
    "Классы определяют поведение всех экземпляров определенного класса.\n",
    "Каждая переменная определенного класса является экземпляром или объектом.\n",
    "Объекты могут иметь атрибуты, в которых хранится информация об объекте.\n",
    "Вы можете заставить объекты работать, вызывая их методы.\n",
    "Первый параметр методов (self) представляет текущий экземпляр.\n",
    "Методы похожи на функции, но их можно использовать только через класс.\n",
    "Специальные методы\n",
    "Специальные методы начинаются и заканчиваются на __.\n",
    "Специальные методы имеют конкретные имена, например __init__ для конструктора или __str__ для преобразования в строку."
   ]
  },
  {
   "cell_type": "markdown",
   "metadata": {},
   "source": [
    "НАСЛЕДОВАНИЕ"
   ]
  },
  {
   "cell_type": "code",
   "execution_count": 1,
   "metadata": {},
   "outputs": [
    {
     "name": "stdout",
     "output_type": "stream",
     "text": [
      "tart\n"
     ]
    }
   ],
   "source": [
    "class Fruit:\n",
    "    def __init__(self, color, flavor):\n",
    "        self.color = color\n",
    "        self.flavor = flavor\n",
    "        \n",
    "class Apple(Fruit):\n",
    "    #В Python мы используем скобки в объявлении класса, чтобы показать отношения наследования\n",
    "    pass\n",
    "        \n",
    "class Grape(Fruit):\n",
    "    pass\n",
    "granny_smith = Apple('green', 'tart')\n",
    "carnelian = Grape('purple', 'sweet')\n",
    "print(granny_smith.flavor)\n",
    "    "
   ]
  },
  {
   "cell_type": "code",
   "execution_count": 4,
   "metadata": {},
   "outputs": [
    {
     "name": "stdout",
     "output_type": "stream",
     "text": [
      "OOOOOOOOOOOOO!, I am Hamlet!, OOOOOOOOOOOOO!\n"
     ]
    }
   ],
   "source": [
    "class Animal:\n",
    "    sound = '' #атрибут класса для хранения звука, издаваемого животным\n",
    "    def __init__(self, name):\n",
    "        #Конструктор класса принимает имя, которое будет назначено экземпляру при его создании\n",
    "        self.name = name\n",
    "    name = 'piglet'\n",
    "    def speak(self): #мы определяем функцию как метод класса\n",
    "        #Эта функция получает параметр под названием self. Этот параметр представляет экземпляр, на котором выполняется метод\n",
    "        print('{sound}, I am {name}!, {sound}'.format(name = self.name, sound = self.sound))\n",
    "class Piglet(Animal):\n",
    "    sound = 'OOOOOOOOOOOOO!'\n",
    "hamlet = Piglet('Hamlet')\n",
    "hamlet.speak()\n",
    "\n",
    "    "
   ]
  },
  {
   "cell_type": "code",
   "execution_count": 5,
   "metadata": {},
   "outputs": [
    {
     "name": "stdout",
     "output_type": "stream",
     "text": [
      "Moo!, I am Milky Way!, Moo!\n"
     ]
    }
   ],
   "source": [
    "class Cow(Animal):\n",
    "    sound = 'Moo!'\n",
    "milky = Cow('Milky Way')\n",
    "milky.speak()\n"
   ]
  },
  {
   "cell_type": "code",
   "execution_count": 6,
   "metadata": {},
   "outputs": [
    {
     "name": "stdout",
     "output_type": "stream",
     "text": [
      "This Polo is made of Cotton\n"
     ]
    }
   ],
   "source": [
    "class Clothing:\n",
    "    material = \"\"\n",
    "    def __init__(self,name):\n",
    "        self.name = name\n",
    "    def checkmaterial(self):\n",
    "\t    print(\"This {} is made of {}\".format(self.name,self.material))\n",
    "\t\t\t\n",
    "class Shirt(Clothing):\n",
    "    material=\"Cotton\"\n",
    "\n",
    "polo = Shirt(\"Polo\")\n",
    "polo.checkmaterial()"
   ]
  },
  {
   "cell_type": "code",
   "execution_count": 7,
   "metadata": {},
   "outputs": [],
   "source": [
    "#всегда инициализируйте изменяемые атрибуты в конструкторе!!!!!!!!!!!!!!!\n",
    "class Repository:\n",
    "    def __init__(self):\n",
    "        self.packages = {} #Словарь будет содержать имена пакетов в качестве ключей и объекты пакетов в качестве значений.\n",
    "        #класс, который начинается с пустого словаря пакетов\n",
    "        #Если бы мы создали этот словарь на уровне класса, все экземпляры класса репозитория использовали бы \n",
    "        #один и тот же словарь, а добавленные или удаленные элементы влияли бы на все экземпляры одновременно\n",
    "    def add_package(self, package):\n",
    "        self.packages[package.name] = package #ключи - это имена пакетов, а значения - объекты пакетов\n",
    "#Мы собираемся сложить все размеры. Итак, первое, что нам нужно сделать, это \n",
    "#создать переменную результата, которую мы будем использовать для суммирования значений.\n",
    "    def total_size(self):\n",
    "        result = 0\n",
    "        for package in self.packages.values():\n",
    "            result += package.size\n",
    "        return result\n",
    "#Это метод внутри класса репозитория, который использует метод values в классе словаря и получает\n",
    "#доступ к атрибуту size в классе пакета.         \n",
    "        "
   ]
  },
  {
   "cell_type": "code",
   "execution_count": 8,
   "metadata": {},
   "outputs": [
    {
     "name": "stdout",
     "output_type": "stream",
     "text": [
      "10\n"
     ]
    }
   ],
   "source": [
    "#итерируйте по количеству каждого элемента данного материала, который есть в наличии. \n",
    "#Когда вы закончите, сценарий должен добавить до 10 хлопковых рубашек поло\n",
    "class Clothing:\n",
    "    stock={ 'name': [],'material' :[], 'amount':[]}\n",
    "    def __init__(self,name):\n",
    "        material = \"\"\n",
    "        self.name = name\n",
    "    def add_item(self, name, material, amount):\n",
    "        Clothing.stock['name'].append(self.name)\n",
    "        Clothing.stock['material'].append(self.material)\n",
    "        Clothing.stock['amount'].append(amount)\n",
    "    def Stock_by_Material(self, material):\n",
    "        count=0\n",
    "        n=0\n",
    "        for item in Clothing.stock['material']:\n",
    "            if item == material:\n",
    "                count += Clothing.stock['amount'][n]\n",
    "                n+=1\n",
    "        return count\n",
    "\n",
    "class shirt(Clothing):\n",
    "    material=\"Cotton\"\n",
    "class pants(Clothing):\n",
    "    material=\"Cotton\"\n",
    "  \n",
    "polo = shirt(\"Polo\")\n",
    "sweatpants = pants(\"Sweatpants\")\n",
    "polo.add_item(polo.name, polo.material, 4)\n",
    "sweatpants.add_item(sweatpants.name, sweatpants.material, 6)\n",
    "current_stock = polo.Stock_by_Material(\"Cotton\")\n",
    "print(current_stock)"
   ]
  },
  {
   "cell_type": "markdown",
   "metadata": {},
   "source": [
    "Может возникнуть ситуация, когда два разных класса связаны между собой, но наследование не происходит. Это называется композицией - когда один класс использует код, содержащийся в другом классе. Например, представьте, что у нас есть класс Package, представляющий программный пакет. Он содержит атрибуты о программном пакете, такие как имя, версия и размер. У нас также есть класс Repository, который представляет все пакеты, доступные для установки. Хотя между двумя классами нет отношений наследования, они связаны между собой. Класс Repository будет содержать словарь или список пакетов, которые содержатся в репозитории. Давайте посмотрим на пример определения класса репозитория:\n",
    ">>> class Repository:\n",
    "...      def __init__(self):\n",
    "...          self.packages = {}\n",
    "...      def add_package(self, package):\n",
    "...          self.packages[package.name] = package\n",
    "...      def total_size(self):\n",
    "...          result = 0\n",
    "...          for package in self.packages.values():\n",
    "...              result += package.size\n",
    "...          return result\n",
    "В методе конструктора мы инициализируем словарь пакетов, который будет содержать объекты пакета, доступные в этом экземпляре репозитория. Мы инициализируем словарь в конструкторе, чтобы каждый экземпляр класса Repository имел свой собственный словарь.\n",
    "\n",
    "Затем мы определяем метод add_package, который принимает объект Package в качестве параметра, а затем добавляет его в наш словарь, используя атрибут имени пакета в качестве ключа.\n",
    "\n",
    "Наконец, мы определяем метод total_size, который вычисляет общий размер всех пакетов, содержащихся в нашем хранилище. Этот метод перебирает значения в нашем словаре репозитория и складывает атрибуты размера из каждого объекта пакета, содержащегося в словаре, возвращая итоговое значение в конце. В этом примере мы используем атрибуты Package в нашем классе Repository. Мы также вызываем метод values ​​() в нашем экземпляре словаря пакетов. Композиция позволяет нам использовать объекты в качестве атрибутов, а также получать доступ ко всем их атрибутам и методам."
   ]
  },
  {
   "cell_type": "markdown",
   "metadata": {},
   "source": [
    "МОДУЛИ\n",
    "Синтаксис, используемый для вызова функции, предоставляемой модулем, аналогичен вызову метода, предоставляемого классом. Он использует точку для разделения имени модуля и функции, предоставляемой этим модулем"
   ]
  },
  {
   "cell_type": "code",
   "execution_count": 12,
   "metadata": {},
   "outputs": [
    {
     "data": {
      "text/plain": [
       "2"
      ]
     },
     "execution_count": 12,
     "metadata": {},
     "output_type": "execute_result"
    }
   ],
   "source": [
    "import random\n",
    "random.randint(1,10)"
   ]
  },
  {
   "cell_type": "code",
   "execution_count": 13,
   "metadata": {},
   "outputs": [
    {
     "name": "stdout",
     "output_type": "stream",
     "text": [
      "2020-05-12 14:32:58.473368\n"
     ]
    }
   ],
   "source": [
    "import datetime\n",
    "now = datetime.datetime.now()\n",
    "print(now)\n",
    "#Когда мы вызываем print с экземпляром класса datetime, мы видим дату, напечатанную в определенном формате. \n",
    "#За кулисами функция print вызывает метод str класса datetime, который форматирует его так, как мы видим здесь. \n",
    "#Мы также можем получить доступ к экземпляру через его атрибуты и методы. \n",
    "#Например, мы можем посмотреть на отдельные части даты, например, на год."
   ]
  },
  {
   "cell_type": "code",
   "execution_count": 14,
   "metadata": {},
   "outputs": [
    {
     "data": {
      "text/plain": [
       "2020"
      ]
     },
     "execution_count": 14,
     "metadata": {},
     "output_type": "execute_result"
    }
   ],
   "source": [
    "now.year"
   ]
  },
  {
   "cell_type": "code",
   "execution_count": 15,
   "metadata": {},
   "outputs": [
    {
     "name": "stdout",
     "output_type": "stream",
     "text": [
      "2020-06-09 14:32:58.473368\n"
     ]
    }
   ],
   "source": [
    "print(now + datetime.timedelta(days = 28))\n",
    "#класс timedelta для вычисления даты в будущем или в прошлом. \n",
    "#мы создаем экземпляр класса timedelta со значением 28 дней, \n",
    "#затем добавляем его в экземпляр класса datetime, который у нас уже был"
   ]
  },
  {
   "cell_type": "code",
   "execution_count": null,
   "metadata": {},
   "outputs": [],
   "source": []
  }
 ],
 "metadata": {
  "kernelspec": {
   "display_name": "Python 3",
   "language": "python",
   "name": "python3"
  },
  "language_info": {
   "codemirror_mode": {
    "name": "ipython",
    "version": 3
   },
   "file_extension": ".py",
   "mimetype": "text/x-python",
   "name": "python",
   "nbconvert_exporter": "python",
   "pygments_lexer": "ipython3",
   "version": "3.8.2"
  }
 },
 "nbformat": 4,
 "nbformat_minor": 4
}
