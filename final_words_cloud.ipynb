{
 "cells": [
  {
   "cell_type": "markdown",
   "metadata": {},
   "source": [
    "Цель проекта \n",
    "Создайте словарь со словами и частотами слов, которые можно передать в функцию generate_from_frequencies класса WordCloud."
   ]
  },
  {
   "cell_type": "code",
   "execution_count": 3,
   "metadata": {},
   "outputs": [
    {
     "ename": "NameError",
     "evalue": "name 'wordcloud' is not defined",
     "output_type": "error",
     "traceback": [
      "\u001b[1;31m---------------------------------------------------------------------------\u001b[0m",
      "\u001b[1;31mNameError\u001b[0m                                 Traceback (most recent call last)",
      "\u001b[1;32m<ipython-input-3-29f015731165>\u001b[0m in \u001b[0;36m<module>\u001b[1;34m\u001b[0m\n\u001b[1;32m----> 1\u001b[1;33m \u001b[0mcloud\u001b[0m \u001b[1;33m=\u001b[0m \u001b[0mwordcloud\u001b[0m\u001b[1;33m.\u001b[0m\u001b[0mWordCloud\u001b[0m\u001b[1;33m(\u001b[0m\u001b[1;33m)\u001b[0m\u001b[1;33m\u001b[0m\u001b[1;33m\u001b[0m\u001b[0m\n\u001b[0m\u001b[0;32m      2\u001b[0m \u001b[0mcloud\u001b[0m\u001b[1;33m.\u001b[0m\u001b[0mgenerate_from_frequencies\u001b[0m\u001b[1;33m(\u001b[0m\u001b[0mfrequencies\u001b[0m\u001b[1;33m)\u001b[0m\u001b[1;33m\u001b[0m\u001b[1;33m\u001b[0m\u001b[0m\n\u001b[0;32m      3\u001b[0m \u001b[0mcloud\u001b[0m\u001b[1;33m.\u001b[0m\u001b[0mto_file\u001b[0m\u001b[1;33m(\u001b[0m\u001b[1;34m\"myfile.jpg\"\u001b[0m\u001b[1;33m)\u001b[0m\u001b[1;33m\u001b[0m\u001b[1;33m\u001b[0m\u001b[0m\n",
      "\u001b[1;31mNameError\u001b[0m: name 'wordcloud' is not defined"
     ]
    }
   ],
   "source": [
    "cloud = wordcloud.WordCloud()\n",
    "cloud.generate_from_frequencies(frequencies)\n",
    "cloud.to_file(\"myfile.jpg\")"
   ]
  },
  {
   "cell_type": "markdown",
   "metadata": {},
   "source": [
    "То, что нужно запомнить \n",
    "Перед обработкой любого текста вам необходимо удалить все знаки препинания. Для этого вы можете пройти каждую строку текста, посимвольно, используя метод isalpha () . Это проверит, является ли символ буквой.\n",
    "Чтобы разбить строку текста на слова, вы можете использовать метод split () .\n",
    "Перед сохранением слов в частотном словаре проверьте, не входят ли они в «неинтересный» набор слов (например: «a», «the», «to», «if»). Сделайте это, чтобы установить параметр для вашей функции, чтобы вы могли изменить его при необходимости.\n",
    "Входной файл\n",
    "Для входного файла вам нужно предоставить файл, который содержит только текст. Для самого текста вы можете скопировать и вставить содержимое сайта, который вам нравится. Или вы можете использовать сайт, как Project Gutenberg, чтобы найти книги, которые доступны в Интернете. Вы могли видеть, какие облака слов вы можете получить из известных книг, таких как пьеса Шекспира или роман Джейн Остин."
   ]
  },
  {
   "cell_type": "code",
   "execution_count": 5,
   "metadata": {},
   "outputs": [
    {
     "name": "stdout",
     "output_type": "stream",
     "text": [
      "Collecting wordcloud\n",
      "  Using cached wordcloud-1.7.0.tar.gz (216 kB)\n",
      "Requirement already satisfied: numpy>=1.6.1 in c:\\users\\александр\\appdata\\local\\programs\\python\\python38-32\\lib\\site-packages (from wordcloud) (1.18.4)\n",
      "Requirement already satisfied: pillow in c:\\users\\александр\\appdata\\local\\programs\\python\\python38-32\\lib\\site-packages (from wordcloud) (7.1.2)\n",
      "Requirement already satisfied: matplotlib in c:\\users\\александр\\appdata\\local\\programs\\python\\python38-32\\lib\\site-packages (from wordcloud) (3.2.1)\n",
      "Requirement already satisfied: cycler>=0.10 in c:\\users\\александр\\appdata\\local\\programs\\python\\python38-32\\lib\\site-packages (from matplotlib->wordcloud) (0.10.0)\n",
      "Requirement already satisfied: kiwisolver>=1.0.1 in c:\\users\\александр\\appdata\\local\\programs\\python\\python38-32\\lib\\site-packages (from matplotlib->wordcloud) (1.2.0)\n",
      "Requirement already satisfied: python-dateutil>=2.1 in c:\\users\\александр\\appdata\\local\\programs\\python\\python38-32\\lib\\site-packages (from matplotlib->wordcloud) (2.8.1)\n",
      "Requirement already satisfied: pyparsing!=2.0.4,!=2.1.2,!=2.1.6,>=2.0.1 in c:\\users\\александр\\appdata\\local\\programs\\python\\python38-32\\lib\\site-packages (from matplotlib->wordcloud) (2.4.7)\n",
      "Requirement already satisfied: six in c:\\users\\александр\\appdata\\roaming\\python\\python38\\site-packages (from cycler>=0.10->matplotlib->wordcloud) (1.14.0)\n",
      "Building wheels for collected packages: wordcloud\n",
      "  Building wheel for wordcloud (setup.py): started\n",
      "  Building wheel for wordcloud (setup.py): finished with status 'error'\n",
      "  Running setup.py clean for wordcloud\n",
      "Failed to build wordcloud\n",
      "Installing collected packages: wordcloud\n",
      "    Running setup.py install for wordcloud: started\n",
      "    Running setup.py install for wordcloud: finished with status 'error'\n"
     ]
    },
    {
     "name": "stderr",
     "output_type": "stream",
     "text": [
      "  ERROR: Command errored out with exit status 1:\n",
      "   command: 'c:\\users\\александр\\appdata\\local\\programs\\python\\python38-32\\python.exe' -u -c 'import sys, setuptools, tokenize; sys.argv[0] = '\"'\"'C:\\\\Users\\\\Александр\\\\AppData\\\\Local\\\\Temp\\\\pip-install-tauvnlpm\\\\wordcloud\\\\setup.py'\"'\"'; __file__='\"'\"'C:\\\\Users\\\\Александр\\\\AppData\\\\Local\\\\Temp\\\\pip-install-tauvnlpm\\\\wordcloud\\\\setup.py'\"'\"';f=getattr(tokenize, '\"'\"'open'\"'\"', open)(__file__);code=f.read().replace('\"'\"'\\r\\n'\"'\"', '\"'\"'\\n'\"'\"');f.close();exec(compile(code, __file__, '\"'\"'exec'\"'\"'))' bdist_wheel -d 'C:\\Users\\Александр\\AppData\\Local\\Temp\\pip-wheel-cupr9fo9'\n",
      "       cwd: C:\\Users\\Александр\\AppData\\Local\\Temp\\pip-install-tauvnlpm\\wordcloud\\\n",
      "  Complete output (20 lines):\n",
      "  running bdist_wheel\n",
      "  running build\n",
      "  running build_py\n",
      "  creating build\n",
      "  creating build\\lib.win32-3.8\n",
      "  creating build\\lib.win32-3.8\\wordcloud\n",
      "  copying wordcloud\\color_from_image.py -> build\\lib.win32-3.8\\wordcloud\n",
      "  copying wordcloud\\tokenization.py -> build\\lib.win32-3.8\\wordcloud\n",
      "  copying wordcloud\\wordcloud.py -> build\\lib.win32-3.8\\wordcloud\n",
      "  copying wordcloud\\wordcloud_cli.py -> build\\lib.win32-3.8\\wordcloud\n",
      "  copying wordcloud\\_version.py -> build\\lib.win32-3.8\\wordcloud\n",
      "  copying wordcloud\\__init__.py -> build\\lib.win32-3.8\\wordcloud\n",
      "  copying wordcloud\\__main__.py -> build\\lib.win32-3.8\\wordcloud\n",
      "  copying wordcloud\\stopwords -> build\\lib.win32-3.8\\wordcloud\n",
      "  copying wordcloud\\DroidSansMono.ttf -> build\\lib.win32-3.8\\wordcloud\n",
      "  UPDATING build\\lib.win32-3.8\\wordcloud/_version.py\n",
      "  set build\\lib.win32-3.8\\wordcloud/_version.py to '1.7.0'\n",
      "  running build_ext\n",
      "  building 'wordcloud.query_integral_image' extension\n",
      "  error: Microsoft Visual C++ 14.0 is required. Get it with \"Build Tools for Visual Studio\": https://visualstudio.microsoft.com/downloads/\n",
      "  ----------------------------------------\n",
      "  ERROR: Failed building wheel for wordcloud\n",
      "    ERROR: Command errored out with exit status 1:\n",
      "     command: 'c:\\users\\александр\\appdata\\local\\programs\\python\\python38-32\\python.exe' -u -c 'import sys, setuptools, tokenize; sys.argv[0] = '\"'\"'C:\\\\Users\\\\Александр\\\\AppData\\\\Local\\\\Temp\\\\pip-install-tauvnlpm\\\\wordcloud\\\\setup.py'\"'\"'; __file__='\"'\"'C:\\\\Users\\\\Александр\\\\AppData\\\\Local\\\\Temp\\\\pip-install-tauvnlpm\\\\wordcloud\\\\setup.py'\"'\"';f=getattr(tokenize, '\"'\"'open'\"'\"', open)(__file__);code=f.read().replace('\"'\"'\\r\\n'\"'\"', '\"'\"'\\n'\"'\"');f.close();exec(compile(code, __file__, '\"'\"'exec'\"'\"'))' install --record 'C:\\Users\\Александр\\AppData\\Local\\Temp\\pip-record-658m11p6\\install-record.txt' --single-version-externally-managed --compile --install-headers 'c:\\users\\александр\\appdata\\local\\programs\\python\\python38-32\\Include\\wordcloud'\n",
      "         cwd: C:\\Users\\Александр\\AppData\\Local\\Temp\\pip-install-tauvnlpm\\wordcloud\\\n",
      "    Complete output (20 lines):\n",
      "    running install\n",
      "    running build\n",
      "    running build_py\n",
      "    creating build\n",
      "    creating build\\lib.win32-3.8\n",
      "    creating build\\lib.win32-3.8\\wordcloud\n",
      "    copying wordcloud\\color_from_image.py -> build\\lib.win32-3.8\\wordcloud\n",
      "    copying wordcloud\\tokenization.py -> build\\lib.win32-3.8\\wordcloud\n",
      "    copying wordcloud\\wordcloud.py -> build\\lib.win32-3.8\\wordcloud\n",
      "    copying wordcloud\\wordcloud_cli.py -> build\\lib.win32-3.8\\wordcloud\n",
      "    copying wordcloud\\_version.py -> build\\lib.win32-3.8\\wordcloud\n",
      "    copying wordcloud\\__init__.py -> build\\lib.win32-3.8\\wordcloud\n",
      "    copying wordcloud\\__main__.py -> build\\lib.win32-3.8\\wordcloud\n",
      "    copying wordcloud\\stopwords -> build\\lib.win32-3.8\\wordcloud\n",
      "    copying wordcloud\\DroidSansMono.ttf -> build\\lib.win32-3.8\\wordcloud\n",
      "    UPDATING build\\lib.win32-3.8\\wordcloud/_version.py\n",
      "    set build\\lib.win32-3.8\\wordcloud/_version.py to '1.7.0'\n",
      "    running build_ext\n",
      "    building 'wordcloud.query_integral_image' extension\n",
      "    error: Microsoft Visual C++ 14.0 is required. Get it with \"Build Tools for Visual Studio\": https://visualstudio.microsoft.com/downloads/\n",
      "    ----------------------------------------\n",
      "ERROR: Command errored out with exit status 1: 'c:\\users\\александр\\appdata\\local\\programs\\python\\python38-32\\python.exe' -u -c 'import sys, setuptools, tokenize; sys.argv[0] = '\"'\"'C:\\\\Users\\\\Александр\\\\AppData\\\\Local\\\\Temp\\\\pip-install-tauvnlpm\\\\wordcloud\\\\setup.py'\"'\"'; __file__='\"'\"'C:\\\\Users\\\\Александр\\\\AppData\\\\Local\\\\Temp\\\\pip-install-tauvnlpm\\\\wordcloud\\\\setup.py'\"'\"';f=getattr(tokenize, '\"'\"'open'\"'\"', open)(__file__);code=f.read().replace('\"'\"'\\r\\n'\"'\"', '\"'\"'\\n'\"'\"');f.close();exec(compile(code, __file__, '\"'\"'exec'\"'\"'))' install --record 'C:\\Users\\Александр\\AppData\\Local\\Temp\\pip-record-658m11p6\\install-record.txt' --single-version-externally-managed --compile --install-headers 'c:\\users\\александр\\appdata\\local\\programs\\python\\python38-32\\Include\\wordcloud' Check the logs for full command output.\n"
     ]
    },
    {
     "name": "stdout",
     "output_type": "stream",
     "text": [
      "Requirement already satisfied: fileupload in c:\\users\\александр\\appdata\\local\\programs\\python\\python38-32\\lib\\site-packages (0.1.5)\n",
      "Requirement already satisfied: traitlets>=4.2 in c:\\users\\александр\\appdata\\local\\programs\\python\\python38-32\\lib\\site-packages (from fileupload) (4.3.3)\n",
      "Requirement already satisfied: notebook>=4.2 in c:\\users\\александр\\appdata\\local\\programs\\python\\python38-32\\lib\\site-packages (from fileupload) (6.0.3)\n",
      "Requirement already satisfied: ipywidgets>=5.1 in c:\\users\\александр\\appdata\\local\\programs\\python\\python38-32\\lib\\site-packages (from fileupload) (7.5.1)\n",
      "Requirement already satisfied: ipython-genutils in c:\\users\\александр\\appdata\\local\\programs\\python\\python38-32\\lib\\site-packages (from traitlets>=4.2->fileupload) (0.2.0)\n",
      "Requirement already satisfied: decorator in c:\\users\\александр\\appdata\\local\\programs\\python\\python38-32\\lib\\site-packages (from traitlets>=4.2->fileupload) (4.4.2)\n",
      "Requirement already satisfied: six in c:\\users\\александр\\appdata\\roaming\\python\\python38\\site-packages (from traitlets>=4.2->fileupload) (1.14.0)\n",
      "Requirement already satisfied: tornado>=5.0 in c:\\users\\александр\\appdata\\local\\programs\\python\\python38-32\\lib\\site-packages (from notebook>=4.2->fileupload) (6.0.4)\n",
      "Requirement already satisfied: prometheus-client in c:\\users\\александр\\appdata\\local\\programs\\python\\python38-32\\lib\\site-packages (from notebook>=4.2->fileupload) (0.7.1)\n",
      "Requirement already satisfied: nbformat in c:\\users\\александр\\appdata\\local\\programs\\python\\python38-32\\lib\\site-packages (from notebook>=4.2->fileupload) (5.0.6)\n",
      "Requirement already satisfied: nbconvert in c:\\users\\александр\\appdata\\local\\programs\\python\\python38-32\\lib\\site-packages (from notebook>=4.2->fileupload) (5.6.1)\n",
      "Requirement already satisfied: terminado>=0.8.1 in c:\\users\\александр\\appdata\\local\\programs\\python\\python38-32\\lib\\site-packages (from notebook>=4.2->fileupload) (0.8.3)\n",
      "Requirement already satisfied: Send2Trash in c:\\users\\александр\\appdata\\local\\programs\\python\\python38-32\\lib\\site-packages (from notebook>=4.2->fileupload) (1.5.0)\n",
      "Requirement already satisfied: jupyter-client>=5.3.4 in c:\\users\\александр\\appdata\\local\\programs\\python\\python38-32\\lib\\site-packages (from notebook>=4.2->fileupload) (6.1.3)\n",
      "Requirement already satisfied: pyzmq>=17 in c:\\users\\александр\\appdata\\local\\programs\\python\\python38-32\\lib\\site-packages (from notebook>=4.2->fileupload) (19.0.1)\n",
      "Requirement already satisfied: jinja2 in c:\\users\\александр\\appdata\\local\\programs\\python\\python38-32\\lib\\site-packages (from notebook>=4.2->fileupload) (2.11.2)\n",
      "Requirement already satisfied: ipykernel in c:\\users\\александр\\appdata\\local\\programs\\python\\python38-32\\lib\\site-packages (from notebook>=4.2->fileupload) (5.2.1)\n",
      "Requirement already satisfied: jupyter-core>=4.6.1 in c:\\users\\александр\\appdata\\local\\programs\\python\\python38-32\\lib\\site-packages (from notebook>=4.2->fileupload) (4.6.3)\n",
      "Requirement already satisfied: widgetsnbextension~=3.5.0 in c:\\users\\александр\\appdata\\local\\programs\\python\\python38-32\\lib\\site-packages (from ipywidgets>=5.1->fileupload) (3.5.1)\n",
      "Requirement already satisfied: ipython>=4.0.0; python_version >= \"3.3\" in c:\\users\\александр\\appdata\\local\\programs\\python\\python38-32\\lib\\site-packages (from ipywidgets>=5.1->fileupload) (7.14.0)\n",
      "Requirement already satisfied: jsonschema!=2.5.0,>=2.4 in c:\\users\\александр\\appdata\\local\\programs\\python\\python38-32\\lib\\site-packages (from nbformat->notebook>=4.2->fileupload) (3.2.0)\n",
      "Requirement already satisfied: testpath in c:\\users\\александр\\appdata\\local\\programs\\python\\python38-32\\lib\\site-packages (from nbconvert->notebook>=4.2->fileupload) (0.4.4)\n",
      "Requirement already satisfied: pandocfilters>=1.4.1 in c:\\users\\александр\\appdata\\local\\programs\\python\\python38-32\\lib\\site-packages (from nbconvert->notebook>=4.2->fileupload) (1.4.2)\n",
      "Requirement already satisfied: entrypoints>=0.2.2 in c:\\users\\александр\\appdata\\local\\programs\\python\\python38-32\\lib\\site-packages (from nbconvert->notebook>=4.2->fileupload) (0.3)\n",
      "Requirement already satisfied: defusedxml in c:\\users\\александр\\appdata\\local\\programs\\python\\python38-32\\lib\\site-packages (from nbconvert->notebook>=4.2->fileupload) (0.6.0)\n",
      "Requirement already satisfied: bleach in c:\\users\\александр\\appdata\\local\\programs\\python\\python38-32\\lib\\site-packages (from nbconvert->notebook>=4.2->fileupload) (3.1.5)\n",
      "Requirement already satisfied: pygments in c:\\users\\александр\\appdata\\local\\programs\\python\\python38-32\\lib\\site-packages (from nbconvert->notebook>=4.2->fileupload) (2.6.1)\n",
      "Requirement already satisfied: mistune<2,>=0.8.1 in c:\\users\\александр\\appdata\\local\\programs\\python\\python38-32\\lib\\site-packages (from nbconvert->notebook>=4.2->fileupload) (0.8.4)\n",
      "Requirement already satisfied: pywinpty>=0.5; os_name == \"nt\" in c:\\users\\александр\\appdata\\local\\programs\\python\\python38-32\\lib\\site-packages (from terminado>=0.8.1->notebook>=4.2->fileupload) (0.5.7)\n",
      "Requirement already satisfied: python-dateutil>=2.1 in c:\\users\\александр\\appdata\\local\\programs\\python\\python38-32\\lib\\site-packages (from jupyter-client>=5.3.4->notebook>=4.2->fileupload) (2.8.1)\n",
      "Requirement already satisfied: MarkupSafe>=0.23 in c:\\users\\александр\\appdata\\local\\programs\\python\\python38-32\\lib\\site-packages (from jinja2->notebook>=4.2->fileupload) (1.1.1)\n",
      "Requirement already satisfied: pywin32>=1.0; sys_platform == \"win32\" in c:\\users\\александр\\appdata\\local\\programs\\python\\python38-32\\lib\\site-packages (from jupyter-core>=4.6.1->notebook>=4.2->fileupload) (227)\n",
      "Requirement already satisfied: setuptools>=18.5 in c:\\users\\александр\\appdata\\local\\programs\\python\\python38-32\\lib\\site-packages (from ipython>=4.0.0; python_version >= \"3.3\"->ipywidgets>=5.1->fileupload) (46.2.0)\n",
      "Requirement already satisfied: jedi>=0.10 in c:\\users\\александр\\appdata\\local\\programs\\python\\python38-32\\lib\\site-packages (from ipython>=4.0.0; python_version >= \"3.3\"->ipywidgets>=5.1->fileupload) (0.17.0)\n",
      "Requirement already satisfied: colorama; sys_platform == \"win32\" in c:\\users\\александр\\appdata\\roaming\\python\\python38\\site-packages (from ipython>=4.0.0; python_version >= \"3.3\"->ipywidgets>=5.1->fileupload) (0.4.3)\n",
      "Requirement already satisfied: backcall in c:\\users\\александр\\appdata\\local\\programs\\python\\python38-32\\lib\\site-packages (from ipython>=4.0.0; python_version >= \"3.3\"->ipywidgets>=5.1->fileupload) (0.1.0)\n",
      "Requirement already satisfied: prompt-toolkit!=3.0.0,!=3.0.1,<3.1.0,>=2.0.0 in c:\\users\\александр\\appdata\\local\\programs\\python\\python38-32\\lib\\site-packages (from ipython>=4.0.0; python_version >= \"3.3\"->ipywidgets>=5.1->fileupload) (3.0.5)\n",
      "Requirement already satisfied: pickleshare in c:\\users\\александр\\appdata\\local\\programs\\python\\python38-32\\lib\\site-packages (from ipython>=4.0.0; python_version >= \"3.3\"->ipywidgets>=5.1->fileupload) (0.7.5)\n",
      "Requirement already satisfied: attrs>=17.4.0 in c:\\users\\александр\\appdata\\local\\programs\\python\\python38-32\\lib\\site-packages (from jsonschema!=2.5.0,>=2.4->nbformat->notebook>=4.2->fileupload) (19.3.0)\n",
      "Requirement already satisfied: pyrsistent>=0.14.0 in c:\\users\\александр\\appdata\\local\\programs\\python\\python38-32\\lib\\site-packages (from jsonschema!=2.5.0,>=2.4->nbformat->notebook>=4.2->fileupload) (0.16.0)\n",
      "Requirement already satisfied: webencodings in c:\\users\\александр\\appdata\\local\\programs\\python\\python38-32\\lib\\site-packages (from bleach->nbconvert->notebook>=4.2->fileupload) (0.5.1)\n",
      "Requirement already satisfied: packaging in c:\\users\\александр\\appdata\\local\\programs\\python\\python38-32\\lib\\site-packages (from bleach->nbconvert->notebook>=4.2->fileupload) (20.3)\n",
      "Requirement already satisfied: parso>=0.7.0 in c:\\users\\александр\\appdata\\local\\programs\\python\\python38-32\\lib\\site-packages (from jedi>=0.10->ipython>=4.0.0; python_version >= \"3.3\"->ipywidgets>=5.1->fileupload) (0.7.0)\n",
      "Requirement already satisfied: wcwidth in c:\\users\\александр\\appdata\\local\\programs\\python\\python38-32\\lib\\site-packages (from prompt-toolkit!=3.0.0,!=3.0.1,<3.1.0,>=2.0.0->ipython>=4.0.0; python_version >= \"3.3\"->ipywidgets>=5.1->fileupload) (0.1.9)\n",
      "Requirement already satisfied: pyparsing>=2.0.2 in c:\\users\\александр\\appdata\\local\\programs\\python\\python38-32\\lib\\site-packages (from packaging->bleach->nbconvert->notebook>=4.2->fileupload) (2.4.7)\n"
     ]
    },
    {
     "name": "stdout",
     "output_type": "stream",
     "text": [
      "Requirement already satisfied: ipywidgets in c:\\users\\александр\\appdata\\local\\programs\\python\\python38-32\\lib\\site-packages (7.5.1)\n",
      "Requirement already satisfied: ipykernel>=4.5.1 in c:\\users\\александр\\appdata\\local\\programs\\python\\python38-32\\lib\\site-packages (from ipywidgets) (5.2.1)\n",
      "Requirement already satisfied: widgetsnbextension~=3.5.0 in c:\\users\\александр\\appdata\\local\\programs\\python\\python38-32\\lib\\site-packages (from ipywidgets) (3.5.1)\n",
      "Requirement already satisfied: ipython>=4.0.0; python_version >= \"3.3\" in c:\\users\\александр\\appdata\\local\\programs\\python\\python38-32\\lib\\site-packages (from ipywidgets) (7.14.0)\n",
      "Requirement already satisfied: traitlets>=4.3.1 in c:\\users\\александр\\appdata\\local\\programs\\python\\python38-32\\lib\\site-packages (from ipywidgets) (4.3.3)\n",
      "Requirement already satisfied: nbformat>=4.2.0 in c:\\users\\александр\\appdata\\local\\programs\\python\\python38-32\\lib\\site-packages (from ipywidgets) (5.0.6)\n",
      "Requirement already satisfied: tornado>=4.2 in c:\\users\\александр\\appdata\\local\\programs\\python\\python38-32\\lib\\site-packages (from ipykernel>=4.5.1->ipywidgets) (6.0.4)\n",
      "Requirement already satisfied: jupyter-client in c:\\users\\александр\\appdata\\local\\programs\\python\\python38-32\\lib\\site-packages (from ipykernel>=4.5.1->ipywidgets) (6.1.3)\n",
      "Requirement already satisfied: notebook>=4.4.1 in c:\\users\\александр\\appdata\\local\\programs\\python\\python38-32\\lib\\site-packages (from widgetsnbextension~=3.5.0->ipywidgets) (6.0.3)\n",
      "Requirement already satisfied: prompt-toolkit!=3.0.0,!=3.0.1,<3.1.0,>=2.0.0 in c:\\users\\александр\\appdata\\local\\programs\\python\\python38-32\\lib\\site-packages (from ipython>=4.0.0; python_version >= \"3.3\"->ipywidgets) (3.0.5)\n",
      "Requirement already satisfied: backcall in c:\\users\\александр\\appdata\\local\\programs\\python\\python38-32\\lib\\site-packages (from ipython>=4.0.0; python_version >= \"3.3\"->ipywidgets) (0.1.0)\n",
      "Requirement already satisfied: setuptools>=18.5 in c:\\users\\александр\\appdata\\local\\programs\\python\\python38-32\\lib\\site-packages (from ipython>=4.0.0; python_version >= \"3.3\"->ipywidgets) (46.2.0)\n",
      "Requirement already satisfied: pickleshare in c:\\users\\александр\\appdata\\local\\programs\\python\\python38-32\\lib\\site-packages (from ipython>=4.0.0; python_version >= \"3.3\"->ipywidgets) (0.7.5)\n",
      "Requirement already satisfied: decorator in c:\\users\\александр\\appdata\\local\\programs\\python\\python38-32\\lib\\site-packages (from ipython>=4.0.0; python_version >= \"3.3\"->ipywidgets) (4.4.2)\n",
      "Requirement already satisfied: jedi>=0.10 in c:\\users\\александр\\appdata\\local\\programs\\python\\python38-32\\lib\\site-packages (from ipython>=4.0.0; python_version >= \"3.3\"->ipywidgets) (0.17.0)\n",
      "Requirement already satisfied: pygments in c:\\users\\александр\\appdata\\local\\programs\\python\\python38-32\\lib\\site-packages (from ipython>=4.0.0; python_version >= \"3.3\"->ipywidgets) (2.6.1)\n",
      "Requirement already satisfied: colorama; sys_platform == \"win32\" in c:\\users\\александр\\appdata\\roaming\\python\\python38\\site-packages (from ipython>=4.0.0; python_version >= \"3.3\"->ipywidgets) (0.4.3)\n",
      "Requirement already satisfied: six in c:\\users\\александр\\appdata\\roaming\\python\\python38\\site-packages (from traitlets>=4.3.1->ipywidgets) (1.14.0)\n",
      "Requirement already satisfied: ipython-genutils in c:\\users\\александр\\appdata\\local\\programs\\python\\python38-32\\lib\\site-packages (from traitlets>=4.3.1->ipywidgets) (0.2.0)\n",
      "Requirement already satisfied: jsonschema!=2.5.0,>=2.4 in c:\\users\\александр\\appdata\\local\\programs\\python\\python38-32\\lib\\site-packages (from nbformat>=4.2.0->ipywidgets) (3.2.0)\n",
      "Requirement already satisfied: jupyter-core in c:\\users\\александр\\appdata\\local\\programs\\python\\python38-32\\lib\\site-packages (from nbformat>=4.2.0->ipywidgets) (4.6.3)\n",
      "Requirement already satisfied: python-dateutil>=2.1 in c:\\users\\александр\\appdata\\local\\programs\\python\\python38-32\\lib\\site-packages (from jupyter-client->ipykernel>=4.5.1->ipywidgets) (2.8.1)\n",
      "Requirement already satisfied: pyzmq>=13 in c:\\users\\александр\\appdata\\local\\programs\\python\\python38-32\\lib\\site-packages (from jupyter-client->ipykernel>=4.5.1->ipywidgets) (19.0.1)\n",
      "Requirement already satisfied: Send2Trash in c:\\users\\александр\\appdata\\local\\programs\\python\\python38-32\\lib\\site-packages (from notebook>=4.4.1->widgetsnbextension~=3.5.0->ipywidgets) (1.5.0)\n",
      "Requirement already satisfied: nbconvert in c:\\users\\александр\\appdata\\local\\programs\\python\\python38-32\\lib\\site-packages (from notebook>=4.4.1->widgetsnbextension~=3.5.0->ipywidgets) (5.6.1)\n",
      "Requirement already satisfied: prometheus-client in c:\\users\\александр\\appdata\\local\\programs\\python\\python38-32\\lib\\site-packages (from notebook>=4.4.1->widgetsnbextension~=3.5.0->ipywidgets) (0.7.1)\n",
      "Requirement already satisfied: jinja2 in c:\\users\\александр\\appdata\\local\\programs\\python\\python38-32\\lib\\site-packages (from notebook>=4.4.1->widgetsnbextension~=3.5.0->ipywidgets) (2.11.2)\n",
      "Requirement already satisfied: terminado>=0.8.1 in c:\\users\\александр\\appdata\\local\\programs\\python\\python38-32\\lib\\site-packages (from notebook>=4.4.1->widgetsnbextension~=3.5.0->ipywidgets) (0.8.3)\n",
      "Requirement already satisfied: wcwidth in c:\\users\\александр\\appdata\\local\\programs\\python\\python38-32\\lib\\site-packages (from prompt-toolkit!=3.0.0,!=3.0.1,<3.1.0,>=2.0.0->ipython>=4.0.0; python_version >= \"3.3\"->ipywidgets) (0.1.9)\n",
      "Requirement already satisfied: parso>=0.7.0 in c:\\users\\александр\\appdata\\local\\programs\\python\\python38-32\\lib\\site-packages (from jedi>=0.10->ipython>=4.0.0; python_version >= \"3.3\"->ipywidgets) (0.7.0)\n",
      "Requirement already satisfied: pyrsistent>=0.14.0 in c:\\users\\александр\\appdata\\local\\programs\\python\\python38-32\\lib\\site-packages (from jsonschema!=2.5.0,>=2.4->nbformat>=4.2.0->ipywidgets) (0.16.0)\n",
      "Requirement already satisfied: attrs>=17.4.0 in c:\\users\\александр\\appdata\\local\\programs\\python\\python38-32\\lib\\site-packages (from jsonschema!=2.5.0,>=2.4->nbformat>=4.2.0->ipywidgets) (19.3.0)\n",
      "Requirement already satisfied: pywin32>=1.0; sys_platform == \"win32\" in c:\\users\\александр\\appdata\\local\\programs\\python\\python38-32\\lib\\site-packages (from jupyter-core->nbformat>=4.2.0->ipywidgets) (227)\n",
      "Requirement already satisfied: defusedxml in c:\\users\\александр\\appdata\\local\\programs\\python\\python38-32\\lib\\site-packages (from nbconvert->notebook>=4.4.1->widgetsnbextension~=3.5.0->ipywidgets) (0.6.0)\n",
      "Requirement already satisfied: pandocfilters>=1.4.1 in c:\\users\\александр\\appdata\\local\\programs\\python\\python38-32\\lib\\site-packages (from nbconvert->notebook>=4.4.1->widgetsnbextension~=3.5.0->ipywidgets) (1.4.2)\n",
      "Requirement already satisfied: bleach in c:\\users\\александр\\appdata\\local\\programs\\python\\python38-32\\lib\\site-packages (from nbconvert->notebook>=4.4.1->widgetsnbextension~=3.5.0->ipywidgets) (3.1.5)\n",
      "Requirement already satisfied: mistune<2,>=0.8.1 in c:\\users\\александр\\appdata\\local\\programs\\python\\python38-32\\lib\\site-packages (from nbconvert->notebook>=4.4.1->widgetsnbextension~=3.5.0->ipywidgets) (0.8.4)\n",
      "Requirement already satisfied: testpath in c:\\users\\александр\\appdata\\local\\programs\\python\\python38-32\\lib\\site-packages (from nbconvert->notebook>=4.4.1->widgetsnbextension~=3.5.0->ipywidgets) (0.4.4)\n",
      "Requirement already satisfied: entrypoints>=0.2.2 in c:\\users\\александр\\appdata\\local\\programs\\python\\python38-32\\lib\\site-packages (from nbconvert->notebook>=4.4.1->widgetsnbextension~=3.5.0->ipywidgets) (0.3)\n",
      "Requirement already satisfied: MarkupSafe>=0.23 in c:\\users\\александр\\appdata\\local\\programs\\python\\python38-32\\lib\\site-packages (from jinja2->notebook>=4.4.1->widgetsnbextension~=3.5.0->ipywidgets) (1.1.1)\n",
      "Requirement already satisfied: pywinpty>=0.5; os_name == \"nt\" in c:\\users\\александр\\appdata\\local\\programs\\python\\python38-32\\lib\\site-packages (from terminado>=0.8.1->notebook>=4.4.1->widgetsnbextension~=3.5.0->ipywidgets) (0.5.7)\n",
      "Requirement already satisfied: webencodings in c:\\users\\александр\\appdata\\local\\programs\\python\\python38-32\\lib\\site-packages (from bleach->nbconvert->notebook>=4.4.1->widgetsnbextension~=3.5.0->ipywidgets) (0.5.1)\n",
      "Requirement already satisfied: packaging in c:\\users\\александр\\appdata\\local\\programs\\python\\python38-32\\lib\\site-packages (from bleach->nbconvert->notebook>=4.4.1->widgetsnbextension~=3.5.0->ipywidgets) (20.3)\n",
      "Requirement already satisfied: pyparsing>=2.0.2 in c:\\users\\александр\\appdata\\local\\programs\\python\\python38-32\\lib\\site-packages (from packaging->bleach->nbconvert->notebook>=4.4.1->widgetsnbextension~=3.5.0->ipywidgets) (2.4.7)\n"
     ]
    },
    {
     "name": "stderr",
     "output_type": "stream",
     "text": [
      "Installing c:\\users\\александр\\appdata\\local\\programs\\python\\python38-32\\lib\\site-packages\\fileupload\\static -> fileupload\n",
      "Up to date: C:\\Users\\Александр\\AppData\\Roaming\\jupyter\\nbextensions\\fileupload\\extension.js\n",
      "Up to date: C:\\Users\\Александр\\AppData\\Roaming\\jupyter\\nbextensions\\fileupload\\widget.js\n",
      "Up to date: C:\\Users\\Александр\\AppData\\Roaming\\jupyter\\nbextensions\\fileupload\\fileupload\\widget.js\n",
      "- Validating: ok\n",
      "\n",
      "    To initialize this nbextension in the browser every time the notebook (or other app) loads:\n",
      "    \n",
      "          jupyter nbextension enable fileupload --user --py\n",
      "    \n",
      "Enabling notebook extension fileupload/extension...\n",
      "      - Validating: ok\n"
     ]
    },
    {
     "ename": "ModuleNotFoundError",
     "evalue": "No module named 'wordcloud'",
     "output_type": "error",
     "traceback": [
      "\u001b[1;31m---------------------------------------------------------------------------\u001b[0m",
      "\u001b[1;31mModuleNotFoundError\u001b[0m                       Traceback (most recent call last)",
      "\u001b[1;32m<ipython-input-5-b307209b0d99>\u001b[0m in \u001b[0;36m<module>\u001b[1;34m\u001b[0m\n\u001b[0;32m      7\u001b[0m \u001b[0mget_ipython\u001b[0m\u001b[1;33m(\u001b[0m\u001b[1;33m)\u001b[0m\u001b[1;33m.\u001b[0m\u001b[0msystem\u001b[0m\u001b[1;33m(\u001b[0m\u001b[1;34m'jupyter nbextension enable --py fileupload'\u001b[0m\u001b[1;33m)\u001b[0m\u001b[1;33m\u001b[0m\u001b[1;33m\u001b[0m\u001b[0m\n\u001b[0;32m      8\u001b[0m \u001b[1;33m\u001b[0m\u001b[0m\n\u001b[1;32m----> 9\u001b[1;33m \u001b[1;32mimport\u001b[0m \u001b[0mwordcloud\u001b[0m\u001b[1;33m\u001b[0m\u001b[1;33m\u001b[0m\u001b[0m\n\u001b[0m\u001b[0;32m     10\u001b[0m \u001b[1;32mimport\u001b[0m \u001b[0mnumpy\u001b[0m \u001b[1;32mas\u001b[0m \u001b[0mnp\u001b[0m\u001b[1;33m\u001b[0m\u001b[1;33m\u001b[0m\u001b[0m\n\u001b[0;32m     11\u001b[0m \u001b[1;32mfrom\u001b[0m \u001b[0mmatplotlib\u001b[0m \u001b[1;32mimport\u001b[0m \u001b[0mpyplot\u001b[0m \u001b[1;32mas\u001b[0m \u001b[0mplt\u001b[0m\u001b[1;33m\u001b[0m\u001b[1;33m\u001b[0m\u001b[0m\n",
      "\u001b[1;31mModuleNotFoundError\u001b[0m: No module named 'wordcloud'"
     ]
    }
   ],
   "source": [
    "# Here are all the installs and imports you will need for your word cloud script and uploader widget\n",
    "\n",
    "!pip install wordcloud\n",
    "!pip install fileupload\n",
    "!pip install ipywidgets\n",
    "!jupyter nbextension install --py --user fileupload\n",
    "!jupyter nbextension enable --py fileupload\n",
    "\n",
    "import wordcloud\n",
    "import numpy as np\n",
    "from matplotlib import pyplot as plt\n",
    "from IPython.display import display\n",
    "import fileupload\n",
    "import io\n",
    "import sys"
   ]
  },
  {
   "cell_type": "markdown",
   "metadata": {},
   "source": [
    "Чтобы загрузить текстовый файл, запустите следующую ячейку, которая содержит весь код для пользовательского виджета загрузки. После запуска этой ячейки под ней должна появиться кнопка «Обзор». Нажмите эту кнопку и перейдите в окно, чтобы найти сохраненный текстовый файл."
   ]
  },
  {
   "cell_type": "code",
   "execution_count": null,
   "metadata": {},
   "outputs": [],
   "source": [
    "# This is the uploader widget\n",
    "\n",
    "def _upload():\n",
    "\n",
    "    _upload_widget = fileupload.FileUploadWidget()\n",
    "\n",
    "    def _cb(change):\n",
    "        global file_contents\n",
    "        decoded = io.StringIO(change['owner'].data.decode('utf-8'))\n",
    "        filename = change['owner'].filename\n",
    "        print('Uploaded `{}` ({:.2f} kB)'.format(\n",
    "            filename, len(decoded.read()) / 2 **10))\n",
    "        file_contents = decoded.getvalue()\n",
    "\n",
    "    _upload_widget.observe(_cb, names='data')\n",
    "    display(_upload_widget)\n",
    "\n",
    "_upload()"
   ]
  },
  {
   "cell_type": "markdown",
   "metadata": {},
   "source": [
    "Уф! Это было много. Все установки и импорт для вашего сценария облака слов и виджета для загрузки завершены.\n",
    "\n",
    "ВАЖНЫЙ! Если вы впервые запустили вышеуказанную ячейку, содержащую установки и импорт, вам нужно сохранить этот блокнот сейчас. Затем в меню «Файл» выше выберите «Закрыть и остановить». Когда ноутбук полностью выключится, снова откройте его. Это единственный способ повлиять на необходимые изменения.\n",
    "\n",
    "Чтобы загрузить текстовый файл, запустите следующую ячейку, которая содержит весь код для пользовательского виджета загрузки. После запуска этой ячейки под ней должна появиться кнопка «Обзор». Нажмите эту кнопку и перейдите в окно, чтобы найти сохраненный текстовый файл."
   ]
  },
  {
   "cell_type": "markdown",
   "metadata": {},
   "source": [
    "Виджет загрузчика сохранил содержимое вашего загруженного файла в строковый объект с именем file_contents, который может обработать ваш скрипт облака слов. Это было много предварительной работы, но теперь вы готовы начать свой сценарий.\n",
    "\n",
    "Напишите функцию в ячейке ниже, которая просматривает слова в file_contents , удаляет знаки препинания и подсчитывает частоту каждого слова. Да, и убедитесь, что он игнорирует регистр слов, слова, которые не содержат все алфавиты и скучные слова, такие как «и» или «the». Затем используйте его в generate_from_frequenciesфункции, чтобы создать свое собственное облако слов!\n",
    "\n",
    "Подсказка: попробуйте сохранить результаты вашей итерации в словаре, прежде чем передавать их в wordcloud через generate_from_frequenciesфункцию."
   ]
  },
  {
   "cell_type": "code",
   "execution_count": null,
   "metadata": {},
   "outputs": [],
   "source": [
    "def calculate_frequencies(file_contents):\n",
    "   # Here is a list of punctuations and uninteresting words you can use to process your text\n",
    "    punctuations = '''!()-[]{};:'\"\\,<>./?@#$%^&*_~'''\n",
    "    uninteresting_words = [\"the\", \"a\", \"to\", \"if\", \"is\", \"it\", \"of\", \"and\", \"or\", \"an\", \"as\", \"i\", \"me\", \"my\", \\\n",
    "    \"we\", \"our\", \"ours\", \"you\", \"your\", \"yours\", \"he\", \"she\", \"him\", \"his\", \"her\", \"hers\", \"its\", \"they\", \"them\", \\\n",
    "    \"their\", \"what\", \"which\", \"who\", \"whom\", \"this\", \"that\", \"am\", \"are\", \"was\", \"were\", \"be\", \"been\", \"being\", \\\n",
    "    \"have\", \"has\", \"had\", \"do\", \"does\", \"did\", \"but\", \"at\", \"by\", \"with\", \"from\", \"here\", \"when\", \"where\", \"how\", \\\n",
    "    \"all\", \"any\", \"both\", \"each\", \"few\", \"more\", \"some\", \"such\", \"no\", \"nor\", \"too\", \"very\", \"can\", \"will\", \"just\"]\n",
    "\n",
    "\n",
    "    \n",
    "    # LEARNER CODE START HERE\n",
    "\n",
    "    d = {}\n",
    "    convert_text = file_contents.lower()\n",
    "    #print(convert_text)\n",
    "\n",
    "    for word in convert_text.split():\n",
    "        if word not in punctuations: \n",
    "            if word not in uninteresting_words:\n",
    "                \n",
    "                if word not in d:\n",
    "                 \n",
    "                    d[word] = 1\n",
    "                else:\n",
    "                    d[word] = d[word] + 1\n",
    "    #print(d) \n",
    "    #print(d.values())\n",
    "\n",
    "    \n",
    "    #print(d) \n",
    "        \n",
    "\n",
    "\n",
    "        \n",
    "#wordcloud\n",
    "    cloud = wordcloud.WordCloud()\n",
    "    cloud.generate_from_frequencies(d)\n",
    "    cloud.to_file(\"myfile.jpg\")\n",
    "    return cloud.to_array()\n",
    "#calculate_frequencies(file_contents) \n"
   ]
  },
  {
   "cell_type": "code",
   "execution_count": null,
   "metadata": {},
   "outputs": [],
   "source": [
    "# Display your wordcloud image\n",
    "\n",
    "myimage = calculate_frequencies(file_contents)\n",
    "\n",
    "#print(type(myimage))\n",
    "\n",
    "plt.imshow(myimage, interpolation = 'nearest')\n",
    "\n",
    "plt.axis('off')\n",
    "plt.show()"
   ]
  }
 ],
 "metadata": {
  "kernelspec": {
   "display_name": "Python 3",
   "language": "python",
   "name": "python3"
  },
  "language_info": {
   "codemirror_mode": {
    "name": "ipython",
    "version": 3
   },
   "file_extension": ".py",
   "mimetype": "text/x-python",
   "name": "python",
   "nbconvert_exporter": "python",
   "pygments_lexer": "ipython3",
   "version": "3.8.2"
  }
 },
 "nbformat": 4,
 "nbformat_minor": 4
}
