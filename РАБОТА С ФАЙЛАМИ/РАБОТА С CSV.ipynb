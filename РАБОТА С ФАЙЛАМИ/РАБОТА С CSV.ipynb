{
 "cells": [
  {
   "cell_type": "markdown",
   "metadata": {},
   "source": [
    "РАБОТА С CSV"
   ]
  },
  {
   "cell_type": "code",
   "execution_count": null,
   "metadata": {},
   "outputs": [],
   "source": [
    "import csv\n",
    "f = open(\"ex.csv\")\n",
    "csv_f = csv.reader(f)#Функция reader () модуля CSV интерпретирует файл как CSV.\n",
    "#это дало нам экземпляр класса читателя CSV. Теперь мы можем перебрать его содержимое\n",
    "#и получить доступ к информации, которую он проанализировал.\n",
    "for row in csv_f:\n",
    "#Теперь переменная row содержит каждую строку в файле CSV. \n",
    "#Эта переменная представляет собой список с каждым полем в CSV, соответствующем одному элементу в списке\n",
    "    date_time, name, price = row\n",
    "    print(\"Date and Time - {}, Name - {}, Price - {}\".format(date_time, name, price))\n"
   ]
  },
  {
   "cell_type": "markdown",
   "metadata": {},
   "source": [
    "мы можем распаковать значения, чтобы мы могли использовать переменные для обращения к ним.\n",
    "Помните, что для этого нам нужно иметь ровно столько же переменных в левой части знака равенства, сколько длины последовательности в правой части. мы распаковываем строку, чтобы нам не приходилось использовать индексы для доступа к каждому элементу в этом списке. Например, мы могли бы использовать row [0] для доступа к дате и времени. Это верно, но может быть трудно следовать при чтении большого количества кода. Распаковка списка в переменные имени облегчает понимание кода в дальнейшем"
   ]
  },
  {
   "cell_type": "code",
   "execution_count": 5,
   "metadata": {},
   "outputs": [],
   "source": [
    "f.close()"
   ]
  },
  {
   "cell_type": "markdown",
   "metadata": {},
   "source": [
    "Генерация CSV"
   ]
  },
  {
   "cell_type": "code",
   "execution_count": 6,
   "metadata": {},
   "outputs": [],
   "source": [
    "hosts = [[\"workstation.local\", \"192.16.156.56\"], [\"webserver.cloud\", \"10.2.5.6\"]] \n",
    "with open(\"hosts.csv\", \"w\") as hosts_csv:\n",
    "    writer = csv.writer(hosts_csv)\n",
    "    #Переменная Writer теперь является экземпляром класса CSV Writer\n",
    "#Мы можем использовать две функции: запись строки, которую мы будем писать по одной строке за раз;\n",
    "#и написать строки, которые мы запишем все вместе.\n",
    "    writer.writerows(hosts)\n",
    "    "
   ]
  },
  {
   "cell_type": "markdown",
   "metadata": {},
   "source": [
    "(base) alexczn@alexczn-desktop:~/Документы/Notebooks_work/2 week$ cat hosts.csv\n",
    "workstation.local,192.16.156.56\n",
    "webserver.cloud,10.2.5.6"
   ]
  },
  {
   "cell_type": "code",
   "execution_count": 13,
   "metadata": {},
   "outputs": [],
   "source": [
    "import csv\n",
    "with open(\"4.csv\") as c:\n",
    "    reader = csv.reader(c)\n",
    "    for row in reader:\n",
    "        print(\"Filename is {} and {} and {} and {}\".format(row[\"Filename\"], row[\"Title\"], row[\"Keywords\"], row[\"Category\"], row[\"Category\"] ))\n",
    "        "
   ]
  },
  {
   "cell_type": "code",
   "execution_count": 16,
   "metadata": {},
   "outputs": [],
   "source": [
    "users = [{'color': 'blue', 'fruit': 'apple', 'pet': 'dog'}, {'color': 'green', 'fruit': 'pine', 'pet': 'cat'}]\n",
    "# каждый элемент в списке будет строкой в файле, а значения каждого поля будут выходить из каждого из словарей\n",
    "keys = ['color', 'fruit', 'pet']\n",
    "with open(\"users.csv\", \"w\") as by_users:\n",
    "    writer = csv.DictWriter(by_users, fieldnames = keys)\n",
    "#мы создали DictWriter, передавая ключи, которые мы определили ранее, \n",
    "#и затем мы вызываем два разных метода на писателе\n",
    "    writer.writeheader() #метод заголовка создаст первую строку CSV на основе ключей\n",
    "    writer.writerows(users)\n"
   ]
  },
  {
   "cell_type": "code",
   "execution_count": null,
   "metadata": {},
   "outputs": [],
   "source": [
    "(base) alexczn@alexczn-desktop:~/Документы/Notebooks_work/2 week$ cat users.csv\n",
    "color,fruit,pet\n",
    "blue,apple,dog\n",
    "green,pine,cat\n"
   ]
  },
  {
   "cell_type": "markdown",
   "metadata": {},
   "source": [
    "Проверьте следующие ссылки для получения дополнительной информации:\n",
    "\n",
    "https://docs.python.org/3/library/csv.html\n",
    "https://realpython.com/python-csv/\n"
   ]
  },
  {
   "cell_type": "code",
   "execution_count": 40,
   "metadata": {},
   "outputs": [
    {
     "name": "stdout",
     "output_type": "stream",
     "text": [
      "a pink carnation is annual\n",
      "a yellow daffodil is perennial\n",
      "a blue iris is perennial\n",
      "a red poinsettia is perennial\n",
      "a yellow sunflower is annual\n",
      "\n"
     ]
    }
   ],
   "source": [
    "#Мы работаем со списком цветов и некоторой информацией о каждом из них. \n",
    "#Функция create_file записывает эту информацию в файл CSV. \n",
    "#Функция contents_of_file считывает этот файл в записи и возвращает информацию в \n",
    "#хорошо отформатированном блоке. Заполните пробелы в функции contents_of_file, чтобы превратить данные \n",
    "#в файле CSV в словарь с помощью DictReader.\n",
    "import os\n",
    "import csv\n",
    "\n",
    "# Create a file with data in it\n",
    "def create_file(filename):\n",
    "    with open(filename, \"w\") as file:\n",
    "        file.write(\"name,color,type\\n\")\n",
    "        file.write(\"carnation,pink,annual\\n\")\n",
    "        file.write(\"daffodil,yellow,perennial\\n\")\n",
    "        file.write(\"iris,blue,perennial\\n\")\n",
    "        file.write(\"poinsettia,red,perennial\\n\")\n",
    "        file.write(\"sunflower,yellow,annual\\n\")\n",
    "\n",
    "# Read the file contents and format the information about each row\n",
    "def contents_of_file(filename):\n",
    "    keys = ['color', 'name', 'type']\n",
    "    return_string = \"\"\n",
    "\n",
    "  # Call the function to create the file \n",
    "    create_file(filename)\n",
    "\n",
    "  # Open the file\n",
    "    with open(filename, newline='') as f:\n",
    "        \n",
    "    # Read the rows of the file into a dictionary\n",
    "        #x = csv.reader(f)\n",
    "        reader = csv.DictReader(f)\n",
    "        for row in reader:\n",
    "    \n",
    "    # Process each item of the dictionary\n",
    "        #for row in x:\n",
    "          return_string += \"a {} {} is {}\\n\".format(row[\"color\"], row[\"name\"], row[\"type\"])\n",
    "    return return_string\n",
    "\n",
    "#Call the function\n",
    "print(contents_of_file(\"flowers.csv\"))"
   ]
  },
  {
   "cell_type": "code",
   "execution_count": 92,
   "metadata": {},
   "outputs": [
    {
     "name": "stdout",
     "output_type": "stream",
     "text": [
      "a pink carnation is annual\n",
      "a yellow daffodil is perennial\n",
      "a blue iris is perennial\n",
      "a red poinsettia is perennial\n",
      "a yellow sunflower is annual\n",
      "\n"
     ]
    }
   ],
   "source": [
    "#Снова используя файл цветов CSV, заполните пробелы в функции contents_of_file, чтобы обработать данные, \n",
    "#не превращая их в словарь. Как пропустить заголовок записи с именами полей?\n",
    "import os\n",
    "import csv\n",
    "\n",
    "# Create a file with data in it\n",
    "def create_file(filename):\n",
    "    with open(filename, \"w\") as file:\n",
    "        file.write(\"name,color,type\\n\")\n",
    "        file.write(\"carnation,pink,annual\\n\")\n",
    "        file.write(\"daffodil,yellow,perennial\\n\")\n",
    "        file.write(\"iris,blue,perennial\\n\")\n",
    "        file.write(\"poinsettia,red,perennial\\n\")\n",
    "        file.write(\"sunflower,yellow,annual\\n\")\n",
    "\n",
    "# Read the file contents and format the information about each row\n",
    "def contents_of_file(filename):\n",
    "    return_string = \"\"\n",
    "\n",
    "  # Call the function to create the file \n",
    "    create_file(filename)\n",
    "\n",
    "  # Open the file\n",
    "    with open(filename, newline='') as f:\n",
    "        #csv_f = csv.reader(f)\n",
    "    # Read the rows of the file\n",
    "        #rows = csv.reader(f, delimiter=',', quotechar=',',\n",
    "        #                quoting=csv.QUOTE_MINIMAL)\n",
    "        rows = csv.reader(f)\n",
    "        rows.__next__()\n",
    "        #rows = f.readlines()\n",
    "    # Process each row\n",
    "        for row in rows:\n",
    "            name, color, type = row\n",
    "      # Format the return string for data rows only\n",
    "\n",
    "            #return_string += \"a {} {} is {}\\n\".format(row[0], row[1], row[2])\n",
    "            #return_string += \"a {} {} is {}\\n\".format(row[\"name\"], row[\"color\"], row[\"type\"])\n",
    "            return_string += \"a {} {} is {}\\n\".format(color, name, type)\n",
    "    return return_string\n",
    "\n",
    "#Call the function\n",
    "print(contents_of_file(\"flowers.csv\"))\n",
    "\n",
    "\n",
    "\n"
   ]
  },
  {
   "cell_type": "code",
   "execution_count": null,
   "metadata": {},
   "outputs": [],
   "source": [
    "#ЛАБОРАТОРНАЯ РАБОТА\n",
    "#!/usr/bin/env python3\n",
    "import csv\n",
    "\n",
    "def read_employees(csv_file_location):\n",
    "    with open(csv_file_location, newline='') as f:\n",
    "        reader = csv.DictReader(f)\n",
    "        csv.register_dialect('empDialect', skipinitialspace=True, strict=True)\n",
    "        employee_file = csv.DictReader(open(csv_file_location), dialect = 'empDialect')\n",
    "        employee_list = []\n",
    "        for data in employee_file:\n",
    "            employee_list.append(data)\n",
    "    return employee_list\n",
    "employee_list = read_employees('/home/student-01-0200f9489215/data/employees.csv')\n",
    "print(employee_list)\n",
    "\n",
    "def process_data(employee_list):\n",
    "    department_list = []\n",
    "    for employee_data in employee_list:\n",
    "        department_list.append(employee_data['Department'])\n",
    "    department_data = {}\n",
    "    for department_name in set(department_list):\n",
    "        department_data[department_name] = department_list.count(department_name)\n",
    "    return department_data\n",
    "dictionary = process_data(employee_list)\n",
    "print(dictionary)\n",
    "\n",
    "def write_report(dictionary, report_file):\n",
    "    with open(report_file, \"w+\") as f:\n",
    "        for k in sorted(dictionary):\n",
    "            f.write(str(k)+':'+str(dictionary[k])+'\\n')\n",
    "        f.close()\n",
    "write_report(dictionary, '/home/student-01-0200f9489215/data/report.txt')"
   ]
  }
 ],
 "metadata": {
  "kernelspec": {
   "display_name": "Python 3",
   "language": "python",
   "name": "python3"
  },
  "language_info": {
   "codemirror_mode": {
    "name": "ipython",
    "version": 3
   },
   "file_extension": ".py",
   "mimetype": "text/x-python",
   "name": "python",
   "nbconvert_exporter": "python",
   "pygments_lexer": "ipython3",
   "version": "3.7.6"
  }
 },
 "nbformat": 4,
 "nbformat_minor": 4
}
