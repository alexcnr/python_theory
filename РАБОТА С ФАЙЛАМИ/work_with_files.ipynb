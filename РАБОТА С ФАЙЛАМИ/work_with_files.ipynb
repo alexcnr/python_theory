{
 "cells": [
  {
   "cell_type": "code",
   "execution_count": null,
   "metadata": {},
   "outputs": [],
   "source": []
  },
  {
   "cell_type": "code",
   "execution_count": 1,
   "metadata": {},
   "outputs": [
    {
     "ename": "FileNotFoundError",
     "evalue": "[WinError 2] Не удается найти указанный файл: '2-1.txt'",
     "output_type": "error",
     "traceback": [
      "\u001b[1;31m---------------------------------------------------------------------------\u001b[0m",
      "\u001b[1;31mFileNotFoundError\u001b[0m                         Traceback (most recent call last)",
      "\u001b[1;32m<ipython-input-1-ad0f49efb58e>\u001b[0m in \u001b[0;36m<module>\u001b[1;34m\u001b[0m\n\u001b[0;32m      1\u001b[0m \u001b[1;32mimport\u001b[0m \u001b[0mos\u001b[0m\u001b[1;33m\u001b[0m\u001b[1;33m\u001b[0m\u001b[0m\n\u001b[1;32m----> 2\u001b[1;33m \u001b[0mos\u001b[0m\u001b[1;33m.\u001b[0m\u001b[0mremove\u001b[0m\u001b[1;33m(\u001b[0m\u001b[1;34m\"2-1.txt\"\u001b[0m\u001b[1;33m)\u001b[0m\u001b[1;33m\u001b[0m\u001b[1;33m\u001b[0m\u001b[0m\n\u001b[0m",
      "\u001b[1;31mFileNotFoundError\u001b[0m: [WinError 2] Не удается найти указанный файл: '2-1.txt'"
     ]
    }
   ],
   "source": [
    "import os\n",
    "os.remove(\"2-1.txt\")"
   ]
  },
  {
   "cell_type": "code",
   "execution_count": 2,
   "metadata": {},
   "outputs": [],
   "source": [
    "os.rename(\"2.txt\", \"2_new.txt\")"
   ]
  },
  {
   "cell_type": "markdown",
   "metadata": {},
   "source": [
    "Мы можем использовать его, чтобы проверить, что файл существует, прежде чем пытаться прочитать его, или убедиться, что он не существует, прежде чем пытаться записать его, что помогает нам избежать потери каких-либо данных"
   ]
  },
  {
   "cell_type": "code",
   "execution_count": 2,
   "metadata": {},
   "outputs": [
    {
     "data": {
      "text/plain": [
       "True"
      ]
     },
     "execution_count": 2,
     "metadata": {},
     "output_type": "execute_result"
    }
   ],
   "source": [
    "os.path.exists(\"2_new.txt\") #"
   ]
  },
  {
   "cell_type": "code",
   "execution_count": 70,
   "metadata": {},
   "outputs": [
    {
     "data": {
      "text/plain": [
       "15"
      ]
     },
     "execution_count": 70,
     "metadata": {},
     "output_type": "execute_result"
    }
   ],
   "source": [
    "os.path.getsize(\"2_new.txt\") #возвращает размер файла в байтах."
   ]
  },
  {
   "cell_type": "code",
   "execution_count": 6,
   "metadata": {},
   "outputs": [
    {
     "data": {
      "text/plain": [
       "1589631960.277501"
      ]
     },
     "execution_count": 6,
     "metadata": {},
     "output_type": "execute_result"
    }
   ],
   "source": [
    "os.path.getmtime(\"2_new.txt\") #когда файл был последний раз изменен. количество секунд с 1 января 1970 года"
   ]
  },
  {
   "cell_type": "code",
   "execution_count": 7,
   "metadata": {},
   "outputs": [
    {
     "data": {
      "text/plain": [
       "datetime.datetime(2020, 5, 16, 15, 26, 0, 277501)"
      ]
     },
     "execution_count": 7,
     "metadata": {},
     "output_type": "execute_result"
    }
   ],
   "source": [
    "import datetime\n",
    "timestamp = os.path.getmtime(\"2_new.txt\")\n",
    "datetime.datetime.fromtimestamp(timestamp)"
   ]
  },
  {
   "cell_type": "code",
   "execution_count": 8,
   "metadata": {},
   "outputs": [
    {
     "data": {
      "text/plain": [
       "'/home/alexczn/Документы/Notebooks_work/2 week/2_new.txt'"
      ]
     },
     "execution_count": 8,
     "metadata": {},
     "output_type": "execute_result"
    }
   ],
   "source": [
    "os.path.abspath(\"2_new.txt\") #Функция abspath берет имя файла и превращает его в абсолютный путь"
   ]
  },
  {
   "cell_type": "code",
   "execution_count": 9,
   "metadata": {},
   "outputs": [
    {
     "name": "stdout",
     "output_type": "stream",
     "text": [
      "/home/alexczn/Документы/Notebooks_work/2 week\n"
     ]
    }
   ],
   "source": [
    "print(os.getcwd()) #в каком текущем каталоге работает ваша Python-программа"
   ]
  },
  {
   "cell_type": "code",
   "execution_count": 10,
   "metadata": {},
   "outputs": [],
   "source": [
    "os.mkdir(\"new_dir\")  #создать каталог"
   ]
  },
  {
   "cell_type": "code",
   "execution_count": 11,
   "metadata": {},
   "outputs": [
    {
     "name": "stdout",
     "output_type": "stream",
     "text": [
      "/home/alexczn/Документы/Notebooks_work/2 week/new_dir\n"
     ]
    }
   ],
   "source": [
    "os.chdir(\"new_dir\") #изменить каталоги \n",
    "print(os.getcwd())"
   ]
  },
  {
   "cell_type": "code",
   "execution_count": 14,
   "metadata": {},
   "outputs": [],
   "source": [
    "os.chdir(\"/home/alexczn/Документы/Notebooks_work/2 week\")\n",
    "os.rmdir(\"new_dir\")  #rmdir для их удаления\n",
    "#но функция rmdir будет работать, только если каталог пуст."
   ]
  },
  {
   "cell_type": "code",
   "execution_count": 25,
   "metadata": {},
   "outputs": [
    {
     "data": {
      "text/plain": [
       "['1 week', 'настройка.odt', '2 week', '.ipynb_checkpoints']"
      ]
     },
     "execution_count": 25,
     "metadata": {},
     "output_type": "execute_result"
    }
   ],
   "source": [
    "os.chdir(\"/home/alexczn/Документы/\")\n",
    "os.listdir(\"Notebooks_work\")"
   ]
  },
  {
   "cell_type": "code",
   "execution_count": 27,
   "metadata": {},
   "outputs": [
    {
     "name": "stdout",
     "output_type": "stream",
     "text": [
      "Notebooks_work/1 week is a directory\n",
      "Notebooks_work/настройка.odt is a file\n",
      "Notebooks_work/2 week is a directory\n",
      "Notebooks_work/.ipynb_checkpoints is a directory\n"
     ]
    }
   ],
   "source": [
    "dir = \"Notebooks_work\"\n",
    "for name in os.listdir(dir):\n",
    "    fullname = os.path.join(dir, name)\n",
    "    #Создает строку, содержащую кроссплатформенные сцепленные каталоги.\n",
    "    #Используя os.path.join, мы можем объединять каталоги так, \n",
    "    #чтобы их можно было использовать с другими функциями os.path ().\n",
    "    if os.path.isdir(fullname):\n",
    "        print(\"{} is a directory\".format(fullname))\n",
    "    else:\n",
    "        print(\"{} is a file\".format(fullname))\n",
    "        "
   ]
  },
  {
   "cell_type": "markdown",
   "metadata": {},
   "source": [
    "https://docs.python.org/3/library/os.html\n",
    "https://docs.python.org/3/library/os.path.html\n",
    "https://en.wikipedia.org/wiki/Unix_time"
   ]
  },
  {
   "cell_type": "code",
   "execution_count": 85,
   "metadata": {},
   "outputs": [
    {
     "name": "stdout",
     "output_type": "stream",
     "text": [
      "31\n"
     ]
    }
   ],
   "source": [
    "#Функция create_python_script создает новый скрипт python в текущем рабочем каталоге, \n",
    "#добавляет к нему строку комментариев, объявленную переменной 'comments', и возвращает размер нового файла.\n",
    "os.chdir(\"/home/alexczn/Документы/Notebooks_work/2 week\")\n",
    "import os\n",
    "def create_python_script(filename):\n",
    "    comments = \"# Start of a new Python program\"\n",
    "    with open(filename, \"w\") as file:\n",
    "        #for i in comments:\n",
    "        file.write(comments)\n",
    "            #x = file.write(comments)\n",
    "    filesize = os.path.getsize(filename)\n",
    "    return(filesize)\n",
    "\n",
    "\n",
    "\n",
    "\n",
    "\n",
    "print(create_python_script(\"program.py\"))"
   ]
  },
  {
   "cell_type": "code",
   "execution_count": 42,
   "metadata": {},
   "outputs": [
    {
     "name": "stdout",
     "output_type": "stream",
     "text": [
      "['script.py']\n"
     ]
    }
   ],
   "source": [
    "#Функция new_directory создает новый каталог внутри текущего рабочего каталога, \n",
    "#затем создает новый пустой файл внутри нового каталога и возвращает список файлов в этом каталоге. \n",
    "\n",
    "import os\n",
    "os.chdir(\"/home/alexczn/Документы/Notebooks_work/2 week\")\n",
    "\n",
    "def new_directory(directory, filename):\n",
    "  # Before creating a new directory, check to see if it already exists\n",
    "    if os.path.isdir(directory) == False:\n",
    "        os.mkdir(directory) \n",
    "\n",
    "  # Create the new file inside of the new directory\n",
    "    os.chdir(directory)\n",
    "    with open(filename, \"w\") as file:\n",
    "        pass\n",
    "\n",
    "  # Return the list of files in the new directory\n",
    "    return os.listdir()\n",
    "\n",
    "print(new_directory(\"PythonPrograms\", \"script.py\"))\n"
   ]
  },
  {
   "cell_type": "code",
   "execution_count": 54,
   "metadata": {},
   "outputs": [
    {
     "name": "stdout",
     "output_type": "stream",
     "text": [
      "2020-05-16\n",
      "2020-05-16\n"
     ]
    }
   ],
   "source": [
    "#Функция file_date создает новый файл в текущем рабочем каталоге, проверяет дату, \n",
    "#когда файл был изменен, и возвращает только часть даты временной метки в формате гггг-мм-дд. \n",
    "#Заполните пропуски, чтобы создать файл с именем «newfile.txt» и проверьте дату его изменения.\n",
    "\n",
    "import os\n",
    "import datetime\n",
    "os.chdir(\"/home/alexczn/Документы/Notebooks_work/2 week\")\n",
    "\n",
    "def file_date(filename):\n",
    "  # Create the file in the current directory\n",
    "    with open(filename, \"w\") as file:\n",
    "        pass\n",
    "    timestamp = os.path.getmtime(filename)\n",
    "    \n",
    "  # Convert the timestamp into a readable format, then into a string\n",
    "    z = datetime.datetime.fromtimestamp(timestamp)\n",
    "    y = z.strftime('%Y-%m-%d')  #('%m-%d-%Y')  ('%Y-%m-%d')\n",
    "    print(y)\n",
    "    \n",
    "    \n",
    "    \n",
    "  # Return just the date portion \n",
    "  # Hint: how many characters are in “yyyy-mm-dd”? \n",
    "    return (\"{}\".format(y))\n",
    "\n",
    "print(file_date(\"newfile.txt\")) \n",
    "# Should be today's date in the format of yyyy-mm-dd\n",
    "\n",
    "\n",
    "\n"
   ]
  },
  {
   "cell_type": "code",
   "execution_count": 1,
   "metadata": {},
   "outputs": [
    {
     "name": "stdout",
     "output_type": "stream",
     "text": [
      "C:\\Users\\Александр\\Documents\\COURSIERA_learning\\google\\Using Python to Interact with the Operating System\n"
     ]
    }
   ],
   "source": [
    "#Функция parent_directory возвращает имя каталога, расположенного чуть выше текущего рабочего каталога. \n",
    "#Помните, что «..» - это относительный псевдоним пути, который означает «перейти в родительский каталог». \n",
    "\n",
    "import os\n",
    "def parent_directory():\n",
    "  # Create a relative path to the parent\n",
    "    \n",
    "    p = os.path.abspath('..')\n",
    "    #print(p)\n",
    "    \n",
    "    \n",
    "  # of the current working directory \n",
    "    relative_parent = os.path.join(p, os.getcwd())\n",
    "\n",
    "  # Return the absolute path of the parent directory\n",
    "    return p\n",
    "\n",
    "print(parent_directory())\n",
    "\n",
    "\n"
   ]
  },
  {
   "cell_type": "code",
   "execution_count": null,
   "metadata": {},
   "outputs": [],
   "source": []
  },
  {
   "cell_type": "code",
   "execution_count": null,
   "metadata": {},
   "outputs": [],
   "source": []
  }
 ],
 "metadata": {
  "kernelspec": {
   "display_name": "Python 3",
   "language": "python",
   "name": "python3"
  },
  "language_info": {
   "codemirror_mode": {
    "name": "ipython",
    "version": 3
   },
   "file_extension": ".py",
   "mimetype": "text/x-python",
   "name": "python",
   "nbconvert_exporter": "python",
   "pygments_lexer": "ipython3",
   "version": "3.7.6"
  }
 },
 "nbformat": 4,
 "nbformat_minor": 4
}
