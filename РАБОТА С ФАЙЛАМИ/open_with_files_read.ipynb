{
 "cells": [
  {
   "cell_type": "code",
   "execution_count": null,
   "metadata": {},
   "outputs": [],
   "source": [
    "file = open(\"dictionary.txt\")\n",
    "print(file.readline())#читает 1 строку\n"
   ]
  },
  {
   "cell_type": "code",
   "execution_count": null,
   "metadata": {},
   "outputs": [],
   "source": [
    "print(file.readline())#читает 1 строку"
   ]
  },
  {
   "cell_type": "code",
   "execution_count": null,
   "metadata": {},
   "outputs": [],
   "source": [
    "print(file.readlines()) #читает все строки"
   ]
  },
  {
   "cell_type": "code",
   "execution_count": null,
   "metadata": {},
   "outputs": [],
   "source": [
    "print(file.readline())#каждый раз, когда мы вызываем метод readline,\n",
    "#объект файла обновляет текущую позицию в файле"
   ]
  },
  {
   "cell_type": "code",
   "execution_count": null,
   "metadata": {},
   "outputs": [],
   "source": [
    "file = open(\"42.txt\")\n",
    "print(file.read())#читает all"
   ]
  },
  {
   "cell_type": "code",
   "execution_count": null,
   "metadata": {},
   "outputs": [],
   "source": [
    "file.close()"
   ]
  },
  {
   "cell_type": "markdown",
   "metadata": {},
   "source": [
    "Рекомендуется закрывать файлы после того, как вы открыли их по нескольким причинам. Во-первых, когда файл открывает ваш скрипт, ваша файловая система обычно блокирует его, и никакие другие программы или скрипты не могут использовать его, пока вы не закончите. Во-вторых, существует ограниченное количество файловых дескрипторов, которые вы можете создать до того, как ваша файловая система исчерпает их. Хотя это число может быть большим, возможно открыть много файлов и истощить ресурсы вашей файловой системы. Это может произойти, например, если мы открываем файлы в цикле. В-третьих, оставление открытых файлов в безвыходном положении может привести к состязанию, которое возникает, когда несколько процессов пытаются изменить и считывать данные с одного ресурса одновременно, и может вызывать всевозможные неожиданные действия. "
   ]
  },
  {
   "cell_type": "code",
   "execution_count": null,
   "metadata": {},
   "outputs": [],
   "source": [
    "with open (\"42.txt\") as file:\n",
    "    print(file.readline())"
   ]
  },
  {
   "cell_type": "markdown",
   "metadata": {},
   "source": [
    "Использование блока «с» - это хороший способ открыть и работать с одним файлом, после чего файл автоматически закрывается в конце блока. С другой стороны, использование open за пределами блока означает, что мы можем использовать файловый объект в других местах нашего кода. "
   ]
  },
  {
   "cell_type": "code",
   "execution_count": null,
   "metadata": {},
   "outputs": [],
   "source": [
    "with open (\"42.txt\") as file:\n",
    "    for line in file:\n",
    "        print(line.upper())"
   ]
  },
  {
   "cell_type": "markdown",
   "metadata": {},
   "source": [
    "странные пустые строки между содержимым? Есть идеи, что происходит? Что происходит, так это то, что файл имеет символ новой строки в конце каждой строки. Поэтому, когда Python читает файл строка за строкой, переменная строки всегда будет иметь символ новой строки в конце. Другими словами, символ новой строки не удаляется при вызове прочитанной строки. Когда мы просим Python напечатать строку, функция печати добавляет еще один символ новой строки, создавая пустую строку"
   ]
  },
  {
   "cell_type": "code",
   "execution_count": null,
   "metadata": {},
   "outputs": [],
   "source": [
    "with open (\"42.txt\") as file:\n",
    "    for line in file:\n",
    "        print(line.strip().upper())"
   ]
  },
  {
   "cell_type": "code",
   "execution_count": null,
   "metadata": {},
   "outputs": [],
   "source": [
    "#Другим способом работы с содержимым файла является чтение строк файла в список. \n",
    "file = open(\"42.txt\")\n",
    "lines = file.readlines()   #прочитайте все строки , переменная lines содержит список строк \n",
    "file.close()\n",
    "lines.sort()\n",
    "print(lines)\n",
    "\n"
   ]
  },
  {
   "cell_type": "markdown",
   "metadata": {},
   "source": [
    "Python отображает символ новой строки, используя символ «\\ n» при печати списка строк. Это способ явно показать, что в этих строках есть символ новой строки. В общем, для отображения символа, который нельзя распечатать, Python использует escape-последовательности с обратной косой чертой, например \\ n. Другой распространенной escape-последовательностью является \\ t для tab. Мы также можем использовать его для экранирования кавычек, если у нас есть строка, которая содержит одинарные или двойные кавычки. "
   ]
  },
  {
   "cell_type": "markdown",
   "metadata": {},
   "source": [
    "ЗАПИСЬ ФАЙЛОВ"
   ]
  },
  {
   "cell_type": "code",
   "execution_count": null,
   "metadata": {},
   "outputs": [],
   "source": [
    "with open (\"2.txt\", \"w\") as file:\n",
    "    file.write(\"It is a new day\")\n",
    "    \n",
    "print(file)"
   ]
  },
  {
   "cell_type": "markdown",
   "metadata": {},
   "source": [
    "что же значит w? Файловые объекты могут быть открыты в нескольких разных режимах. Режим похож на разрешение файла. Он определяет, что вы можете сделать с файлом, который вы только что открыли. По умолчанию функция open использует режим r, который предназначен только для чтения. Вы получите сообщение об ошибке, если попытаетесь записать файл, открытый в режиме только для чтения. \n",
    "Символ w сообщает функции open, что мы хотим открыть файл только для записи. Если файл не существует, Python создаст его.\n",
    "Важно помнить, что при открытии файла в режиме только записи вы не можете прочитать его содержимое.\n",
    "Eсли вы открываете файл для записи и файл уже существует, старое содержимое будет удалено, как только файл откроется. Да, представьте, что вы случайно удалили важный контент из файла. Так что помните, дважды проверьте, что вы открываете правильный файл, используя правильный режим. \n",
    "Если вы генерируете отчет и хотите записать его в новый файл, используя режим записи w, вы, вероятно, захотите проверить, существует ли файл, чтобы избежать потери какого-либо предыдущего содержимого\n",
    "При использовании режима записи старое содержимое удаляется, как только файл открывается."
   ]
  },
  {
   "cell_type": "code",
   "execution_count": null,
   "metadata": {},
   "outputs": [],
   "source": [
    "with open(\"2.txt\", \"w\") as file:\n",
    "    file.write(\"It is a new day\")"
   ]
  },
  {
   "cell_type": "code",
   "execution_count": null,
   "metadata": {},
   "outputs": [],
   "source": [
    "dir(open)"
   ]
  },
  {
   "cell_type": "code",
   "execution_count": null,
   "metadata": {},
   "outputs": [],
   "source": [
    "help(file.write)"
   ]
  },
  {
   "cell_type": "markdown",
   "metadata": {},
   "source": [
    "и скажем, у нас есть текстовый файл, содержащий текущих посетителей в отеле. Мы назовем это, гости. Запустите следующий код, чтобы создать файл. Файл будет автоматически заполнен именем каждого исходного гостя в отдельной строке."
   ]
  },
  {
   "cell_type": "code",
   "execution_count": null,
   "metadata": {},
   "outputs": [],
   "source": [
    "guests = open(\"guests.txt\", \"w\")\n",
    "initial_guests = [\"Bob\", \"Andrea\", \"Manuel\", \"Polly\", \"Khalid\"]\n",
    "\n",
    "for i in initial_guests:\n",
    "    guests.write(i + \"\\n\")\n",
    "    \n",
    "guests.close()"
   ]
  },
  {
   "cell_type": "code",
   "execution_count": null,
   "metadata": {},
   "outputs": [],
   "source": [
    "with open(\"guests.txt\") as guests:\n",
    "    for line in guests:\n",
    "        print(line)"
   ]
  },
  {
   "cell_type": "markdown",
   "metadata": {},
   "source": [
    "Вывод показывает, что наш файл guest.txt правильно заполнен с именем каждого исходного гостя в отдельной строке. Круто! Теперь предположим, что мы хотим обновить наш файл, когда гости регистрируются и выходят. Введите отсутствующий код в следующую ячейку, чтобы добавить гостей в файл guest.txt при регистрации."
   ]
  },
  {
   "cell_type": "code",
   "execution_count": null,
   "metadata": {},
   "outputs": [],
   "source": [
    "new_guests = [\"Sam\", \"Danielle\", \"Jacob\"]\n",
    "\n",
    "with open(\"guests.txt\", \"a\") as guests:\n",
    "    for i in new_guests:\n",
    "        guests.write(i + \"\\n\")\n",
    "\n",
    "guests.close()"
   ]
  },
  {
   "cell_type": "code",
   "execution_count": null,
   "metadata": {},
   "outputs": [],
   "source": [
    "with open(\"guests.txt\") as guests:\n",
    "    for line in guests:\n",
    "        print(line)"
   ]
  },
  {
   "cell_type": "markdown",
   "metadata": {},
   "source": [
    "текущие имена в файле guest.txt должны быть: Боб, Андреа, Мануэль, Полли, Халид, Сэм, Даниэль и Джейкоб. Правильно ли добавлен файл guest.txt с новыми гостями? Если нет, вернитесь и отредактируйте свой код, убедившись, что заполняете пропуски соответствующим образом, чтобы новые гости были правильно добавлены в файл guest.txt. После успешного добавления новых гостей вы правильно заполнили пропущенный код. Большой! Теперь давайте удалим гостей, которые уже проверили. Есть несколько способов сделать это, однако метод, который мы выберем для этого упражнения, описан следующим образом: Откройте файл в режиме «чтения». Переберите каждую строку в файле и поместите имя каждого гостя в список Python. Откройте файл еще раз в режиме «запись». Добавьте имя каждого гостя из списка Python в файл один за другим. Готов? Введите отсутствующий код в следующую ячейку, чтобы удалить гостей, которые уже зарегистрировались."
   ]
  },
  {
   "cell_type": "code",
   "execution_count": null,
   "metadata": {},
   "outputs": [],
   "source": [
    "checked_out=[\"Andrea\", \"Manuel\", \"Khalid\"]\n",
    "temp_list=[]\n",
    "\n",
    "with open(\"guests.txt\", \"r\") as guests:\n",
    "    for g in guests:\n",
    "        temp_list.append(g.strip())\n",
    "\n",
    "with open(\"guests.txt\", \"w\") as guests:\n",
    "    for name in temp_list:\n",
    "        if name not in checked_out:\n",
    "            guests.write(name + \"\\n\")"
   ]
  },
  {
   "cell_type": "code",
   "execution_count": null,
   "metadata": {},
   "outputs": [],
   "source": [
    "with open(\"guests.txt\") as guests:\n",
    "    for line in guests:\n",
    "        print(line)"
   ]
  },
  {
   "cell_type": "markdown",
   "metadata": {},
   "source": [
    "Текущие имена в файле guest.txt должны быть: Боб, Полли, Сэм, Даниэль и Джейкоб. Правильно ли удалены имена выписанных гостей из файла guest.txt? Если нет, вернитесь и отредактируйте свой код, убедившись, что заполняете пропуски соответствующим образом, чтобы выписанные гости были правильно удалены из файла guest.txt. После того, как выписанные гости будут успешно удалены, вы правильно заполнили пропущенный код. Потрясающие! Теперь давайте проверим, зарегистрированы ли Боб и Андреа. Как мы могли это сделать? Мы просто прочитаем каждую строку в файле, чтобы увидеть, есть ли там их имя. Запустите следующий код, чтобы проверить, все ли проверены Боб и Андреа."
   ]
  },
  {
   "cell_type": "code",
   "execution_count": null,
   "metadata": {},
   "outputs": [],
   "source": [
    "guests_to_check = ['Bob', 'Andrea']\n",
    "checked_in = []\n",
    "\n",
    "with open(\"guests.txt\",\"r\") as guests:\n",
    "    for g in guests:\n",
    "        checked_in.append(g.strip())\n",
    "    for check in guests_to_check:\n",
    "        if check in checked_in:\n",
    "            print(\"{} is checked in\".format(check))\n",
    "        else:\n",
    "            print(\"{} is not checked in\".format(check))"
   ]
  },
  {
   "cell_type": "code",
   "execution_count": null,
   "metadata": {},
   "outputs": [],
   "source": []
  }
 ],
 "metadata": {
  "kernelspec": {
   "display_name": "Python 3",
   "language": "python",
   "name": "python3"
  },
  "language_info": {
   "codemirror_mode": {
    "name": "ipython",
    "version": 3
   },
   "file_extension": ".py",
   "mimetype": "text/x-python",
   "name": "python",
   "nbconvert_exporter": "python",
   "pygments_lexer": "ipython3",
   "version": "3.7.6"
  }
 },
 "nbformat": 4,
 "nbformat_minor": 4
}
